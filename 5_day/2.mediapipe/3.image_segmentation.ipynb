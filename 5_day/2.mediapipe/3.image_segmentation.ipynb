{
  "cells": [
    {
      "cell_type": "markdown",
      "metadata": {
        "id": "L_cQX8dWu4Dv"
      },
      "source": [
        "# 이미지 분할기"
      ]
    },
    {
      "cell_type": "markdown",
      "metadata": {
        "id": "O6PN9FvIx614"
      },
      "source": [
        "## 가져오기 및 설정\n",
        "이 MediaPipe 샘플을 실행하기 위한 기본 가져오기부터 시작해 보겠습니다."
      ]
    },
    {
      "cell_type": "code",
      "execution_count": null,
      "metadata": {
        "id": "gxbHBsF-8Y_l"
      },
      "outputs": [],
      "source": [
        "!pip install -q mediapipe==0.10.0"
      ]
    },
    {
      "cell_type": "markdown",
      "metadata": {
        "id": "a49D7h4TVmru"
      },
      "source": [
        "## 이미지 분할기 모델 다운로드"
      ]
    },
    {
      "cell_type": "markdown",
      "metadata": {
        "id": "QHXsuWDxpOj4"
      },
      "source": [
        "다음으로 해야 할 일은 이 데모에 사용될 이미지 분할 모델을 다운로드하는 것입니다. 이 경우 DeepLab v3 모델을 사용합니다."
      ]
    },
    {
      "cell_type": "code",
      "execution_count": null,
      "metadata": {
        "id": "OMjuVQiDYJKF"
      },
      "outputs": [],
      "source": [
        "#@title 여기에서 다운로드를 시작하세요.\n",
        "!wget -O deeplabv3.tflite -q https://storage.googleapis.com/mediapipe-models/image_segmenter/deeplab_v3/float32/1/deeplab_v3.tflite"
      ]
    },
    {
      "cell_type": "markdown",
      "metadata": {
        "id": "83PEJNp9yPBU"
      },
      "source": [
        "## 테스트 이미지 다운로드\n",
        "\n",
        "모델을 다운로드한 후에는 테스트에 사용할 수 있는 이미지를 가져와야 합니다! 단일 이미지로 작업하는 동안 `IMAGE_FILENAMES` 배열에 저장할 이미지 모음을 다운로드할 수 있다는 점은 주목할 가치가 있습니다."
      ]
    },
    {
      "cell_type": "code",
      "execution_count": null,
      "metadata": {
        "id": "tzXuqyIBlXer"
      },
      "outputs": [],
      "source": [
        "import urllib\n",
        "\n",
        "IMAGE_FILENAMES = ['segmentation_input_rotation0.jpg']\n",
        "\n",
        "for name in IMAGE_FILENAMES:\n",
        "  url = f'https://storage.googleapis.com/mediapipe-assets/{name}'\n",
        "  urllib.request.urlretrieve(url, name)"
      ]
    },
    {
      "cell_type": "markdown",
      "metadata": {
        "id": "P8XRmapjySMN"
      },
      "source": [
        "## 다운로드한 이미지 미리보기"
      ]
    },
    {
      "cell_type": "markdown",
      "metadata": {
        "id": "Eu_q-Z03r-ed"
      },
      "source": [
        "테스트 이미지를 다운로드한 후 표시해 보세요."
      ]
    },
    {
      "cell_type": "code",
      "execution_count": null,
      "metadata": {
        "id": "8rjHk72-lmHX"
      },
      "outputs": [],
      "source": [
        "import cv2\n",
        "from google.colab.patches import cv2_imshow\n",
        "import math\n",
        "\n",
        "# Height and width that will be used by the model\n",
        "DESIRED_HEIGHT = 480\n",
        "DESIRED_WIDTH = 480\n",
        "\n",
        "# Performs resizing and showing the image\n",
        "def resize_and_show(image):\n",
        "  h, w = image.shape[:2]\n",
        "  if h < w:\n",
        "    img = cv2.resize(image, (DESIRED_WIDTH, math.floor(h/(w/DESIRED_WIDTH))))\n",
        "  else:\n",
        "    img = cv2.resize(image, (math.floor(w/(h/DESIRED_HEIGHT)), DESIRED_HEIGHT))\n",
        "  cv2_imshow(img)\n",
        "\n",
        "\n",
        "# Preview the image(s)\n",
        "images = {name: cv2.imread(name) for name in IMAGE_FILENAMES}\n",
        "for name, image in images.items():\n",
        "  print(name)\n",
        "  resize_and_show(image)"
      ]
    },
    {
      "cell_type": "markdown",
      "metadata": {
        "id": "Iy4r2_ePylIa"
      },
      "source": [
        "## 추론 실행 및 결과 시각화\n",
        "이미지 분할 MediaPipe 작업을 사용하여 추론을 실행하려면 모델을 사용하여 'ImageSegmenter'를 초기화해야 합니다. 이 예에서는 이미지의 배경과 전경을 분리하고 별도의 색상을 적용하여 각각의 독특한 영역이 존재하는 부분을 강조합니다. 여기서 이미지 분할은 신뢰도에 따라 발견된 각 항목에 카테고리를 적용하는 카테고리 마스크를 사용합니다."
      ]
    },
    {
      "cell_type": "code",
      "execution_count": null,
      "metadata": {
        "id": "Yl_Oiye4mUuo"
      },
      "outputs": [],
      "source": [
        "import numpy as np\n",
        "import mediapipe as mp\n",
        "\n",
        "from mediapipe.tasks import python\n",
        "from mediapipe.tasks.python import vision\n",
        "\n",
        "\n",
        "BG_COLOR = (192, 192, 192) # gray\n",
        "MASK_COLOR = (255, 255, 255) # white\n",
        "\n",
        "\n",
        "# Create the options that will be used for ImageSegmenter\n",
        "base_options = python.BaseOptions(model_asset_path='deeplabv3.tflite')\n",
        "options = vision.ImageSegmenterOptions(base_options=base_options,\n",
        "                                       output_category_mask=True)\n",
        "\n",
        "# Create the image segmenter\n",
        "with vision.ImageSegmenter.create_from_options(options) as segmenter:\n",
        "\n",
        "  # Loop through demo image(s)\n",
        "  for image_file_name in IMAGE_FILENAMES:\n",
        "\n",
        "    # Create the MediaPipe image file that will be segmented\n",
        "    image = mp.Image.create_from_file(image_file_name)\n",
        "\n",
        "    # Retrieve the masks for the segmented image\n",
        "    segmentation_result = segmenter.segment(image)\n",
        "    category_mask = segmentation_result.category_mask\n",
        "\n",
        "    # Generate solid color images for showing the output segmentation mask.\n",
        "    image_data = image.numpy_view()\n",
        "    fg_image = np.zeros(image_data.shape, dtype=np.uint8)\n",
        "    fg_image[:] = MASK_COLOR\n",
        "    bg_image = np.zeros(image_data.shape, dtype=np.uint8)\n",
        "    bg_image[:] = BG_COLOR\n",
        "\n",
        "    condition = np.stack((category_mask.numpy_view(),) * 3, axis=-1) > 0.2\n",
        "    output_image = np.where(condition, fg_image, bg_image)\n",
        "\n",
        "    print(f'Segmentation mask of {name}:')\n",
        "    resize_and_show(output_image)"
      ]
    },
    {
      "cell_type": "markdown",
      "metadata": {
        "id": "-RxsX2CjJbfo"
      },
      "source": [
        "이제 이미지의 전경과 배경을 분리하는 방법을 알았으니 한 단계 더 나아가 Google 행아웃에서 제공하는 것과 유사한 효과를 위해 배경을 흐리게 해 보겠습니다."
      ]
    },
    {
      "cell_type": "code",
      "execution_count": null,
      "metadata": {
        "id": "ciCGwCQ3gNDc"
      },
      "outputs": [],
      "source": [
        "# Blur the image background based on the segmentation mask.\n",
        "\n",
        "# Create the segmenter\n",
        "with python.vision.ImageSegmenter.create_from_options(options) as segmenter:\n",
        "\n",
        "  # Loop through available image(s)\n",
        "  for image_file_name in IMAGE_FILENAMES:\n",
        "\n",
        "    # Create the MediaPipe Image\n",
        "    image = mp.Image.create_from_file(image_file_name)\n",
        "\n",
        "    # Retrieve the category masks for the image\n",
        "    segmentation_result = segmenter.segment(image)\n",
        "    category_mask = segmentation_result.category_mask\n",
        "\n",
        "    # Convert the BGR image to RGB\n",
        "    image_data = cv2.cvtColor(image.numpy_view(), cv2.COLOR_BGR2RGB)\n",
        "\n",
        "    # Apply effects\n",
        "    blurred_image = cv2.GaussianBlur(image_data, (55,55), 0)\n",
        "    condition = np.stack((category_mask.numpy_view(),) * 3, axis=-1) > 0.1\n",
        "    output_image = np.where(condition, image_data, blurred_image)\n",
        "\n",
        "    print(f'Blurred background of {image_file_name}:')\n",
        "    resize_and_show(output_image)"
      ]
    },
    {
      "cell_type": "code",
      "execution_count": null,
      "metadata": {
        "id": "8evBYbOZk6u4"
      },
      "outputs": [],
      "source": []
    }
  ],
  "metadata": {
    "colab": {
      "provenance": []
    },
    "kernelspec": {
      "display_name": "Python 3 (ipykernel)",
      "language": "python",
      "name": "python3"
    },
    "language_info": {
      "codemirror_mode": {
        "name": "ipython",
        "version": 3
      },
      "file_extension": ".py",
      "mimetype": "text/x-python",
      "name": "python",
      "nbconvert_exporter": "python",
      "pygments_lexer": "ipython3",
      "version": "3.8.10"
    }
  },
  "nbformat": 4,
  "nbformat_minor": 0
}