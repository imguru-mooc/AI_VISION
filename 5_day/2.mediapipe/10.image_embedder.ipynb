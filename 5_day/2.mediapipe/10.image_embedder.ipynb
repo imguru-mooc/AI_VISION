{
  "cells": [
    {
      "cell_type": "markdown",
      "metadata": {
        "id": "L_cQX8dWu4Dv"
      },
      "source": [
        "# MediaPipe 작업을 사용한 이미지 삽입\n",
        "\n",
        "이 노트북은 MediaPipe Tasks Python API를 사용하여 두 개의 개별 이미지 파일을 비교하여 얼마나 유사한지 확인하는 방법을 보여줍니다. 이 값의 범위는 -1부터 1까지이며 1은 동일한 이미지입니다. 이는 코사인 유사성이라는 기술을 통해 수행됩니다."
      ]
    },
    {
      "cell_type": "markdown",
      "metadata": {
        "id": "O6PN9FvIx614"
      },
      "source": [
        "## 준비\n",
        "프로젝트에 필요한 종속성을 설치하여 시작할 수 있습니다.\n"
      ]
    },
    {
      "cell_type": "code",
      "execution_count": null,
      "metadata": {
        "id": "gxbHBsF-8Y_l"
      },
      "outputs": [],
      "source": [
        "!pip install -q mediapipe==0.10.0"
      ]
    },
    {
      "cell_type": "markdown",
      "metadata": {
        "id": "a49D7h4TVmru"
      },
      "source": [
        "다음 단계에서는 이미지 임베딩에 사용할 기성 모델을 다운로드하는 것입니다. 이 경우 mobilenet을 사용하지만 다른 적절한 모델이나 MediaPipe 작업을 통해 고유한 특정 사용 사례에 맞게 구축한 모델을 사용할 수 있습니다."
      ]
    },
    {
      "cell_type": "code",
      "execution_count": null,
      "metadata": {
        "id": "OMjuVQiDYJKF"
      },
      "outputs": [],
      "source": [
        "!wget -O embedder.tflite -q https://storage.googleapis.com/mediapipe-models/image_embedder/mobilenet_v3_small/float32/1/mobilenet_v3_small.tflite"
      ]
    },
    {
      "cell_type": "markdown",
      "metadata": {
        "id": "83PEJNp9yPBU"
      },
      "source": [
        "최종 준비 단계에서는 비교할 수 있는 두 개의 별도 이미지가 필요합니다. 다음 코드를 통해 제공된 두 개의 이미지를 다운로드하거나 다른 위치에서 직접 다운로드할 수 있습니다."
      ]
    },
    {
      "cell_type": "code",
      "execution_count": null,
      "metadata": {
        "id": "tzXuqyIBlXer"
      },
      "outputs": [],
      "source": [
        "import urllib\n",
        "\n",
        "IMAGE_FILENAMES = ['burger.jpg', 'burger_crop.jpg']\n",
        "\n",
        "for name in IMAGE_FILENAMES:\n",
        "  url = f'https://storage.googleapis.com/mediapipe-assets/{name}'\n",
        "  urllib.request.urlretrieve(url, name)"
      ]
    },
    {
      "cell_type": "markdown",
      "metadata": {
        "id": "P8XRmapjySMN"
      },
      "source": [
        "# 이미지 임베딩 수행\n",
        "비교할 두 이미지를 검색했으므로 이제 표시하여 올바른지 확인할 수 있습니다. 이 예에서는 서로 다르지만 비슷한 두 개의 햄버거 사진이 표시됩니다."
      ]
    },
    {
      "cell_type": "code",
      "execution_count": null,
      "metadata": {
        "id": "8rjHk72-lmHX"
      },
      "outputs": [],
      "source": [
        "import cv2\n",
        "from google.colab.patches import cv2_imshow\n",
        "import math\n",
        "\n",
        "DESIRED_HEIGHT = 480\n",
        "DESIRED_WIDTH = 480\n",
        "\n",
        "def resize_and_show(image):\n",
        "  h, w = image.shape[:2]\n",
        "  if h < w:\n",
        "    img = cv2.resize(image, (DESIRED_WIDTH, math.floor(h/(w/DESIRED_WIDTH))))\n",
        "  else:\n",
        "    img = cv2.resize(image, (math.floor(w/(h/DESIRED_HEIGHT)), DESIRED_HEIGHT))\n",
        "  cv2_imshow(img)\n",
        "\n",
        "\n",
        "# Preview the images.\n",
        "images = {name: cv2.imread(name) for name in IMAGE_FILENAMES}\n",
        "for name, image in images.items():\n",
        "  print(name)\n",
        "  resize_and_show(image)"
      ]
    },
    {
      "cell_type": "markdown",
      "metadata": {
        "id": "Iy4r2_ePylIa"
      },
      "source": [
        "모든 것이 좋아지면 추론 수행을 시작할 수 있습니다. 먼저 모델을 Image Embedder와 연결하는 데 필요한 옵션과 일부 사용자 정의를 생성합니다.\n",
        "\n",
        "다음으로 이미지 임베더를 생성한 다음 코사인 유사성을 사용하여 비교할 수 있도록 MediaPipe에 대한 두 이미지의 형식을 지정합니다.\n",
        "\n",
        "마지막으로 유사성 값을 표시합니다."
      ]
    },
    {
      "cell_type": "code",
      "execution_count": null,
      "metadata": {
        "id": "Yl_Oiye4mUuo"
      },
      "outputs": [],
      "source": [
        "import mediapipe as mp\n",
        "from mediapipe.tasks import python\n",
        "from mediapipe.tasks.python import vision\n",
        "\n",
        "# Create options for Image Embedder\n",
        "base_options = python.BaseOptions(model_asset_path='embedder.tflite')\n",
        "l2_normalize = True #@param {type:\"boolean\"}\n",
        "quantize = True #@param {type:\"boolean\"}\n",
        "options = vision.ImageEmbedderOptions(\n",
        "    base_options=base_options, l2_normalize=l2_normalize, quantize=quantize)\n",
        "\n",
        "\n",
        "# Create Image Embedder\n",
        "with vision.ImageEmbedder.create_from_options(options) as embedder:\n",
        "\n",
        "  # Format images for MediaPipe\n",
        "  first_image = mp.Image.create_from_file(IMAGE_FILENAMES[0])\n",
        "  second_image = mp.Image.create_from_file(IMAGE_FILENAMES[1])\n",
        "  first_embedding_result = embedder.embed(first_image)\n",
        "  second_embedding_result = embedder.embed(second_image)\n",
        "\n",
        "  # Calculate and print similarity\n",
        "  similarity = vision.ImageEmbedder.cosine_similarity(\n",
        "      first_embedding_result.embeddings[0],\n",
        "      second_embedding_result.embeddings[0])\n",
        "  print(similarity)"
      ]
    },
    {
      "cell_type": "code",
      "execution_count": null,
      "metadata": {
        "id": "M0zj8q2CcLaR"
      },
      "outputs": [],
      "source": []
    }
  ],
  "metadata": {
    "colab": {
      "provenance": []
    },
    "kernelspec": {
      "display_name": "Python 3 (ipykernel)",
      "language": "python",
      "name": "python3"
    },
    "language_info": {
      "codemirror_mode": {
        "name": "ipython",
        "version": 3
      },
      "file_extension": ".py",
      "mimetype": "text/x-python",
      "name": "python",
      "nbconvert_exporter": "python",
      "pygments_lexer": "ipython3",
      "version": "3.8.10"
    }
  },
  "nbformat": 4,
  "nbformat_minor": 0
}