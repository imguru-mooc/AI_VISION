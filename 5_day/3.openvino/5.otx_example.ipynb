{
  "cells": [
    {
      "cell_type": "markdown",
      "metadata": {
        "id": "p0o43qTBldTX"
      },
      "source": [
        "### otx 패키지 다운로드"
      ]
    },
    {
      "cell_type": "code",
      "execution_count": null,
      "metadata": {
        "colab": {
          "base_uri": "https://localhost:8080/"
        },
        "id": "4jLQN1ugh7XY",
        "outputId": "a848507d-1f06-4b48-e244-601dbb3e4d97"
      },
      "outputs": [],
      "source": [
        "!git clone https://github.com/openvinotoolkit/training_extensions.git"
      ]
    },
    {
      "cell_type": "code",
      "execution_count": null,
      "metadata": {
        "colab": {
          "base_uri": "https://localhost:8080/"
        },
        "id": "LWIjgUpKIKza",
        "outputId": "c6a462c8-032a-49a0-b350-8a064b21b487"
      },
      "outputs": [],
      "source": [
        "%cd training_extensions"
      ]
    },
    {
      "cell_type": "markdown",
      "metadata": {
        "id": "_xdO4ASXlTjg"
      },
      "source": [
        "### OTX 설치"
      ]
    },
    {
      "cell_type": "code",
      "execution_count": null,
      "metadata": {
        "colab": {
          "base_uri": "https://localhost:8080/",
          "height": 1000
        },
        "id": "4VDE_rtccBQw",
        "outputId": "6eccc016-8a01-4f44-8d85-3b68d5511cdc"
      },
      "outputs": [],
      "source": [
        "!pip install  otx[full]"
      ]
    },
    {
      "cell_type": "code",
      "execution_count": null,
      "metadata": {
        "colab": {
          "base_uri": "https://localhost:8080/"
        },
        "id": "roLa3a4k1UE2",
        "outputId": "0ce36d0b-173f-4e06-bf31-46af031e6f3d"
      },
      "outputs": [],
      "source": [
        "!pip install mmcv-full==1.7.1"
      ]
    },
    {
      "cell_type": "markdown",
      "metadata": {
        "id": "52AKUJFJllhW"
      },
      "source": [
        "### Classification"
      ]
    },
    {
      "cell_type": "code",
      "execution_count": null,
      "metadata": {
        "colab": {
          "base_uri": "https://localhost:8080/"
        },
        "id": "-OVCy7UNl-4A",
        "outputId": "ea1c7909-b794-4aa1-d16e-b85435b11c5a"
      },
      "outputs": [],
      "source": [
        "%cd /content"
      ]
    },
    {
      "cell_type": "code",
      "execution_count": null,
      "metadata": {
        "id": "qYm9Vz5-L7v7"
      },
      "outputs": [],
      "source": [
        "!mkdir data"
      ]
    },
    {
      "cell_type": "code",
      "execution_count": null,
      "metadata": {
        "colab": {
          "base_uri": "https://localhost:8080/"
        },
        "id": "KNlymOBIeuq3",
        "outputId": "edd3054d-7cc8-49f7-cfe7-eb6e92827bfd"
      },
      "outputs": [],
      "source": [
        "import os\n",
        "import tensorflow as tf\n",
        "_URL = 'https://storage.googleapis.com/mledu-datasets/cats_and_dogs_filtered.zip'\n",
        "path_to_zip = tf.keras.utils.get_file('cats_and_dogs.zip', origin=_URL, extract=True)\n",
        "PATH = os.path.join(os.path.dirname(path_to_zip), 'cats_and_dogs_filtered')\n",
        "\n",
        "train_dir = os.path.join(PATH, 'train')\n",
        "validation_dir = os.path.join(PATH, 'validation')"
      ]
    },
    {
      "cell_type": "code",
      "execution_count": null,
      "metadata": {
        "id": "muWFtRpNihhW"
      },
      "outputs": [],
      "source": [
        "!mv /root/.keras/datasets/cats_and_dogs_filtered/train /content/data/cats_and_dogs"
      ]
    },
    {
      "cell_type": "code",
      "execution_count": null,
      "metadata": {
        "colab": {
          "base_uri": "https://localhost:8080/"
        },
        "id": "z2l6rwnPi9mv",
        "outputId": "fce375b7-7ece-4403-b459-8643e135d939"
      },
      "outputs": [],
      "source": [
        "!ls /content/data/cats_and_dogs"
      ]
    },
    {
      "cell_type": "code",
      "execution_count": null,
      "metadata": {
        "colab": {
          "base_uri": "https://localhost:8080/"
        },
        "id": "-93wmU-0nJxL",
        "outputId": "0c40dbd2-87ca-4718-e210-6ae083669f61"
      },
      "outputs": [],
      "source": [
        "!otx find --template --task CLASSIFICATION"
      ]
    },
    {
      "cell_type": "code",
      "execution_count": null,
      "metadata": {
        "colab": {
          "base_uri": "https://localhost:8080/"
        },
        "id": "MEkfDOCfpQUm",
        "outputId": "ceccf5cc-836e-4ff4-e732-04792f1fe5a9"
      },
      "outputs": [],
      "source": [
        "!otx build --train-data-roots /content/data/cats_and_dogs --model MobileNet-V3-large-1x"
      ]
    },
    {
      "cell_type": "code",
      "execution_count": null,
      "metadata": {
        "colab": {
          "base_uri": "https://localhost:8080/"
        },
        "id": "CegESAbFu5Dv",
        "outputId": "9f10072a-40cb-47a2-c06d-a679172243e6"
      },
      "outputs": [],
      "source": [
        "%cd otx-workspace-CLASSIFICATION"
      ]
    },
    {
      "cell_type": "code",
      "execution_count": null,
      "metadata": {
        "colab": {
          "base_uri": "https://localhost:8080/"
        },
        "id": "wh0igIXW_gCw",
        "outputId": "38e08f92-05af-40dc-8f6e-23b17609c9ad"
      },
      "outputs": [],
      "source": [
        "!otx train"
      ]
    },
    {
      "cell_type": "code",
      "execution_count": null,
      "metadata": {
        "colab": {
          "base_uri": "https://localhost:8080/"
        },
        "id": "kbAiMV92p76l",
        "outputId": "fb72cb16-e4e8-4fb0-c53b-02e51da06ba4"
      },
      "outputs": [],
      "source": [
        "!otx export --load-weights outputs/latest_trained_model/models/weights.pth --output openvino_model"
      ]
    },
    {
      "cell_type": "code",
      "execution_count": null,
      "metadata": {
        "colab": {
          "base_uri": "https://localhost:8080/"
        },
        "id": "oU9e1mgfqWZe",
        "outputId": "2ae8bd63-49ef-43c9-b99e-56aae4af5001"
      },
      "outputs": [],
      "source": [
        "!otx deploy template.yaml --load-weights openvino_model/openvino.xml --output outputs/deploy"
      ]
    },
    {
      "cell_type": "code",
      "execution_count": null,
      "metadata": {
        "id": "3qsS_-WF-NlQ"
      },
      "outputs": [],
      "source": [
        "!cp outputs/deploy/openvino.zip .."
      ]
    },
    {
      "cell_type": "code",
      "execution_count": null,
      "metadata": {
        "colab": {
          "base_uri": "https://localhost:8080/"
        },
        "id": "kXMI3DXukTwU",
        "outputId": "32e043b7-0e2a-4ea8-8901-ace94c469ea7"
      },
      "outputs": [],
      "source": [
        "%cd .."
      ]
    },
    {
      "cell_type": "code",
      "execution_count": null,
      "metadata": {
        "colab": {
          "base_uri": "https://localhost:8080/"
        },
        "id": "UGWapQmr-QsG",
        "outputId": "9e62b1fe-cda8-4718-9815-5310c9c274d1"
      },
      "outputs": [],
      "source": [
        "!unzip openvino.zip"
      ]
    },
    {
      "cell_type": "code",
      "execution_count": null,
      "metadata": {
        "colab": {
          "base_uri": "https://localhost:8080/",
          "height": 452
        },
        "id": "0YaUzQQu-RPh",
        "outputId": "d53c2b62-d1b6-4ed7-fb14-d49afe5e7b24"
      },
      "outputs": [],
      "source": [
        "import cv2\n",
        "import matplotlib.pyplot as plt\n",
        "import numpy as np\n",
        "from openvino.runtime import Core\n",
        "from pathlib import Path\n",
        "\n",
        "filename=\"/content/data/cats_and_dogs/cats/cat.51.jpg\"\n",
        "model_xml_path = 'model/model.xml'\n",
        "model_bin_path = 'model/model.bin'\n",
        "ie = Core()\n",
        "model = ie.read_model(model=model_xml_path)\n",
        "compiled_model = ie.compile_model(model=model, device_name=\"CPU\")\n",
        "output_layer = compiled_model.output(0)\n",
        "image = cv2.imread(filename=filename)\n",
        "resized_image = cv2.resize(image, (224, 224))\n",
        "input_image = np.expand_dims(resized_image.transpose(2, 0, 1), 0)\n",
        "result_infer = compiled_model([input_image])[output_layer]\n",
        "result_index = np.argmax(result_infer)\n",
        "\n",
        "input_image = np.expand_dims(input_image, 0)\n",
        "plt.imshow(cv2.cvtColor(image, code=cv2.COLOR_BGR2RGB))\n",
        "label_name=['cat', 'dog']\n",
        "target_str = label_name[result_index]\n",
        "plt.title(label_name[result_index])\n",
        "plt.show()"
      ]
    },
    {
      "cell_type": "markdown",
      "metadata": {
        "id": "4r0m4fRTmIZ6"
      },
      "source": [
        "### Object Detection"
      ]
    },
    {
      "cell_type": "code",
      "execution_count": null,
      "metadata": {
        "colab": {
          "base_uri": "https://localhost:8080/"
        },
        "id": "tkp8rENz_AEn",
        "outputId": "d469d855-8b53-407f-db4a-d53cfa8bd838"
      },
      "outputs": [],
      "source": [
        "!otx find --template --task DETECTION"
      ]
    },
    {
      "cell_type": "code",
      "execution_count": null,
      "metadata": {
        "colab": {
          "base_uri": "https://localhost:8080/"
        },
        "id": "9rJDySbJxANU",
        "outputId": "2e2d7069-b9b9-4e3d-9121-7d04d3f75d66"
      },
      "outputs": [],
      "source": [
        "%cd /content/data"
      ]
    },
    {
      "cell_type": "code",
      "execution_count": null,
      "metadata": {
        "colab": {
          "base_uri": "https://localhost:8080/"
        },
        "id": "m_2t8djBy7De",
        "outputId": "bdf0674f-44b0-4363-9cbd-7cdf2f901c39"
      },
      "outputs": [],
      "source": [
        "!git clone https://github.com/thsant/wgisd.git"
      ]
    },
    {
      "cell_type": "code",
      "execution_count": null,
      "metadata": {
        "colab": {
          "base_uri": "https://localhost:8080/"
        },
        "id": "k8Z5Bob_SIwJ",
        "outputId": "06e14241-0ccd-451f-8964-39e5f737653f"
      },
      "outputs": [],
      "source": [
        "%cd /content/data/wgisd\n",
        "!mv data images\n",
        "!mv coco_annotations annotations\n",
        "!mv annotations/test_bbox_instances.json annotations/instances_val.json\n",
        "!mv annotations/train_bbox_instances.json annotations/instances_train.json"
      ]
    },
    {
      "cell_type": "code",
      "execution_count": null,
      "metadata": {
        "colab": {
          "base_uri": "https://localhost:8080/"
        },
        "id": "VwduKUuD6KrQ",
        "outputId": "b6f463fd-f969-4680-a8de-305be1089584"
      },
      "outputs": [],
      "source": [
        "%cd /content"
      ]
    },
    {
      "cell_type": "code",
      "execution_count": null,
      "metadata": {
        "colab": {
          "base_uri": "https://localhost:8080/"
        },
        "id": "VbmID0OCYKLE",
        "outputId": "5796214e-5aab-4db9-ab0a-b454f42f6bef"
      },
      "outputs": [],
      "source": [
        "!otx build --train-data-roots /content/data/wgisd --model MobileNetV2-ATSS"
      ]
    },
    {
      "cell_type": "code",
      "execution_count": null,
      "metadata": {
        "colab": {
          "base_uri": "https://localhost:8080/"
        },
        "id": "K8hHHWDKsrtR",
        "outputId": "0729251c-27f7-41df-97e1-0ad605972739"
      },
      "outputs": [],
      "source": [
        "%cd /content/otx-workspace-DETECTION/"
      ]
    },
    {
      "cell_type": "code",
      "execution_count": null,
      "metadata": {
        "colab": {
          "base_uri": "https://localhost:8080/"
        },
        "id": "v4AmhY3M5Z2w",
        "outputId": "7030c816-f9e8-461c-caed-2d413ead2cb8"
      },
      "outputs": [],
      "source": [
        "!otx train"
      ]
    },
    {
      "cell_type": "code",
      "execution_count": null,
      "metadata": {
        "colab": {
          "base_uri": "https://localhost:8080/"
        },
        "id": "D-ozNmAP5dp1",
        "outputId": "66e33d26-f5ba-4475-8985-89c399a38474"
      },
      "outputs": [],
      "source": [
        "!otx export --load-weights outputs/latest_trained_model/models/weights.pth --output openvino_model"
      ]
    },
    {
      "cell_type": "code",
      "execution_count": null,
      "metadata": {
        "colab": {
          "base_uri": "https://localhost:8080/"
        },
        "id": "NcRCiJ_e-coG",
        "outputId": "ee6375ba-47ce-4e53-b9e3-104c157680f0"
      },
      "outputs": [],
      "source": [
        "!otx deploy template.yaml --load-weights openvino_model/openvino.xml --output outputs/deploy"
      ]
    },
    {
      "cell_type": "code",
      "execution_count": null,
      "metadata": {
        "colab": {
          "base_uri": "https://localhost:8080/"
        },
        "id": "PsL7XPY5_LYA",
        "outputId": "095cc3cf-731e-4c69-d826-81e0ccf71b8e"
      },
      "outputs": [],
      "source": [
        "%cd /content/otx-workspace-DETECTION"
      ]
    },
    {
      "cell_type": "code",
      "execution_count": null,
      "metadata": {
        "id": "fx-aynXyK5Tz"
      },
      "outputs": [],
      "source": [
        "!rm /content/openvino.zip"
      ]
    },
    {
      "cell_type": "code",
      "execution_count": null,
      "metadata": {
        "id": "9k-OusE--nH9"
      },
      "outputs": [],
      "source": [
        "!cp outputs/deploy/openvino.zip .."
      ]
    },
    {
      "cell_type": "code",
      "execution_count": null,
      "metadata": {
        "colab": {
          "base_uri": "https://localhost:8080/"
        },
        "id": "Jevsk20--9qy",
        "outputId": "9f916fb5-c4e1-45a7-f6ae-110041201a97"
      },
      "outputs": [],
      "source": [
        "%cd .."
      ]
    },
    {
      "cell_type": "code",
      "execution_count": null,
      "metadata": {
        "colab": {
          "base_uri": "https://localhost:8080/"
        },
        "id": "_CeprsqY_CgT",
        "outputId": "af313340-cd00-492e-98c7-407ad1d273cf"
      },
      "outputs": [],
      "source": [
        "!unzip openvino.zip -d test"
      ]
    },
    {
      "cell_type": "code",
      "execution_count": null,
      "metadata": {
        "colab": {
          "base_uri": "https://localhost:8080/"
        },
        "id": "xyexSBx__S79",
        "outputId": "559a0537-92e5-4aa3-e920-8cf90f3a8284"
      },
      "outputs": [],
      "source": [
        "%cd test"
      ]
    },
    {
      "cell_type": "code",
      "execution_count": null,
      "metadata": {
        "colab": {
          "base_uri": "https://localhost:8080/"
        },
        "id": "rcGZrHYe_WUg",
        "outputId": "4c12cbcb-d190-4159-9608-b0ea3d54bca5"
      },
      "outputs": [],
      "source": [
        "!ls"
      ]
    },
    {
      "cell_type": "code",
      "execution_count": null,
      "metadata": {
        "colab": {
          "base_uri": "https://localhost:8080/",
          "height": 414
        },
        "id": "RTVmMkq7AERv",
        "outputId": "78d96fcc-e2dc-48ec-9ecb-4c8ac3686c4e"
      },
      "outputs": [],
      "source": [
        "from re import X\n",
        "from cv2.gapi import YUV2RGB\n",
        "import cv2\n",
        "import matplotlib.pyplot as plt\n",
        "import numpy as np\n",
        "from openvino.runtime import Core\n",
        "from pathlib import Path\n",
        "\n",
        "filename=\"/content/data/wgisd/images/CDY_2017.jpg\"\n",
        "model_xml_path = 'model/model.xml'\n",
        "model_bin_path = 'model/model.bin'\n",
        "ie = Core()\n",
        "model = ie.read_model(model=model_xml_path)\n",
        "compiled_model = ie.compile_model(model=model, device_name=\"CPU\")\n",
        "output_layer = compiled_model.output(0)\n",
        "image = cv2.imread(filename=filename)\n",
        "print(image.shape)\n",
        "resized_image = cv2.resize(image, (992, 736))\n",
        "# resized_image = cv2.resize(image, (224,224))\n",
        "input_image = np.expand_dims(resized_image.transpose(2, 0, 1), 0)\n",
        "result_infer = compiled_model([input_image])[output_layer]\n",
        "# print(result_infer.shape)\n",
        "# print(result_infer[0,0:4])\n",
        "x_ratio = 992/image.shape[1]\n",
        "y_ratio = 736/image.shape[0]\n",
        "\n",
        "clone = image.copy()\n",
        "for info in result_infer[0]:\n",
        "    # print(info)\n",
        "\n",
        "    x1= int(info[0]//x_ratio)\n",
        "    y1= int(info[1]//y_ratio)\n",
        "    x2= int(info[2]//x_ratio)\n",
        "    y2= int(info[3]//y_ratio)\n",
        "    conf = info[4]\n",
        "    # print(x1,y1,x2,y2,conf)\n",
        "\n",
        "    if conf > 0.3:\n",
        "        cv2.rectangle(clone, (x1, y1), (x2, y2), (255, 0, 0), 2)\n",
        "\n",
        "\n",
        "# print(clone.shape)\n",
        "plt.imshow(cv2.cvtColor(clone, code=cv2.COLOR_BGR2RGB))\n",
        "\n",
        "plt.show()"
      ]
    }
  ],
  "metadata": {
    "accelerator": "GPU",
    "colab": {
      "gpuType": "T4",
      "provenance": []
    },
    "kernelspec": {
      "display_name": "Python 3",
      "name": "python3"
    },
    "language_info": {
      "name": "python"
    }
  },
  "nbformat": 4,
  "nbformat_minor": 0
}
