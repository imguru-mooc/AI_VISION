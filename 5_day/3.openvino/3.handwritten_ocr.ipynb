{
  "cells": [
    {
      "cell_type": "markdown",
      "id": "0293f65e",
      "metadata": {
        "id": "0293f65e"
      },
      "source": [
        "# OpenVINO™를 사용한 필기체 중국어 및 일본어 OCR\n",
        "\n",
        "이 튜토리얼에서는 필기체 중국어(간체)와 일본어에 대해 광학 문자 인식(OCR)을 수행합니다. 라틴 알파벳을 사용한 OCR 튜토리얼은 [노트북 208](../208-optical-character-recognition/208-optical-character-recognition.ipynb)에서 확인할 수 있습니다. 이 모델은 한 번에 한 줄의 기호만 처리할 수 있습니다.\n",
        "\n",
        "이 노트북에 사용된 모델은 [`handwriter-japanese-recognition-0001`](https://docs.openvino.ai/2023.0/omz_models_model_handwriter_japanese_recognition_0001.html) 및 [`handwriter-simplified-chinese-0001`](https: //docs.openvino.ai/2023.0/omz_models_model_handwriter_simplified_chinese_recognition_0001.html). 모델 출력을 읽을 수 있는 텍스트로 디코딩하려면 [`kondate_nakayosi`](https://github.com/openvinotoolkit/open_model_zoo/blob/master/data/dataset_classes/kondate_nakayosi.txt) 및 [`scut_ept`](https://github. com/openvinotoolkit/open_model_zoo/blob/master/data/dataset_classes/scut_ept.txt) 문자 목록이 사용됩니다. 두 모델 모두 [Open Model Zoo](https://github.com/openvinotoolkit/open_model_zoo/)에서 사용할 수 있습니다.\n",
        "\n",
        "#### 내용의 테이블:\n",
        "- [수입](#Imports-Uparrow)\n",
        "- [설정](#설정-위쪽 화살표)\n",
        "- [언어 선택](#Select-a-Language-Uparrow)\n",
        "- [모델 다운로드](#Download-the-Model-Uparrow)\n",
        "- [모델 로드 및 실행](#Load-the-Model-and-Execute-Uparrow)\n",
        "- [추론 장치 선택](#Select-inference-device-Uparrow)\n",
        "- [입력 및 출력 레이어에 대한 정보 가져오기](#Fetch-Information-About-Input-and-Output-Layers-Uparrow)\n",
        "- [이미지 로드](#Load-an-Image-Uparrow)\n",
        "- [입력 이미지 시각화](#Visualize-Input-Image-Uparrow)\n",
        "- [Charlist 준비](#Prepare-Charlist-Uparrow)\n",
        "- [추론 실행](#Run-Inference-Uparrow)\n",
        "- [출력 데이터 처리](#Process-the-Output-Data-Uparrow)\n",
        "- [출력물 인쇄](#Print-the-Output-Uparrow)"
      ]
    },
    {
      "cell_type": "code",
      "execution_count": null,
      "id": "b2642605",
      "metadata": {
        "id": "b2642605"
      },
      "outputs": [],
      "source": [
        "# Install openvino-dev package\n",
        "%pip install -q \"openvino>=2023.1.0\"\n",
        "%pip install -q matplotlib numpy"
      ]
    },
    {
      "cell_type": "markdown",
      "id": "fda2e1e0",
      "metadata": {
        "id": "fda2e1e0"
      },
      "source": [
        "## Imports [$\\Uparrow$](#Table-of-content:)\n"
      ]
    },
    {
      "cell_type": "code",
      "execution_count": null,
      "id": "e0a6a0d5",
      "metadata": {
        "jupyter": {
          "outputs_hidden": false
        },
        "pycharm": {
          "name": "#%%\n"
        },
        "id": "e0a6a0d5"
      },
      "outputs": [],
      "source": [
        "from collections import namedtuple\n",
        "from itertools import groupby\n",
        "\n",
        "import cv2\n",
        "import matplotlib.pyplot as plt\n",
        "import numpy as np\n",
        "import openvino as ov\n",
        "\n",
        "# Fetch `notebook_utils` module\n",
        "import urllib.request\n",
        "urllib.request.urlretrieve(\n",
        "    url='https://raw.githubusercontent.com/openvinotoolkit/openvino_notebooks/main/notebooks/utils/notebook_utils.py',\n",
        "    filename='notebook_utils.py'\n",
        ")\n",
        "from notebook_utils import download_file"
      ]
    },
    {
      "cell_type": "markdown",
      "id": "7a46517a",
      "metadata": {
        "id": "7a46517a"
      },
      "source": [
        "## 설정 [$\\Uparrow$](#목차:)\n",
        "\n",
        "이 노트북에 사용되는 모든 상수와 폴더를 설정하세요."
      ]
    },
    {
      "cell_type": "code",
      "execution_count": null,
      "id": "b50b2bad",
      "metadata": {
        "id": "b50b2bad"
      },
      "outputs": [],
      "source": [
        "# Directories where data will be placed.\n",
        "base_models_dir = \"models\"\n",
        "data_folder = \"data\"\n",
        "charlist_folder = f\"{data_folder}/text\"\n",
        "\n",
        "# Precision used by the model.\n",
        "precision = \"FP16\""
      ]
    },
    {
      "cell_type": "markdown",
      "id": "f3c93fed",
      "metadata": {
        "id": "f3c93fed"
      },
      "source": [
        "파일을 그룹화하려면 컬렉션을 정의해야 합니다. 이 경우 `namedtuple`을 사용하세요."
      ]
    },
    {
      "cell_type": "code",
      "execution_count": null,
      "id": "17402fcc",
      "metadata": {
        "id": "17402fcc"
      },
      "outputs": [],
      "source": [
        "Language = namedtuple(\n",
        "    typename=\"Language\", field_names=[\"model_name\", \"charlist_name\", \"demo_image_name\"]\n",
        ")\n",
        "chinese_files = Language(\n",
        "    model_name=\"handwritten-simplified-chinese-recognition-0001\",\n",
        "    charlist_name=\"chinese_charlist.txt\",\n",
        "    demo_image_name=\"handwritten_chinese_test.jpg\",\n",
        ")\n",
        "japanese_files = Language(\n",
        "    model_name=\"handwritten-japanese-recognition-0001\",\n",
        "    charlist_name=\"japanese_charlist.txt\",\n",
        "    demo_image_name=\"handwritten_japanese_test.png\",\n",
        ")"
      ]
    },
    {
      "cell_type": "markdown",
      "id": "8c61827c",
      "metadata": {
        "id": "8c61827c"
      },
      "source": [
        "## 언어 선택 [$\\Uparrow$](#목차:)\n",
        "\n",
        "선택 사항에 따라 아래 셀의 코드 줄을 변경해야 합니다.\n",
        "\n",
        "일본어 텍스트에 대해 OCR을 수행하려면 `언어 = \"일본어\"`를 설정하세요. 중국어의 경우 `언어 = \"중국어\"`를 설정하세요."
      ]
    },
    {
      "cell_type": "code",
      "execution_count": null,
      "id": "1d3b1190",
      "metadata": {
        "id": "1d3b1190"
      },
      "outputs": [],
      "source": [
        "# Select the language by using either language=\"chinese\" or language=\"japanese\".\n",
        "language = \"chinese\"\n",
        "\n",
        "languages = {\"chinese\": chinese_files, \"japanese\": japanese_files}\n",
        "\n",
        "selected_language = languages.get(language)"
      ]
    },
    {
      "cell_type": "markdown",
      "id": "750355d4",
      "metadata": {
        "id": "750355d4"
      },
      "source": [
        "## 모델 다운로드 [$\\Uparrow$](#목차:)\n",
        "\n",
        "이미지와 문자 목록 외에도 모델 파일을 다운로드해야 합니다. 아래 섹션에는 중국 또는 일본 모델을 다운로드하기 위한 셀이 있습니다.\n",
        "\n",
        "노트북을 처음 실행하는 경우 모델이 다운로드됩니다. 몇 분 정도 걸릴 수 있습니다.\n",
        "\n",
        "utils 패키지의 `download_file` 기능을 사용하면 자동으로 디렉토리 구조가 생성되고 선택한 모델 파일이 다운로드됩니다."
      ]
    },
    {
      "cell_type": "code",
      "execution_count": null,
      "id": "e8f266fa",
      "metadata": {
        "id": "e8f266fa"
      },
      "outputs": [],
      "source": [
        "path_to_model = download_file(\n",
        "    url=f'https://storage.openvinotoolkit.org/repositories/open_model_zoo/2023.0/models_bin/1/{selected_language.model_name}/{precision}/{selected_language.model_name}.xml',\n",
        "    directory=base_models_dir\n",
        ")\n",
        "_ = download_file(\n",
        "    url=f'https://storage.openvinotoolkit.org/repositories/open_model_zoo/2023.0/models_bin/1/{selected_language.model_name}/{precision}/{selected_language.model_name}.bin',\n",
        "    directory=base_models_dir\n",
        ")"
      ]
    },
    {
      "cell_type": "markdown",
      "id": "6d026308",
      "metadata": {
        "id": "6d026308"
      },
      "source": [
        "## 모델 로드 및 실행 [$\\Uparrow$](#목차:)\n",
        "\n",
        "모든 파일이 다운로드되고 언어가 선택되면 네트워크를 읽고 컴파일하여 추론을 실행합니다. 모델 경로는 선택한 언어에 따라 정의됩니다."
      ]
    },
    {
      "cell_type": "code",
      "execution_count": null,
      "id": "7114e467",
      "metadata": {
        "jupyter": {
          "outputs_hidden": false
        },
        "pycharm": {
          "name": "#%%\n"
        },
        "id": "7114e467"
      },
      "outputs": [],
      "source": [
        "core = ov.Core()\n",
        "model = core.read_model(model=path_to_model)"
      ]
    },
    {
      "cell_type": "markdown",
      "id": "9ecb4551",
      "metadata": {
        "id": "9ecb4551"
      },
      "source": [
        "## 추론 장치 선택 [$\\Uparrow$](#목차:)\n",
        "\n",
        "OpenVINO를 사용하여 추론을 실행하려면 드롭다운 목록에서 장치를 선택하세요."
      ]
    },
    {
      "cell_type": "code",
      "execution_count": null,
      "id": "aaef9cca-de02-49b3-9544-d1c9cfce7792",
      "metadata": {
        "id": "aaef9cca-de02-49b3-9544-d1c9cfce7792"
      },
      "outputs": [],
      "source": [
        "import ipywidgets as widgets\n",
        "\n",
        "device = widgets.Dropdown(\n",
        "    options=core.available_devices + [\"AUTO\"],\n",
        "    value='AUTO',\n",
        "    description='Device:',\n",
        "    disabled=False,\n",
        ")\n",
        "\n",
        "device"
      ]
    },
    {
      "cell_type": "code",
      "execution_count": null,
      "id": "024ad3a4",
      "metadata": {
        "id": "024ad3a4"
      },
      "outputs": [],
      "source": [
        "compiled_model = core.compile_model(model=model, device_name=device.value)"
      ]
    },
    {
      "cell_type": "markdown",
      "id": "3df5b652",
      "metadata": {
        "id": "3df5b652"
      },
      "source": [
        "## 입력 및 출력 레이어에 대한 정보 가져오기 [$\\Uparrow$](#목차:)\n",
        "\n",
        "이제 모델이 로드되었으므로 입력 및 출력 레이어(모양)에 대한 정보를 가져옵니다."
      ]
    },
    {
      "cell_type": "code",
      "execution_count": null,
      "id": "7d31411a",
      "metadata": {
        "id": "7d31411a"
      },
      "outputs": [],
      "source": [
        "recognition_output_layer = compiled_model.output(0)\n",
        "recognition_input_layer = compiled_model.input(0)"
      ]
    },
    {
      "cell_type": "markdown",
      "id": "41307bc7",
      "metadata": {
        "id": "41307bc7"
      },
      "source": [
        "## 이미지 로드 [$\\Uparrow$](#목차:)\n",
        "\n",
        "다음으로 이미지를 로드합니다. 모델은 단일 채널 이미지를 입력으로 예상하므로 이미지는 회색조로 읽혀집니다.\n",
        "\n",
        "입력 이미지를 로드한 후 필요한 입력 레이어 높이와 현재 이미지 높이 사이의 배율 비율을 계산하는 데 사용할 정보를 가져옵니다. 아래 셀에서는 글자의 비율을 유지하고 입력 모양에 맞게 이미지 크기가 조정되고 채워집니다."
      ]
    },
    {
      "cell_type": "code",
      "execution_count": null,
      "id": "afa1d51a",
      "metadata": {
        "id": "afa1d51a"
      },
      "outputs": [],
      "source": [
        "# Download the image from the openvino_notebooks storage based on the selected model.\n",
        "file_name = download_file(\n",
        "    \"https://storage.openvinotoolkit.org/repositories/openvino_notebooks/data/data/image/\" + selected_language.demo_image_name,\n",
        "    directory=data_folder\n",
        ")\n",
        "\n",
        "# Text detection models expect an image in grayscale format.\n",
        "# IMPORTANT! This model enables reading only one line at time.\n",
        "\n",
        "# Read the image.\n",
        "image = cv2.imread(filename=str(file_name), flags=cv2.IMREAD_GRAYSCALE)\n",
        "\n",
        "# Fetch the shape.\n",
        "image_height, _ = image.shape\n",
        "\n",
        "# B,C,H,W = batch size, number of channels, height, width.\n",
        "_, _, H, W = recognition_input_layer.shape\n",
        "\n",
        "# Calculate scale ratio between the input shape height and image height to resize the image.\n",
        "scale_ratio = H / image_height\n",
        "\n",
        "# Resize the image to expected input sizes.\n",
        "resized_image = cv2.resize(\n",
        "    image, None, fx=scale_ratio, fy=scale_ratio, interpolation=cv2.INTER_AREA\n",
        ")\n",
        "\n",
        "# Pad the image to match input size, without changing aspect ratio.\n",
        "resized_image = np.pad(\n",
        "    resized_image, ((0, 0), (0, W - resized_image.shape[1])), mode=\"edge\"\n",
        ")\n",
        "\n",
        "# Reshape to network input shape.\n",
        "input_image = resized_image[None, None, :, :]"
      ]
    },
    {
      "cell_type": "markdown",
      "id": "ba364bee",
      "metadata": {
        "id": "ba364bee"
      },
      "source": [
        "## 입력 이미지 시각화 [$\\Uparrow$](#목차:)\n",
        "\n",
        "전처리 후 이미지를 표시할 수 있습니다."
      ]
    },
    {
      "cell_type": "code",
      "execution_count": null,
      "id": "f7a8e437",
      "metadata": {
        "id": "f7a8e437"
      },
      "outputs": [],
      "source": [
        "plt.figure(figsize=(20, 1))\n",
        "plt.axis(\"off\")\n",
        "plt.imshow(resized_image, cmap=\"gray\", vmin=0, vmax=255);"
      ]
    },
    {
      "cell_type": "markdown",
      "id": "c6d4c642",
      "metadata": {
        "id": "c6d4c642"
      },
      "source": [
        "## Charlist 준비 [$\\Uparrow$](#목차:)\n",
        "\n",
        "모델이 로드되고 이미지가 준비되었습니다. 남은 유일한 요소는 다운로드되는 charlist입니다. 문자 목록을 사용하기 전에 문자 목록 시작 부분에 빈 기호를 추가해야 합니다. 이는 중국과 일본 모델 모두에서 예상됩니다."
      ]
    },
    {
      "cell_type": "code",
      "execution_count": null,
      "id": "8e35eae1",
      "metadata": {
        "id": "8e35eae1"
      },
      "outputs": [],
      "source": [
        "# Download the image from the openvino_notebooks storage based on the selected model.\n",
        "used_charlist_file = download_file(\n",
        "    \"https://storage.openvinotoolkit.org/repositories/openvino_notebooks/data/data/text/\" + selected_language.charlist_name,\n",
        "    directory=charlist_folder\n",
        ")"
      ]
    },
    {
      "cell_type": "code",
      "execution_count": null,
      "id": "2cb18186",
      "metadata": {
        "id": "2cb18186"
      },
      "outputs": [],
      "source": [
        "# Get a dictionary to encode the output, based on model documentation.\n",
        "used_charlist = selected_language.charlist_name\n",
        "\n",
        "# With both models, there should be blank symbol added at index 0 of each charlist.\n",
        "blank_char = \"~\"\n",
        "\n",
        "with used_charlist_file.open(mode=\"r\", encoding=\"utf-8\") as charlist:\n",
        "    letters = blank_char + \"\".join(line.strip() for line in charlist)"
      ]
    },
    {
      "cell_type": "markdown",
      "id": "b6a4da65",
      "metadata": {
        "id": "b6a4da65"
      },
      "source": [
        "## 추론 실행 [$\\Uparrow$](#목차:)\n",
        "\n",
        "이제 추론을 실행해 보세요. `compiled_model()` 함수는 모델 입력과 동일한 순서로 입력 목록을 가져옵니다. 그런 다음 출력 텐서에서 출력을 가져옵니다."
      ]
    },
    {
      "cell_type": "code",
      "execution_count": null,
      "id": "e44a9de4",
      "metadata": {
        "id": "e44a9de4"
      },
      "outputs": [],
      "source": [
        "# Run inference on the model\n",
        "predictions = compiled_model([input_image])[recognition_output_layer]"
      ]
    },
    {
      "cell_type": "markdown",
      "id": "03a40d22",
      "metadata": {
        "id": "03a40d22"
      },
      "source": [
        "## 출력 데이터 처리 [$\\Uparrow$](#목차:)\n",
        "\n",
        "모델의 출력은 `W x B x L` 형식입니다. 여기서:\n",
        "\n",
        "* W - 출력 시퀀스 길이\n",
        "* B - 배치 크기\n",
        "* L - Kondate 및 Nakayosi에서 지원되는 기호 전체에 대한 신뢰도 분포.\n",
        "\n",
        "사람이 더 쉽게 읽을 수 있는 형식을 얻으려면 확률이 가장 높은 기호를 선택하세요. [CTC 디코딩](https://towardsdatascience.com/beam-search-decoding-in-ctc-trained-neural-networks-5a889a3d85a7)의 한계로 인해 가장 높은 확률을 가질 것으로 예측되는 인덱스 목록을 보유하는 경우 ), 동시 기호를 제거한 다음 공백을 제거합니다.\n",
        "\n",
        "마지막으로 charlist의 해당 인덱스에서 기호를 가져옵니다."
      ]
    },
    {
      "cell_type": "code",
      "execution_count": null,
      "id": "da1b8bc5",
      "metadata": {
        "id": "da1b8bc5"
      },
      "outputs": [],
      "source": [
        "# Remove a batch dimension.\n",
        "predictions = np.squeeze(predictions)\n",
        "\n",
        "# Run the `argmax` function to pick the symbols with the highest probability.\n",
        "predictions_indexes = np.argmax(predictions, axis=1)"
      ]
    },
    {
      "cell_type": "code",
      "execution_count": null,
      "id": "f6730159",
      "metadata": {
        "id": "f6730159"
      },
      "outputs": [],
      "source": [
        "# Use the `groupby` function to remove concurrent letters, as required by CTC greedy decoding.\n",
        "output_text_indexes = list(groupby(predictions_indexes))\n",
        "\n",
        "# Remove grouper objects.\n",
        "output_text_indexes, _ = np.transpose(output_text_indexes, (1, 0))\n",
        "\n",
        "# Remove blank symbols.\n",
        "output_text_indexes = output_text_indexes[output_text_indexes != 0]\n",
        "\n",
        "# Assign letters to indexes from the output array.\n",
        "output_text = [letters[letter_index] for letter_index in output_text_indexes]"
      ]
    },
    {
      "cell_type": "markdown",
      "id": "ac88f622",
      "metadata": {
        "id": "ac88f622"
      },
      "source": [
        "## 출력 인쇄 [$\\Uparrow$](#목차:)\n",
        "\n",
        "이제 모델이 예측한 문자 목록이 있으므로 아래에 예측 텍스트가 인쇄된 이미지를 표시할 수 있습니다."
      ]
    },
    {
      "cell_type": "code",
      "execution_count": null,
      "id": "6f8a90f3",
      "metadata": {
        "id": "6f8a90f3"
      },
      "outputs": [],
      "source": [
        "plt.figure(figsize=(20, 1))\n",
        "plt.axis(\"off\")\n",
        "plt.imshow(resized_image, cmap=\"gray\", vmin=0, vmax=255)\n",
        "\n",
        "print(\"\".join(output_text))"
      ]
    },
    {
      "cell_type": "code",
      "source": [],
      "metadata": {
        "id": "WtIVPSMEhrSI"
      },
      "id": "WtIVPSMEhrSI",
      "execution_count": null,
      "outputs": []
    }
  ],
  "metadata": {
    "interpreter": {
      "hash": "ae617ccb002f72b3ab6d0069d721eac67ac2a969e83c083c4321cfcab0437cd1"
    },
    "kernelspec": {
      "display_name": "Python 3 (ipykernel)",
      "language": "python",
      "name": "python3"
    },
    "language_info": {
      "codemirror_mode": {
        "name": "ipython",
        "version": 3
      },
      "file_extension": ".py",
      "mimetype": "text/x-python",
      "name": "python",
      "nbconvert_exporter": "python",
      "pygments_lexer": "ipython3",
      "version": "3.10.12"
    },
    "colab": {
      "provenance": []
    }
  },
  "nbformat": 4,
  "nbformat_minor": 5
}