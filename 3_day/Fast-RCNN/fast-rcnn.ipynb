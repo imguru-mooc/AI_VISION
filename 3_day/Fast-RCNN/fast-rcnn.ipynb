{
 "cells": [
  {
   "attachments": {},
   "cell_type": "markdown",
   "metadata": {},
   "source": [
    "# Fast-RCNN\n",
    "------\n",
    "We didn't upload the score of this part because the RCNN related model usually needs pretraining to obtain good accuracy. However, the dataset for pretraining is too large for our computer and network speed, but we are curious how the pretrained model can perform so we decided to complete this model but with downloaded pretrain model which is illegal. In the following section, we'll use *PyTorch* instead of Tensorflow to implement the process.\n",
    "\n",
    "![Alt text](https://i.imgur.com/0gAX9ku.png \"Optional title\")"
   ]
  },
  {
   "attachments": {},
   "cell_type": "markdown",
   "metadata": {},
   "source": [
    "# Preprocessing\n",
    "------\n",
    "The dataset given is preprocessed with **selective search data**, but the post-processing code wasn't really useful, so we re-write it by ourself."
   ]
  },
  {
   "cell_type": "code",
   "execution_count": 1,
   "metadata": {
    "collapsed": true
   },
   "outputs": [],
   "source": [
    "import sys\n",
    "import pickle\n",
    "import tqdm\n",
    "import torch\n",
    "import torchvision\n",
    "import torch.nn as nn\n",
    "import numpy as np\n",
    "import matplotlib.pyplot as plt\n",
    "from torch.autograd import Variable\n",
    "from PIL import Image\n",
    "from tqdm import trange\n",
    "from utils import *\n",
    "from roi import *"
   ]
  },
  {
   "attachments": {},
   "cell_type": "markdown",
   "metadata": {},
   "source": [
    "First we load the given selective search data :"
   ]
  },
  {
   "cell_type": "code",
   "execution_count": 2,
   "metadata": {
    "collapsed": true
   },
   "outputs": [
    {
     "ename": "FileNotFoundError",
     "evalue": "[Errno 2] No such file or directory: 'data/train_data.pkl'",
     "output_type": "error",
     "traceback": [
      "\u001b[1;31m---------------------------------------------------------------------------\u001b[0m",
      "\u001b[1;31mFileNotFoundError\u001b[0m                         Traceback (most recent call last)",
      "Cell \u001b[1;32mIn[2], line 2\u001b[0m\n\u001b[0;32m      1\u001b[0m train_pkl_path \u001b[39m=\u001b[39m \u001b[39m'\u001b[39m\u001b[39mdata/train_data.pkl\u001b[39m\u001b[39m'\u001b[39m\n\u001b[1;32m----> 2\u001b[0m data \u001b[39m=\u001b[39m pickle\u001b[39m.\u001b[39mload(\u001b[39mopen\u001b[39;49m(train_pkl_path, \u001b[39m'\u001b[39;49m\u001b[39mrb\u001b[39;49m\u001b[39m'\u001b[39;49m))\n",
      "File \u001b[1;32mc:\\Users\\jikim\\miniconda3\\lib\\site-packages\\IPython\\core\\interactiveshell.py:282\u001b[0m, in \u001b[0;36m_modified_open\u001b[1;34m(file, *args, **kwargs)\u001b[0m\n\u001b[0;32m    275\u001b[0m \u001b[39mif\u001b[39;00m file \u001b[39min\u001b[39;00m {\u001b[39m0\u001b[39m, \u001b[39m1\u001b[39m, \u001b[39m2\u001b[39m}:\n\u001b[0;32m    276\u001b[0m     \u001b[39mraise\u001b[39;00m \u001b[39mValueError\u001b[39;00m(\n\u001b[0;32m    277\u001b[0m         \u001b[39mf\u001b[39m\u001b[39m\"\u001b[39m\u001b[39mIPython won\u001b[39m\u001b[39m'\u001b[39m\u001b[39mt let you open fd=\u001b[39m\u001b[39m{\u001b[39;00mfile\u001b[39m}\u001b[39;00m\u001b[39m by default \u001b[39m\u001b[39m\"\u001b[39m\n\u001b[0;32m    278\u001b[0m         \u001b[39m\"\u001b[39m\u001b[39mas it is likely to crash IPython. If you know what you are doing, \u001b[39m\u001b[39m\"\u001b[39m\n\u001b[0;32m    279\u001b[0m         \u001b[39m\"\u001b[39m\u001b[39myou can use builtins\u001b[39m\u001b[39m'\u001b[39m\u001b[39m open.\u001b[39m\u001b[39m\"\u001b[39m\n\u001b[0;32m    280\u001b[0m     )\n\u001b[1;32m--> 282\u001b[0m \u001b[39mreturn\u001b[39;00m io_open(file, \u001b[39m*\u001b[39;49margs, \u001b[39m*\u001b[39;49m\u001b[39m*\u001b[39;49mkwargs)\n",
      "\u001b[1;31mFileNotFoundError\u001b[0m: [Errno 2] No such file or directory: 'data/train_data.pkl'"
     ]
    }
   ],
   "source": [
    "train_pkl_path = 'data/train_data.pkl'\n",
    "data = pickle.load(open(train_pkl_path, 'rb'))"
   ]
  },
  {
   "attachments": {},
   "cell_type": "markdown",
   "metadata": {},
   "source": [
    "Then we collect the features stored in the given pickle to according arrays, and resize every images to **224x224**, so every picture become small and having same size, which is simple and efficient for training."
   ]
  },
  {
   "cell_type": "code",
   "execution_count": null,
   "metadata": {
    "collapsed": true
   },
   "outputs": [],
   "source": [
    "train_imgs = []\n",
    "train_img_info = []\n",
    "train_roi = []\n",
    "train_cls = []\n",
    "train_tbbox = []\n",
    "\n",
    "N_train = len(data)\n",
    "for i in trange(N_train):\n",
    "    img_path = data['image_name'][i]\n",
    "    gt_boxs = data['boxes'][i]\n",
    "    gt_classes = data['gt_classes'][i]\n",
    "    nobj = data['num_objs'][i]\n",
    "    bboxs = data['selective_search_boxes'][i]\n",
    "    nroi = len(bboxs)\n",
    "\n",
    "    img = Image.open('data/JPEGImages/' + img_path)\n",
    "    img_size = img.size\n",
    "    img = img.resize((224, 224))\n",
    "    img = np.array(img).astype(np.float32)\n",
    "    img = np.transpose(img, [2, 0, 1])\n",
    "\n",
    "    rbboxs = rel_bbox(img_size, bboxs)\n",
    "    ious = calc_ious(bboxs, gt_boxs)\n",
    "    max_ious = ious.max(axis=1)\n",
    "    max_idx = ious.argmax(axis=1)\n",
    "    tbbox = bbox_transform(bboxs, gt_boxs[max_idx])\n",
    "\n",
    "    pos_idx = []\n",
    "    neg_idx = []\n",
    "\n",
    "    for j in range(nroi):\n",
    "        if max_ious[j] < 0.1:\n",
    "            continue\n",
    "\n",
    "        gid = len(train_roi)\n",
    "        train_roi.append(rbboxs[j])\n",
    "        train_tbbox.append(tbbox[j])\n",
    "\n",
    "        if max_ious[j] >= 0.5:\n",
    "            pos_idx.append(gid)\n",
    "            train_cls.append(gt_classes[max_idx[j]])\n",
    "        else:\n",
    "            neg_idx.append(gid)\n",
    "            train_cls.append(0)\n",
    "\n",
    "    pos_idx = np.array(pos_idx)\n",
    "    neg_idx = np.array(neg_idx)\n",
    "    train_imgs.append(img)\n",
    "    train_img_info.append({\n",
    "        'img_size': img_size,\n",
    "        'pos_idx': pos_idx,\n",
    "        'neg_idx': neg_idx,\n",
    "    })\n",
    "    #print(len(pos_idx), len(neg_idx))"
   ]
  },
  {
   "attachments": {},
   "cell_type": "markdown",
   "metadata": {},
   "source": [
    "Converting them to `np.array()`, and then save the transformed data into a new *.npz* file."
   ]
  },
  {
   "cell_type": "code",
   "execution_count": null,
   "metadata": {
    "collapsed": true
   },
   "outputs": [],
   "source": [
    "train_imgs = np.array(train_imgs)\n",
    "train_img_info = np.array(train_img_info)\n",
    "train_roi = np.array(train_roi)\n",
    "train_cls = np.array(train_cls)\n",
    "train_tbbox = np.array(train_tbbox).astype(np.float32)\n",
    "\n",
    "print(f'Training image dataset shape : {train_imgs.shape}')\n",
    "print(f'ROI : {train_roi.shape}, Train_cls : {train_cls.shape}, Train_tbbox : {train_tbbox.shape}')\n",
    "\n",
    "np.savez(open('data/train.npz', 'wb'), \n",
    "         train_imgs=train_imgs, train_img_info=train_img_info,\n",
    "         train_roi=train_roi, train_cls=train_cls, train_tbbox=train_tbbox)"
   ]
  },
  {
   "attachments": {},
   "cell_type": "markdown",
   "metadata": {},
   "source": [
    "The preprocessing of the testing data is quite the same."
   ]
  },
  {
   "cell_type": "code",
   "execution_count": null,
   "metadata": {
    "collapsed": true
   },
   "outputs": [],
   "source": [
    "test_pkl_path = 'data/test_data.pkl'\n",
    "data = pickle.load(open(test_pkl_path, 'rb'))"
   ]
  },
  {
   "cell_type": "code",
   "execution_count": null,
   "metadata": {
    "collapsed": true
   },
   "outputs": [],
   "source": [
    "test_imgs = []\n",
    "test_img_info = []\n",
    "test_roi = []\n",
    "test_orig_roi = []"
   ]
  },
  {
   "cell_type": "code",
   "execution_count": null,
   "metadata": {
    "collapsed": true
   },
   "outputs": [],
   "source": [
    "N_test = len(data)\n",
    "for i in trange(N_test):\n",
    "    img_path = data['image_name'][i]\n",
    "    bboxs = data['selective_search_boxes'][i]\n",
    "    nroi = len(bboxs)\n",
    "\n",
    "    img = Image.open('data/JPEGImages/' + img_path)\n",
    "    img_size = img.size\n",
    "    img = img.resize((224, 224))\n",
    "    img = np.array(img).astype(np.float32)\n",
    "    img = np.transpose(img, [2, 0, 1])\n",
    "\n",
    "    rbboxs = rel_bbox(img_size, bboxs)\n",
    "    idxs = []\n",
    "\n",
    "    for j in range(nroi):\n",
    "        gid = len(test_roi)\n",
    "        test_roi.append(rbboxs[j])\n",
    "        test_orig_roi.append(bboxs[j])\n",
    "        idxs.append(gid)\n",
    "\n",
    "    idxs = np.array(idxs)\n",
    "    test_imgs.append(img)\n",
    "    test_img_info.append({\n",
    "        'img_size': img_size,\n",
    "        'idxs': idxs\n",
    "    })"
   ]
  },
  {
   "cell_type": "code",
   "execution_count": null,
   "metadata": {
    "collapsed": true
   },
   "outputs": [],
   "source": [
    "test_imgs = np.array(test_imgs)\n",
    "test_img_info = np.array(test_img_info)\n",
    "test_roi = np.array(test_roi)\n",
    "test_orig_roi = np.array(test_orig_roi)\n",
    "\n",
    "print(f'Testing image dataset shape : {test_imgs.shape}')\n",
    "\n",
    "np.savez(open('data/test.npz', 'wb'), \n",
    "         test_imgs=test_imgs, test_img_info=test_img_info, test_roi=test_roi, test_orig_roi=test_orig_roi)"
   ]
  },
  {
   "attachments": {},
   "cell_type": "markdown",
   "metadata": {},
   "source": [
    "# Utilities\n",
    "------\n",
    "Before training, we construct some utility functions for convenience, most of them are from the given lecture/hint codes:"
   ]
  },
  {
   "cell_type": "code",
   "execution_count": 2,
   "metadata": {
    "collapsed": true
   },
   "outputs": [],
   "source": [
    "def rel_bbox(size, bbox):\n",
    "    bbox = bbox.astype(np.float32)\n",
    "    bbox[:,0] /= size[0]\n",
    "    bbox[:,1] /= size[1]\n",
    "    bbox[:,2] += 1\n",
    "    bbox[:,2] /= size[0]\n",
    "    bbox[:,3] += 1\n",
    "    bbox[:,3] /= size[1]\n",
    "    return bbox"
   ]
  },
  {
   "cell_type": "code",
   "execution_count": 3,
   "metadata": {
    "collapsed": true
   },
   "outputs": [],
   "source": [
    "def bbox_transform(ex_rois, gt_rois):\n",
    "    ex_widths = ex_rois[:,2] - ex_rois[:,0] + 1.0\n",
    "    ex_heights = ex_rois[:,3] - ex_rois[:,1] + 1.0\n",
    "    ex_ctr_x = ex_rois[:,0] + 0.5 * ex_widths\n",
    "    ex_ctr_y = ex_rois[:,1] + 0.5 * ex_heights\n",
    "\n",
    "    gt_widths = gt_rois[:,2] - gt_rois[:,0] + 1.0\n",
    "    gt_heights = gt_rois[:,3] - gt_rois[:,1] + 1.0\n",
    "    gt_ctr_x = gt_rois[:,0] + 0.5 * gt_widths\n",
    "    gt_ctr_y = gt_rois[:,1] + 0.5 * gt_heights\n",
    "\n",
    "    targets_dx = (gt_ctr_x - ex_ctr_x) / ex_widths\n",
    "    targets_dy = (gt_ctr_y - ex_ctr_y) / ex_heights\n",
    "    targets_dw = np.log(gt_widths / ex_widths)\n",
    "    targets_dh = np.log(gt_heights / ex_heights)\n",
    "\n",
    "    targets = np.array([targets_dx, targets_dy, targets_dw, targets_dh]).T\n",
    "    return targets"
   ]
  },
  {
   "cell_type": "code",
   "execution_count": 4,
   "metadata": {
    "collapsed": true
   },
   "outputs": [],
   "source": [
    "def calc_ious(ex_rois, gt_rois):\n",
    "    ex_area = (1. + ex_rois[:,2] - ex_rois[:,0]) * (1. + ex_rois[:,3] - ex_rois[:,1])\n",
    "    gt_area = (1. + gt_rois[:,2] - gt_rois[:,0]) * (1. + gt_rois[:,3] - gt_rois[:,1])\n",
    "    area_sum = ex_area.reshape((-1, 1)) + gt_area.reshape((1, -1))\n",
    "\n",
    "    lb = np.maximum(ex_rois[:,0].reshape((-1, 1)), gt_rois[:,0].reshape((1, -1)))\n",
    "    rb = np.minimum(ex_rois[:,2].reshape((-1, 1)), gt_rois[:,2].reshape((1, -1)))\n",
    "    tb = np.maximum(ex_rois[:,1].reshape((-1, 1)), gt_rois[:,1].reshape((1, -1)))\n",
    "    ub = np.minimum(ex_rois[:,3].reshape((-1, 1)), gt_rois[:,3].reshape((1, -1)))\n",
    "\n",
    "    width = np.maximum(1. + rb - lb, 0.)\n",
    "    height = np.maximum(1. + ub - tb, 0.)\n",
    "    area_i = width * height\n",
    "    area_u = area_sum - area_i\n",
    "    ious = area_i / area_u\n",
    "    return ious"
   ]
  },
  {
   "cell_type": "code",
   "execution_count": 5,
   "metadata": {
    "collapsed": true
   },
   "outputs": [],
   "source": [
    "def reg_to_bbox(img_size, reg, box):\n",
    "    img_width, img_height = img_size\n",
    "    bbox_width = box[:,2] - box[:,0] + 1.0\n",
    "    bbox_height = box[:,3] - box[:,1] + 1.0\n",
    "    bbox_ctr_x = box[:,0] + 0.5 * bbox_width\n",
    "    bbox_ctr_y = box[:,1] + 0.5 * bbox_height\n",
    "\n",
    "    bbox_width = bbox_width[:,np.newaxis]\n",
    "    bbox_height = bbox_height[:,np.newaxis]\n",
    "    bbox_ctr_x = bbox_ctr_x[:,np.newaxis]\n",
    "    bbox_ctr_y = bbox_ctr_y[:,np.newaxis]\n",
    "\n",
    "    out_ctr_x = reg[:,:,0] * bbox_width + bbox_ctr_x\n",
    "    out_ctr_y = reg[:,:,1] * bbox_height + bbox_ctr_y\n",
    "\n",
    "    out_width = bbox_width * np.exp(reg[:,:,2])\n",
    "    out_height = bbox_height * np.exp(reg[:,:,3])\n",
    "\n",
    "    return np.array([\n",
    "        np.maximum(0, out_ctr_x - 0.5 * out_width),\n",
    "        np.maximum(0, out_ctr_y - 0.5 * out_height),\n",
    "        np.minimum(img_width, out_ctr_x + 0.5 * out_width),\n",
    "        np.minimum(img_height, out_ctr_y + 0.5 * out_height)\n",
    "    ]).transpose([1, 2, 0])"
   ]
  },
  {
   "attachments": {},
   "cell_type": "markdown",
   "metadata": {},
   "source": [
    "The following non_maximum_suppression() filters the boxes that are overlapped."
   ]
  },
  {
   "cell_type": "code",
   "execution_count": 6,
   "metadata": {
    "collapsed": true
   },
   "outputs": [],
   "source": [
    "def non_maximum_suppression(sc, bboxs, iou_threshold=0.7, score_threshold=0.6):\n",
    "    nroi = sc.shape[0]\n",
    "    idx = np.argsort(sc)[::-1]\n",
    "    rb = 0\n",
    "    while rb < nroi and sc[idx[rb]] >= score_threshold:\n",
    "        rb += 1\n",
    "    if rb == 0:\n",
    "        return []\n",
    "    idx = idx[:rb]\n",
    "    sc = sc[idx]\n",
    "    bboxs = bboxs[idx,:]\n",
    "    ious = calc_ious(bboxs, bboxs)\n",
    "\n",
    "    res = []\n",
    "    for i in range(rb):\n",
    "        if i == 0 or ious[i, :i].max() < iou_threshold:\n",
    "            res.append(bboxs[i])\n",
    "\n",
    "    return res"
   ]
  },
  {
   "cell_type": "code",
   "execution_count": 7,
   "metadata": {
    "collapsed": true
   },
   "outputs": [],
   "source": [
    "def plot (name, title, legendx, legendy, x, y, n_epoch, frame_size = 256,labelx = 'Epoch', labely = 'Loss'):\n",
    "    i = 0\n",
    "    x = np.array(x).flatten('F')\n",
    "    y = np.array(y).flatten('F')\n",
    "    framex = []\n",
    "    framey = []\n",
    "    \n",
    "    while i*frame_size < len(x):\n",
    "        framex.append(np.mean(x[i*frame_size:min(len(x),(i+1)*frame_size)]))\n",
    "        framey.append(np.mean(y[i*frame_size:min(len(y),(i+1)*frame_size)]))\n",
    "        i += 1\n",
    "    \n",
    "    a = np.arange(0,len(x),len(x)/len(framex))\n",
    "    b = a/len(y)*n_epoch\n",
    "    a = a/len(x)*n_epoch\n",
    "    \n",
    "    plt.figure()\n",
    "    plt.plot(a,framex)\n",
    "    plt.plot(b,framey)\n",
    "    plt.xlabel(labelx)\n",
    "    plt.ylabel(labely)\n",
    "    plt.title(title)\n",
    "    plt.legend([legendx,legendy])\n",
    "    plt.savefig(name,dpi=600)\n",
    "    plt.show()"
   ]
  },
  {
   "attachments": {},
   "cell_type": "markdown",
   "metadata": {},
   "source": [
    "# Model : Fast-RCNN\n",
    "------\n",
    "Our model is constructed based on the Fast-RCNN model, which is introduced by Ross Girshick in 2015. Generally speaking, RCNN is implemented through four following steps :\n",
    "\n",
    "1. Obtain about 1000~2000 selective search boxes in each data (which is done in the given dataset)\n",
    "2. Apply Convolutional newral network to each selective search boxes, and obtain features\n",
    "3. Apply Classifier to the features obtained in the CNN model to classify if it belongs to any category.\n",
    "4. Apply Regression to refine the search boxes into more accurate position"
   ]
  },
  {
   "attachments": {},
   "cell_type": "markdown",
   "metadata": {},
   "source": [
    "But the problem is that RCNN performs at a super slow speed, how slow it is? Considering the given TA's code, the CNN model is fed by the complete (resized) image, and 1 epoch takes about 75 seconds with GTX1080Ti, how about feeding the model with selective search boxes which is a 1000 to 2000 times larger dataset? Then 1 epoch will take about 20 hours, which is too slow for our hardware and deadline."
   ]
  },
  {
   "attachments": {},
   "cell_type": "markdown",
   "metadata": {},
   "source": [
    "So we come to Fast-RCNN, and the model flowchart is shown above :\n",
    "![Alt text](http://img.blog.csdn.net/20160411214438672 \"Optional title\")"
   ]
  },
  {
   "attachments": {},
   "cell_type": "markdown",
   "metadata": {},
   "source": [
    "-----\n",
    "As we can see, the model is a type of CNN, with RELU and Max_pooling. For the fifth pooling, the layer is changed with **ROI pooling**, which divide every selective search boxes into *MxN* sections evenly, and apply max-pooling for each sections. Finally, ROI pooling transfer the vary sized selective search data into a uniformed data, and send them to the next layer.\n",
    "The code is shown below:"
   ]
  },
  {
   "cell_type": "code",
   "execution_count": 8,
   "metadata": {
    "collapsed": true
   },
   "outputs": [],
   "source": [
    "class SlowROIPool(nn.Module):\n",
    "    def __init__(self, output_size):\n",
    "        super().__init__()\n",
    "        self.maxpool = nn.AdaptiveMaxPool2d(output_size)\n",
    "        self.size = output_size\n",
    "\n",
    "    def forward(self, images, rois, roi_idx):\n",
    "        n = rois.shape[0]\n",
    "        h = images.size(2)\n",
    "        w = images.size(3)\n",
    "        x1 = rois[:,0]\n",
    "        y1 = rois[:,1]\n",
    "        x2 = rois[:,2]\n",
    "        y2 = rois[:,3]\n",
    "\n",
    "        x1 = np.floor(x1 * w).astype(int)\n",
    "        x2 = np.ceil(x2 * w).astype(int)\n",
    "        y1 = np.floor(y1 * h).astype(int)\n",
    "        y2 = np.ceil(y2 * h).astype(int)\n",
    "        \n",
    "        res = []\n",
    "        for i in range(n):\n",
    "            img = images[roi_idx[i]].unsqueeze(0)\n",
    "            img = img[:, :, y1[i]:y2[i], x1[i]:x2[i]]\n",
    "            img = self.maxpool(img)\n",
    "            res.append(img)\n",
    "        res = torch.cat(res, dim=0)\n",
    "        return res"
   ]
  },
  {
   "attachments": {},
   "cell_type": "markdown",
   "metadata": {},
   "source": [
    "In order to implement the model with better performance, we use the VGG16 model, which is the same as the structure used in Fast-RCNN paper, and we switch the last pooling layer into our modified ROI-pooling layer.\n",
    "\n",
    "![Alt text](https://junzhangcom.files.wordpress.com/2017/08/vgg16.png \"Optional title\")"
   ]
  },
  {
   "cell_type": "code",
   "execution_count": 9,
   "metadata": {
    "collapsed": true
   },
   "outputs": [],
   "source": [
    "class RCNN(nn.Module):\n",
    "    def __init__(self):\n",
    "        super().__init__()\n",
    "\n",
    "        rawnet = torchvision.models.vgg16_bn(pretrained=True)\n",
    "        self.seq = nn.Sequential(*list(rawnet.features.children())[:-1])\n",
    "        self.roipool = SlowROIPool(output_size=(7, 7))\n",
    "        self.feature = nn.Sequential(*list(rawnet.classifier.children())[:-1])\n",
    "\n",
    "        _x = Variable(torch.Tensor(1, 3, 224, 224))\n",
    "        _r = np.array([[0., 0., 1., 1.]])\n",
    "        _ri = np.array([0])\n",
    "        _x = self.feature(self.roipool(self.seq(_x), _r, _ri).view(1, -1))\n",
    "        feature_dim = _x.size(1)\n",
    "        self.cls_score = nn.Linear(feature_dim, N_CLASS+1)\n",
    "        self.bbox = nn.Linear(feature_dim, 4*(N_CLASS+1))\n",
    "        \n",
    "        self.cel = nn.CrossEntropyLoss()\n",
    "        self.sl1 = nn.SmoothL1Loss()\n",
    "\n",
    "    def forward(self, inp, rois, ridx):\n",
    "        res = inp\n",
    "        res = self.seq(res)\n",
    "        res = self.roipool(res, rois, ridx)\n",
    "        res = res.detach()\n",
    "        res = res.view(res.size(0), -1)\n",
    "        feat = self.feature(res)\n",
    "\n",
    "        cls_score = self.cls_score(feat)\n",
    "        bbox = self.bbox(feat).view(-1, N_CLASS+1, 4)\n",
    "        return cls_score, bbox\n",
    "\n",
    "    def calc_loss(self, probs, bbox, labels, gt_bbox):\n",
    "        loss_sc = self.cel(probs, labels)\n",
    "        lbl = labels.view(-1, 1, 1).expand(labels.size(0), 1, 4)\n",
    "        mask = (labels != 0).float().view(-1, 1).expand(labels.size(0), 4)\n",
    "        loss_loc = self.sl1(bbox.gather(1, lbl).squeeze(1) * mask, gt_bbox * mask)\n",
    "        lmb = 1.0\n",
    "        loss = loss_sc + lmb * loss_loc\n",
    "        return loss, loss_sc, loss_loc"
   ]
  },
  {
   "attachments": {},
   "cell_type": "markdown",
   "metadata": {},
   "source": [
    "To accelerate the processing progress, we compute in *cuda()* instead of computing in CPU, and we can see the structure in the following block:"
   ]
  },
  {
   "cell_type": "code",
   "execution_count": 10,
   "metadata": {},
   "outputs": [
    {
     "name": "stdout",
     "output_type": "stream",
     "text": [
      "RCNN (\n",
      "  (seq): Sequential (\n",
      "    (0): Conv2d(3, 64, kernel_size=(3, 3), stride=(1, 1), padding=(1, 1))\n",
      "    (1): BatchNorm2d(64, eps=1e-05, momentum=0.1, affine=True)\n",
      "    (2): ReLU (inplace)\n",
      "    (3): Conv2d(64, 64, kernel_size=(3, 3), stride=(1, 1), padding=(1, 1))\n",
      "    (4): BatchNorm2d(64, eps=1e-05, momentum=0.1, affine=True)\n",
      "    (5): ReLU (inplace)\n",
      "    (6): MaxPool2d (size=(2, 2), stride=(2, 2), dilation=(1, 1))\n",
      "    (7): Conv2d(64, 128, kernel_size=(3, 3), stride=(1, 1), padding=(1, 1))\n",
      "    (8): BatchNorm2d(128, eps=1e-05, momentum=0.1, affine=True)\n",
      "    (9): ReLU (inplace)\n",
      "    (10): Conv2d(128, 128, kernel_size=(3, 3), stride=(1, 1), padding=(1, 1))\n",
      "    (11): BatchNorm2d(128, eps=1e-05, momentum=0.1, affine=True)\n",
      "    (12): ReLU (inplace)\n",
      "    (13): MaxPool2d (size=(2, 2), stride=(2, 2), dilation=(1, 1))\n",
      "    (14): Conv2d(128, 256, kernel_size=(3, 3), stride=(1, 1), padding=(1, 1))\n",
      "    (15): BatchNorm2d(256, eps=1e-05, momentum=0.1, affine=True)\n",
      "    (16): ReLU (inplace)\n",
      "    (17): Conv2d(256, 256, kernel_size=(3, 3), stride=(1, 1), padding=(1, 1))\n",
      "    (18): BatchNorm2d(256, eps=1e-05, momentum=0.1, affine=True)\n",
      "    (19): ReLU (inplace)\n",
      "    (20): Conv2d(256, 256, kernel_size=(3, 3), stride=(1, 1), padding=(1, 1))\n",
      "    (21): BatchNorm2d(256, eps=1e-05, momentum=0.1, affine=True)\n",
      "    (22): ReLU (inplace)\n",
      "    (23): MaxPool2d (size=(2, 2), stride=(2, 2), dilation=(1, 1))\n",
      "    (24): Conv2d(256, 512, kernel_size=(3, 3), stride=(1, 1), padding=(1, 1))\n",
      "    (25): BatchNorm2d(512, eps=1e-05, momentum=0.1, affine=True)\n",
      "    (26): ReLU (inplace)\n",
      "    (27): Conv2d(512, 512, kernel_size=(3, 3), stride=(1, 1), padding=(1, 1))\n",
      "    (28): BatchNorm2d(512, eps=1e-05, momentum=0.1, affine=True)\n",
      "    (29): ReLU (inplace)\n",
      "    (30): Conv2d(512, 512, kernel_size=(3, 3), stride=(1, 1), padding=(1, 1))\n",
      "    (31): BatchNorm2d(512, eps=1e-05, momentum=0.1, affine=True)\n",
      "    (32): ReLU (inplace)\n",
      "    (33): MaxPool2d (size=(2, 2), stride=(2, 2), dilation=(1, 1))\n",
      "    (34): Conv2d(512, 512, kernel_size=(3, 3), stride=(1, 1), padding=(1, 1))\n",
      "    (35): BatchNorm2d(512, eps=1e-05, momentum=0.1, affine=True)\n",
      "    (36): ReLU (inplace)\n",
      "    (37): Conv2d(512, 512, kernel_size=(3, 3), stride=(1, 1), padding=(1, 1))\n",
      "    (38): BatchNorm2d(512, eps=1e-05, momentum=0.1, affine=True)\n",
      "    (39): ReLU (inplace)\n",
      "    (40): Conv2d(512, 512, kernel_size=(3, 3), stride=(1, 1), padding=(1, 1))\n",
      "    (41): BatchNorm2d(512, eps=1e-05, momentum=0.1, affine=True)\n",
      "    (42): ReLU (inplace)\n",
      "  )\n",
      "  (roipool): SlowROIPool (\n",
      "    (maxpool): AdaptiveMaxPool2d (output_size=(7, 7))\n",
      "  )\n",
      "  (feature): Sequential (\n",
      "    (0): Linear (25088 -> 4096)\n",
      "    (1): ReLU (inplace)\n",
      "    (2): Dropout (p = 0.5)\n",
      "    (3): Linear (4096 -> 4096)\n",
      "    (4): ReLU (inplace)\n",
      "    (5): Dropout (p = 0.5)\n",
      "  )\n",
      "  (cls_score): Linear (4096 -> 21)\n",
      "  (bbox): Linear (4096 -> 84)\n",
      "  (cel): CrossEntropyLoss (\n",
      "  )\n",
      "  (sl1): SmoothL1Loss (\n",
      "  )\n",
      ")\n"
     ]
    }
   ],
   "source": [
    "N_CLASS = 20\n",
    "\n",
    "Transform = torchvision.transforms.Normalize(mean=[0.485, 0.456, 0.406], std=[0.229, 0.224, 0.225])\n",
    "\n",
    "rcnn = RCNN().cuda()\n",
    "print(rcnn)"
   ]
  },
  {
   "attachments": {},
   "cell_type": "markdown",
   "metadata": {},
   "source": [
    "-----\n",
    "We load the preprocessed data, disorganize and split them into train and test data with ratio 4:1. The optimizer used in the training process is Adam stochastic optimization."
   ]
  },
  {
   "cell_type": "code",
   "execution_count": 11,
   "metadata": {
    "collapsed": true
   },
   "outputs": [],
   "source": [
    "npz = np.load('data/train.npz')\n",
    "train_imgs = npz['train_imgs']\n",
    "train_img_info = npz['train_img_info']\n",
    "train_roi = npz['train_roi']\n",
    "train_cls = npz['train_cls']\n",
    "train_tbbox = npz['train_tbbox']\n",
    "\n",
    "train_imgs = torch.from_numpy(train_imgs)\n",
    "train_imgs = Transform(train_imgs)\n",
    "\n",
    "Ntotal = train_imgs.size(0)\n",
    "Ntrain = int(Ntotal * 0.8)\n",
    "pm = np.random.permutation(Ntotal)\n",
    "train_set = pm[:Ntrain]\n",
    "val_set = pm[Ntrain:]\n",
    "\n",
    "optimizer = torch.optim.Adam(rcnn.parameters(), lr=1e-4)"
   ]
  },
  {
   "attachments": {},
   "cell_type": "markdown",
   "metadata": {},
   "source": [
    "The following functions defines the training batches generation, epoch training/validation."
   ]
  },
  {
   "cell_type": "code",
   "execution_count": 12,
   "metadata": {
    "collapsed": true
   },
   "outputs": [],
   "source": [
    "def train_batch(img, rois, ridx, gt_cls, gt_tbbox, is_val=False):\n",
    "    sc, r_bbox = rcnn(img, rois, ridx)\n",
    "    loss, loss_sc, loss_loc = rcnn.calc_loss(sc, r_bbox, gt_cls, gt_tbbox)\n",
    "    fl = loss.data.cpu().numpy()[0]\n",
    "    fl_sc = loss_sc.data.cpu().numpy()[0]\n",
    "    fl_loc = loss_loc.data.cpu().numpy()[0]\n",
    "\n",
    "    if not is_val:\n",
    "        optimizer.zero_grad()\n",
    "        loss.backward()\n",
    "        optimizer.step()\n",
    "    return fl, fl_sc, fl_loc\n",
    "\n",
    "def train_epoch(run_set, is_val=False):\n",
    "    I = 2\n",
    "    B = 64\n",
    "    POS = int(B * 0.25)\n",
    "    NEG = B - POS\n",
    "    Nimg = len(run_set)\n",
    "    perm = np.random.permutation(Nimg)\n",
    "    perm = run_set[perm]\n",
    "    losses = []\n",
    "    losses_sc = []\n",
    "    losses_loc = []\n",
    "    \n",
    "    for i in trange(0, Nimg, I):\n",
    "        lb = i\n",
    "        rb = min(i+I, Nimg)\n",
    "        torch_seg = torch.from_numpy(perm[lb:rb])\n",
    "        img = Variable(train_imgs[torch_seg], volatile=is_val).cuda()\n",
    "        ridx = []\n",
    "        glo_ids = []\n",
    "\n",
    "        for j in range(lb, rb):\n",
    "            info = train_img_info[perm[j]]\n",
    "            pos_idx = info['pos_idx']\n",
    "            neg_idx = info['neg_idx']\n",
    "            ids = []\n",
    "\n",
    "            if len(pos_idx) > 0:\n",
    "                ids.append(np.random.choice(pos_idx, size=POS))\n",
    "            if len(neg_idx) > 0:\n",
    "                ids.append(np.random.choice(neg_idx, size=NEG))\n",
    "            if len(ids) == 0:\n",
    "                continue\n",
    "            ids = np.concatenate(ids, axis=0)\n",
    "            glo_ids.append(ids)\n",
    "            ridx += [j-lb] * ids.shape[0]\n",
    "\n",
    "        if len(ridx) == 0:\n",
    "            continue\n",
    "        glo_ids = np.concatenate(glo_ids, axis=0)\n",
    "        ridx = np.array(ridx)\n",
    "\n",
    "        rois = train_roi[glo_ids]\n",
    "        gt_cls = Variable(torch.from_numpy(train_cls[glo_ids]), volatile=is_val).cuda()\n",
    "        gt_tbbox = Variable(torch.from_numpy(train_tbbox[glo_ids]), volatile=is_val).cuda()\n",
    "\n",
    "        loss, loss_sc, loss_loc = train_batch(img, rois, ridx, gt_cls, gt_tbbox, is_val=is_val)\n",
    "        losses.append(loss)\n",
    "        losses_sc.append(loss_sc)\n",
    "        losses_loc.append(loss_loc)\n",
    "\n",
    "    avg_loss = np.mean(losses)\n",
    "    avg_loss_sc = np.mean(losses_sc)\n",
    "    avg_loss_loc = np.mean(losses_loc)\n",
    "    print(f'Avg loss = {avg_loss:.4f}; loss_sc = {avg_loss_sc:.4f}, loss_loc = {avg_loss_loc:.4f}')\n",
    "    \n",
    "    return losses, losses_sc, losses_loc"
   ]
  },
  {
   "attachments": {},
   "cell_type": "markdown",
   "metadata": {},
   "source": [
    "Then we define the process with 1 training epoch with 1 validation epoch. Besides training, we store the loss during the training process and plot them with our plotting function."
   ]
  },
  {
   "cell_type": "code",
   "execution_count": 13,
   "metadata": {
    "collapsed": true
   },
   "outputs": [],
   "source": [
    "def start_training(n_epoch=2):\n",
    "    tl = []\n",
    "    ts = []\n",
    "    to = []\n",
    "    vl = []\n",
    "    vs = [] \n",
    "    vo = []\n",
    "    for i in range(n_epoch):\n",
    "        print(f'===========================================')\n",
    "        print(f'[Training Epoch {i+1}]')\n",
    "        train_loss, train_sc, train_loc = train_epoch(train_set, False)\n",
    "        print(f'[Validation Epoch {i+1}]')\n",
    "        val_loss, val_sc, val_loc = train_epoch(val_set, True)\n",
    "        \n",
    "        tl.append(train_loss)\n",
    "        ts.append(train_sc)\n",
    "        to.append(train_loc)\n",
    "        vl.append(val_loss)\n",
    "        vs.append(val_sc)\n",
    "        vo.append(val_loc)\n",
    "        \n",
    "    plot('loss','Train/Val : Loss', 'Train', 'Validation', tl, vl, n_epoch)\n",
    "    plot('loss_sc','Train/Val : Loss_sc', 'Train', 'Validation', ts, vs, n_epoch)\n",
    "    plot('loss_loc','Train/Val : Loss_loc', 'Train', 'Validation', to, vo, n_epoch)"
   ]
  },
  {
   "attachments": {},
   "cell_type": "markdown",
   "metadata": {},
   "source": [
    "Testing process is nearly the same as training, while the boxes is calculated mainly from `non_maximum_suppression()`, which is introduced in the utilities."
   ]
  },
  {
   "cell_type": "code",
   "execution_count": 14,
   "metadata": {
    "collapsed": true
   },
   "outputs": [],
   "source": [
    "npz = np.load('data/test.npz')\n",
    "test_imgs = npz['test_imgs']\n",
    "test_img_info = npz['test_img_info']\n",
    "test_roi = npz['test_roi']\n",
    "test_orig_roi = npz['test_orig_roi']\n",
    "\n",
    "test_imgs = torch.from_numpy(test_imgs)\n",
    "test_imgs = Transform(test_imgs).cuda()"
   ]
  },
  {
   "cell_type": "code",
   "execution_count": 15,
   "metadata": {
    "collapsed": true
   },
   "outputs": [],
   "source": [
    "def test_image(img, img_size, rois, orig_rois):\n",
    "    nroi = rois.shape[0]\n",
    "    ridx = np.zeros(nroi).astype(int)\n",
    "    sc, tbbox = rcnn(img, rois, ridx)\n",
    "    sc = nn.functional.softmax(sc)\n",
    "    sc = sc.data.cpu().numpy()\n",
    "    tbbox = tbbox.data.cpu().numpy()\n",
    "    bboxs = reg_to_bbox(img_size, tbbox, orig_rois)\n",
    "\n",
    "    res_bbox = []\n",
    "    res_cls = []\n",
    "\n",
    "    for c in range(1, N_CLASS+1):\n",
    "        c_sc = sc[:,c]\n",
    "        c_bboxs = bboxs[:,c,:]\n",
    "\n",
    "        boxes = non_maximum_suppression(c_sc, c_bboxs, iou_threshold=0.3, score_threshold=0.6)\n",
    "        res_bbox.extend(boxes)\n",
    "        res_cls.extend([c] * len(boxes))\n",
    "\n",
    "    if len(res_cls) == 0:\n",
    "        for c in range(1, N_CLASS+1):\n",
    "            c_sc = sc[:,c]\n",
    "            c_bboxs = bboxs[:,c,:]\n",
    "\n",
    "            boxes = non_maximum_suppression(c_sc, c_bboxs, iou_threshold=0.3, score_threshold=0.3)\n",
    "            res_bbox.extend(boxes)\n",
    "            res_cls.extend([c] * len(boxes))\n",
    "        res_bbox = res_bbox[:1]\n",
    "        res_cls = res_cls[:1]\n",
    "\n",
    "    print(res_cls)\n",
    "\n",
    "    return np.array(res_bbox), np.array(res_cls)"
   ]
  },
  {
   "attachments": {},
   "cell_type": "markdown",
   "metadata": {},
   "source": [
    "Finally, we define the testing process and send the final generated data into the given `evaluate()` function to obtain the final *output.csv* file."
   ]
  },
  {
   "cell_type": "code",
   "execution_count": 16,
   "metadata": {
    "collapsed": true
   },
   "outputs": [],
   "source": [
    "def test_epoch():\n",
    "    Nimg = test_imgs.size(0)\n",
    "    Nc = Nimg\n",
    "\n",
    "    perm = np.random.permutation(Nimg)[:Nc]\n",
    "\n",
    "    bbox_preds = []\n",
    "    bbox_cls = []\n",
    "\n",
    "    for i in range(Nimg):\n",
    "        bbox_preds.append(np.ndarray((0, 4)))\n",
    "        bbox_cls.append(np.ndarray((0, 1)))\n",
    "\n",
    "    for i in range(Nc):\n",
    "        pi = perm[i]\n",
    "        img = Variable(test_imgs[pi:pi+1], volatile=True)\n",
    "        ridx = []\n",
    "        glo_ids = []\n",
    "\n",
    "        info = test_img_info[pi]\n",
    "        img_size = info['img_size']\n",
    "        idxs = info['idxs']\n",
    "\n",
    "        idxs = np.array(idxs)\n",
    "        rois = test_roi[idxs]\n",
    "        orig_rois = test_orig_roi[idxs]\n",
    "\n",
    "        res_bbox, res_cls = test_image(img, img_size, rois, orig_rois)\n",
    "        bbox_preds[pi] = res_bbox\n",
    "        bbox_cls[pi] = res_cls\n",
    "\n",
    "    evaluate.evaluate(bbox_preds, bbox_cls)\n",
    "\n",
    "    print('Test complete')"
   ]
  },
  {
   "attachments": {},
   "cell_type": "markdown",
   "metadata": {},
   "source": [
    "1. For initial training, comment the following loading line, uncomment the training/saving lines.\n",
    "2. For continual training, uncomment all of the following line.\n",
    "3. For pure testing, uncomment the loading line, comment the training/saving lines.\n",
    "\n",
    "Observing the loss graph, we can see that due to pretraining, the loss is already low in the initial training epoch, and is about to well-fit in the third epoch."
   ]
  },
  {
   "cell_type": "code",
   "execution_count": 17,
   "metadata": {},
   "outputs": [
    {
     "name": "stderr",
     "output_type": "stream",
     "text": [
      "\r\n",
      "  0%|          | 0/4159 [00:00<?, ?it/s]"
     ]
    },
    {
     "name": "stdout",
     "output_type": "stream",
     "text": [
      "===========================================\n",
      "[Training Epoch 1]\n"
     ]
    },
    {
     "name": "stderr",
     "output_type": "stream",
     "text": [
      "100%|██████████| 4159/4159 [04:26<00:00, 15.60it/s]\n",
      "  0%|          | 3/1040 [00:00<00:42, 24.62it/s]"
     ]
    },
    {
     "name": "stdout",
     "output_type": "stream",
     "text": [
      "Avg loss = 0.7839; loss_sc = 0.7696, loss_loc = 0.0143\n",
      "[Validation Epoch 1]\n"
     ]
    },
    {
     "name": "stderr",
     "output_type": "stream",
     "text": [
      "100%|██████████| 1040/1040 [00:27<00:00, 37.91it/s]\n",
      "  0%|          | 2/4159 [00:00<03:30, 19.79it/s]"
     ]
    },
    {
     "name": "stdout",
     "output_type": "stream",
     "text": [
      "Avg loss = 0.6817; loss_sc = 0.6728, loss_loc = 0.0089\n",
      "===========================================\n",
      "[Training Epoch 2]\n"
     ]
    },
    {
     "name": "stderr",
     "output_type": "stream",
     "text": [
      "100%|██████████| 4159/4159 [04:31<00:00, 15.33it/s]\n",
      "  0%|          | 3/1040 [00:00<00:39, 26.44it/s]"
     ]
    },
    {
     "name": "stdout",
     "output_type": "stream",
     "text": [
      "Avg loss = 0.6183; loss_sc = 0.6101, loss_loc = 0.0082\n",
      "[Validation Epoch 2]\n"
     ]
    },
    {
     "name": "stderr",
     "output_type": "stream",
     "text": [
      "100%|██████████| 1040/1040 [00:27<00:00, 38.40it/s]\n",
      "  0%|          | 3/4159 [00:00<03:32, 19.53it/s]"
     ]
    },
    {
     "name": "stdout",
     "output_type": "stream",
     "text": [
      "Avg loss = 0.6560; loss_sc = 0.6485, loss_loc = 0.0074\n",
      "===========================================\n",
      "[Training Epoch 3]\n"
     ]
    },
    {
     "name": "stderr",
     "output_type": "stream",
     "text": [
      "100%|██████████| 4159/4159 [04:26<00:00, 15.59it/s]\n",
      "  0%|          | 3/1040 [00:00<00:38, 26.85it/s]"
     ]
    },
    {
     "name": "stdout",
     "output_type": "stream",
     "text": [
      "Avg loss = 0.5486; loss_sc = 0.5411, loss_loc = 0.0075\n",
      "[Validation Epoch 3]\n"
     ]
    },
    {
     "name": "stderr",
     "output_type": "stream",
     "text": [
      "100%|██████████| 1040/1040 [00:26<00:00, 38.52it/s]\n",
      "/home/gary/anaconda3/lib/python3.6/site-packages/numpy/core/fromnumeric.py:2909: RuntimeWarning: Mean of empty slice.\n",
      "  out=out, **kwargs)\n",
      "/home/gary/anaconda3/lib/python3.6/site-packages/numpy/core/_methods.py:80: RuntimeWarning: invalid value encountered in true_divide\n",
      "  ret = ret.dtype.type(ret / rcount)\n"
     ]
    },
    {
     "name": "stdout",
     "output_type": "stream",
     "text": [
      "Avg loss = 0.6561; loss_sc = 0.6492, loss_loc = 0.0069\n"
     ]
    },
    {
     "data": {
      "image/png": "[encoded data removed]",
      "text/plain": [
       "<matplotlib.figure.Figure at 0x7fedf41e8898>"
      ]
     },
     "metadata": {},
     "output_type": "display_data"
    },
    {
     "data": {
      "image/png": "[encoded data removed]",
      "text/plain": [
       "<matplotlib.figure.Figure at 0x7fed9c129438>"
      ]
     },
     "metadata": {},
     "output_type": "display_data"
    },
    {
     "data": {
      "image/png": "[encoded data removed]",
      "text/plain": [
       "<matplotlib.figure.Figure at 0x7fed9c466da0>"
      ]
     },
     "metadata": {},
     "output_type": "display_data"
    }
   ],
   "source": [
    "#rcnn.load_state_dict(torch.load('model/hao123.mdl'))\n",
    "start_training(n_epoch=3)\n",
    "torch.save(rcnn.state_dict(), 'model/hao123.mdl')"
   ]
  },
  {
   "cell_type": "code",
   "execution_count": null,
   "metadata": {
    "collapsed": true
   },
   "outputs": [],
   "source": [
    "test_epoch()"
   ]
  }
 ],
 "metadata": {
  "kernelspec": {
   "display_name": "Python 3",
   "language": "python",
   "name": "python3"
  },
  "language_info": {
   "codemirror_mode": {
    "name": "ipython",
    "version": 3
   },
   "file_extension": ".py",
   "mimetype": "text/x-python",
   "name": "python",
   "nbconvert_exporter": "python",
   "pygments_lexer": "ipython3",
   "version": "3.8.15"
  }
 },
 "nbformat": 4,
 "nbformat_minor": 2
}
