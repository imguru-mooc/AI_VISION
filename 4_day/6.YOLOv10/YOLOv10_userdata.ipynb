{
  "cells": [
    {
      "cell_type": "markdown",
      "source": [],
      "metadata": {
        "id": "K7TxiFLRLejm"
      }
    },
    {
      "cell_type": "code",
      "execution_count": 1,
      "metadata": {
        "id": "83Uii_zpIfM0",
        "outputId": "dd369820-3462-4f22-9d4d-15cf503d85fc",
        "colab": {
          "base_uri": "https://localhost:8080/"
        }
      },
      "outputs": [
        {
          "output_type": "stream",
          "name": "stdout",
          "text": [
            "Collecting ultralytics\n",
            "  Downloading ultralytics-8.2.102-py3-none-any.whl.metadata (39 kB)\n",
            "Requirement already satisfied: numpy<2.0.0,>=1.23.0 in /usr/local/lib/python3.10/dist-packages (from ultralytics) (1.26.4)\n",
            "Requirement already satisfied: matplotlib>=3.3.0 in /usr/local/lib/python3.10/dist-packages (from ultralytics) (3.7.1)\n",
            "Requirement already satisfied: opencv-python>=4.6.0 in /usr/local/lib/python3.10/dist-packages (from ultralytics) (4.10.0.84)\n",
            "Requirement already satisfied: pillow>=7.1.2 in /usr/local/lib/python3.10/dist-packages (from ultralytics) (10.4.0)\n",
            "Requirement already satisfied: pyyaml>=5.3.1 in /usr/local/lib/python3.10/dist-packages (from ultralytics) (6.0.2)\n",
            "Requirement already satisfied: requests>=2.23.0 in /usr/local/lib/python3.10/dist-packages (from ultralytics) (2.32.3)\n",
            "Requirement already satisfied: scipy>=1.4.1 in /usr/local/lib/python3.10/dist-packages (from ultralytics) (1.13.1)\n",
            "Requirement already satisfied: torch>=1.8.0 in /usr/local/lib/python3.10/dist-packages (from ultralytics) (2.4.1+cu121)\n",
            "Requirement already satisfied: torchvision>=0.9.0 in /usr/local/lib/python3.10/dist-packages (from ultralytics) (0.19.1+cu121)\n",
            "Requirement already satisfied: tqdm>=4.64.0 in /usr/local/lib/python3.10/dist-packages (from ultralytics) (4.66.5)\n",
            "Requirement already satisfied: psutil in /usr/local/lib/python3.10/dist-packages (from ultralytics) (5.9.5)\n",
            "Requirement already satisfied: py-cpuinfo in /usr/local/lib/python3.10/dist-packages (from ultralytics) (9.0.0)\n",
            "Requirement already satisfied: pandas>=1.1.4 in /usr/local/lib/python3.10/dist-packages (from ultralytics) (2.1.4)\n",
            "Requirement already satisfied: seaborn>=0.11.0 in /usr/local/lib/python3.10/dist-packages (from ultralytics) (0.13.1)\n",
            "Collecting ultralytics-thop>=2.0.0 (from ultralytics)\n",
            "  Downloading ultralytics_thop-2.0.8-py3-none-any.whl.metadata (9.3 kB)\n",
            "Requirement already satisfied: contourpy>=1.0.1 in /usr/local/lib/python3.10/dist-packages (from matplotlib>=3.3.0->ultralytics) (1.3.0)\n",
            "Requirement already satisfied: cycler>=0.10 in /usr/local/lib/python3.10/dist-packages (from matplotlib>=3.3.0->ultralytics) (0.12.1)\n",
            "Requirement already satisfied: fonttools>=4.22.0 in /usr/local/lib/python3.10/dist-packages (from matplotlib>=3.3.0->ultralytics) (4.53.1)\n",
            "Requirement already satisfied: kiwisolver>=1.0.1 in /usr/local/lib/python3.10/dist-packages (from matplotlib>=3.3.0->ultralytics) (1.4.7)\n",
            "Requirement already satisfied: packaging>=20.0 in /usr/local/lib/python3.10/dist-packages (from matplotlib>=3.3.0->ultralytics) (24.1)\n",
            "Requirement already satisfied: pyparsing>=2.3.1 in /usr/local/lib/python3.10/dist-packages (from matplotlib>=3.3.0->ultralytics) (3.1.4)\n",
            "Requirement already satisfied: python-dateutil>=2.7 in /usr/local/lib/python3.10/dist-packages (from matplotlib>=3.3.0->ultralytics) (2.8.2)\n",
            "Requirement already satisfied: pytz>=2020.1 in /usr/local/lib/python3.10/dist-packages (from pandas>=1.1.4->ultralytics) (2024.2)\n",
            "Requirement already satisfied: tzdata>=2022.1 in /usr/local/lib/python3.10/dist-packages (from pandas>=1.1.4->ultralytics) (2024.1)\n",
            "Requirement already satisfied: charset-normalizer<4,>=2 in /usr/local/lib/python3.10/dist-packages (from requests>=2.23.0->ultralytics) (3.3.2)\n",
            "Requirement already satisfied: idna<4,>=2.5 in /usr/local/lib/python3.10/dist-packages (from requests>=2.23.0->ultralytics) (3.10)\n",
            "Requirement already satisfied: urllib3<3,>=1.21.1 in /usr/local/lib/python3.10/dist-packages (from requests>=2.23.0->ultralytics) (2.2.3)\n",
            "Requirement already satisfied: certifi>=2017.4.17 in /usr/local/lib/python3.10/dist-packages (from requests>=2.23.0->ultralytics) (2024.8.30)\n",
            "Requirement already satisfied: filelock in /usr/local/lib/python3.10/dist-packages (from torch>=1.8.0->ultralytics) (3.16.1)\n",
            "Requirement already satisfied: typing-extensions>=4.8.0 in /usr/local/lib/python3.10/dist-packages (from torch>=1.8.0->ultralytics) (4.12.2)\n",
            "Requirement already satisfied: sympy in /usr/local/lib/python3.10/dist-packages (from torch>=1.8.0->ultralytics) (1.13.3)\n",
            "Requirement already satisfied: networkx in /usr/local/lib/python3.10/dist-packages (from torch>=1.8.0->ultralytics) (3.3)\n",
            "Requirement already satisfied: jinja2 in /usr/local/lib/python3.10/dist-packages (from torch>=1.8.0->ultralytics) (3.1.4)\n",
            "Requirement already satisfied: fsspec in /usr/local/lib/python3.10/dist-packages (from torch>=1.8.0->ultralytics) (2024.6.1)\n",
            "Requirement already satisfied: six>=1.5 in /usr/local/lib/python3.10/dist-packages (from python-dateutil>=2.7->matplotlib>=3.3.0->ultralytics) (1.16.0)\n",
            "Requirement already satisfied: MarkupSafe>=2.0 in /usr/local/lib/python3.10/dist-packages (from jinja2->torch>=1.8.0->ultralytics) (2.1.5)\n",
            "Requirement already satisfied: mpmath<1.4,>=1.1.0 in /usr/local/lib/python3.10/dist-packages (from sympy->torch>=1.8.0->ultralytics) (1.3.0)\n",
            "Downloading ultralytics-8.2.102-py3-none-any.whl (874 kB)\n",
            "\u001b[2K   \u001b[90m━━━━━━━━━━━━━━━━━━━━━━━━━━━━━━━━━━━━━━━━\u001b[0m \u001b[32m874.8/874.8 kB\u001b[0m \u001b[31m14.8 MB/s\u001b[0m eta \u001b[36m0:00:00\u001b[0m\n",
            "\u001b[?25hDownloading ultralytics_thop-2.0.8-py3-none-any.whl (26 kB)\n",
            "Installing collected packages: ultralytics-thop, ultralytics\n",
            "Successfully installed ultralytics-8.2.102 ultralytics-thop-2.0.8\n"
          ]
        }
      ],
      "source": [
        "!pip install ultralytics"
      ]
    },
    {
      "cell_type": "code",
      "execution_count": 2,
      "metadata": {
        "id": "A3Ih3qDUrjqz",
        "colab": {
          "base_uri": "https://localhost:8080/"
        },
        "outputId": "7f7a15a5-b8ac-4607-8649-059d6ea0ba8c"
      },
      "outputs": [
        {
          "output_type": "stream",
          "name": "stdout",
          "text": [
            "Creating new Ultralytics Settings v0.0.6 file ✅ \n",
            "View Ultralytics Settings with 'yolo settings' or at '/root/.config/Ultralytics/settings.json'\n",
            "Update Settings with 'yolo settings key=value', i.e. 'yolo settings runs_dir=path/to/dir'. For help see https://docs.ultralytics.com/quickstart/#ultralytics-settings.\n",
            "Downloading https://github.com/ultralytics/assets/releases/download/v8.2.0/yolov10s.pt to 'yolov10s.pt'...\n"
          ]
        },
        {
          "output_type": "stream",
          "name": "stderr",
          "text": [
            "100%|██████████| 15.9M/15.9M [00:00<00:00, 125MB/s] \n"
          ]
        }
      ],
      "source": [
        "from ultralytics import YOLO\n",
        "\n",
        "model = YOLO(\"yolov10s.pt\")"
      ]
    },
    {
      "cell_type": "code",
      "execution_count": 3,
      "metadata": {
        "id": "8wFHfgUfjbX5",
        "outputId": "22da2e36-840c-476a-8c8c-b52e4e92ba0d",
        "colab": {
          "base_uri": "https://localhost:8080/"
        }
      },
      "outputs": [
        {
          "output_type": "stream",
          "name": "stdout",
          "text": [
            "/content/datasets\n"
          ]
        }
      ],
      "source": [
        "!mkdir datasets\n",
        "%cd datasets"
      ]
    },
    {
      "cell_type": "code",
      "execution_count": 4,
      "metadata": {
        "id": "726MZUmnjVuC",
        "outputId": "d36d8140-55d2-4ce0-9908-391e42b0e0aa",
        "colab": {
          "base_uri": "https://localhost:8080/"
        }
      },
      "outputs": [
        {
          "output_type": "stream",
          "name": "stdout",
          "text": [
            "Archive:  card_data.zip\n",
            "   creating: card_data/\n",
            "   creating: card_data/test/\n",
            "   creating: card_data/test/images/\n",
            "  inflating: card_data/test/images/IMG_20220316_134602_jpg.rf.9802a712c2788e3f8a7e872f1d856773.jpg  \n",
            "  inflating: card_data/test/images/IMG_20220316_134814_jpg.rf.936fa75110b13834d910cfdc7d3a5b31.jpg  \n",
            "  inflating: card_data/test/images/IMG_20220316_134837_jpg.rf.6588c2bed2bbf43c4c818f65f05bc0dc.jpg  \n",
            "  inflating: card_data/test/images/IMG_20220316_134840_jpg.rf.5cd97a13e682e0b5adc5b4d9ff527278.jpg  \n",
            "  inflating: card_data/test/images/IMG_20220316_134858_jpg.rf.56b26a40076652072a1b499cbc93c627.jpg  \n",
            "  inflating: card_data/test/images/IMG_20220316_134944_jpg.rf.9f7fc22f550c90e2990b64250acbe9ab.jpg  \n",
            "  inflating: card_data/test/images/IMG_20220316_135003_jpg.rf.596d5b9a645fb8fbb7d1ec1513c8c333.jpg  \n",
            "  inflating: card_data/test/images/IMG_20220316_135021_jpg.rf.56bd683da48e602aed04685145bba2f5.jpg  \n",
            "  inflating: card_data/test/images/IMG_20220316_135030_jpg.rf.97bf69b80c2934323a9cc0d45544f106.jpg  \n",
            "  inflating: card_data/test/images/IMG_20220316_135047_jpg.rf.90fd53d0f292d396b0e45eb59f2afb8b.jpg  \n",
            "  inflating: card_data/test/images/IMG_20220316_135149_jpg.rf.61a4a450d20b01ad2bda9bb35ff21180.jpg  \n",
            "  inflating: card_data/test/images/IMG_20220316_135152_jpg.rf.5c10c8f007b7c4f2f66e5817fbed1590.jpg  \n",
            "  inflating: card_data/test/images/IMG_20220316_135159_jpg.rf.92345c25458c99a5938a783523e53eb6.jpg  \n",
            "  inflating: card_data/test/images/IMG_20220316_135226_jpg.rf.60a83a655b9ad94952f1399a0b91640c.jpg  \n",
            "  inflating: card_data/test/images/IMG_20220316_135301_jpg.rf.9073fe85a0b2ce7ef4e285e69ba6d619.jpg  \n",
            "  inflating: card_data/test/images/IMG_20220316_135310_jpg.rf.18ce41b8ebcac16463a0d576d3592b82.jpg  \n",
            "  inflating: card_data/test/images/IMG_20220316_140221_jpg.rf.909b236fdd74360f1cba4115e0e03bd8.jpg  \n",
            "  inflating: card_data/test/images/IMG_20220316_140227_jpg.rf.5c716c9e62ecfbac3bb7e5350462e52b.jpg  \n",
            "  inflating: card_data/test/images/IMG_20220316_140241_jpg.rf.9c0a6e4fe7c090c65c6b000957774002.jpg  \n",
            "  inflating: card_data/test/images/IMG_20220316_140245_jpg.rf.5c0fd97a0df4459c60450c78f3f8ad00.jpg  \n",
            "  inflating: card_data/test/images/IMG_20220316_140259_jpg.rf.5c1b5f74a9d526136e869d57dc26c844.jpg  \n",
            "  inflating: card_data/test/images/IMG_20220316_140303_jpg.rf.5cf7bd14f4aa4e8cefcd238b9f35f032.jpg  \n",
            "  inflating: card_data/test/images/IMG_20220316_140322_jpg.rf.e148ca3cfa7b4256514dd1acff918a69.jpg  \n",
            "  inflating: card_data/test/images/IMG_20220316_140351_jpg.rf.9fd7fee7d763914008ec79a55754f651.jpg  \n",
            "  inflating: card_data/test/images/IMG_20220316_140435_jpg.rf.6500f48d5376b8d9623dc61823ca7826.jpg  \n",
            "  inflating: card_data/test/images/IMG_20220316_140519_jpg.rf.1b5098a2ad305e7147f2ac8c179c6154.jpg  \n",
            "  inflating: card_data/test/images/IMG_20220316_140530_jpg.rf.e7f3d8e962aee98e706e4b109fa409fa.jpg  \n",
            "  inflating: card_data/test/images/IMG_20220316_140621_jpg.rf.6251e39d2899e4cb3fbd99fd1febfb15.jpg  \n",
            "  inflating: card_data/test/images/IMG_20220316_140635_jpg.rf.537ee1ffb699c24c3bd79993d132be9d.jpg  \n",
            "  inflating: card_data/test/images/IMG_20220316_140652_jpg.rf.15c6d99afa80442fcd7c60a4a4ad7117.jpg  \n",
            "  inflating: card_data/test/images/IMG_20220316_140716_jpg.rf.65703c4c3fcd6c6dee7779760052097e.jpg  \n",
            "  inflating: card_data/test/images/IMG_20220316_140746_jpg.rf.1da915df63625ccc5830813dfd6e2fa8.jpg  \n",
            "  inflating: card_data/test/images/IMG_20220316_140837_jpg.rf.e63e25f15816f531e5157393eb3ba353.jpg  \n",
            "  inflating: card_data/test/images/IMG_20220316_140847_jpg.rf.8e414e3e73e0f7d483da1b49d4d7ef2b.jpg  \n",
            "  inflating: card_data/test/images/IMG_20220316_140908_jpg.rf.1a05d8824c0b3016fa90af74d700f475.jpg  \n",
            "  inflating: card_data/test/images/IMG_20220316_141012_jpg.rf.17fdeddb93813d92d37a28eb4b4ed22f.jpg  \n",
            "  inflating: card_data/test/images/IMG_20220316_141405_jpg.rf.1c195f370ed9e3d9c66c0c352d000449.jpg  \n",
            "  inflating: card_data/test/images/IMG_20220316_141452_jpg.rf.9a2d443e4988dd9b01d0e627f23284f1.jpg  \n",
            "  inflating: card_data/test/images/IMG_20220316_141509_jpg.rf.61529762f7d4e7f926e6eb3cf668b6a1.jpg  \n",
            "  inflating: card_data/test/images/IMG_20220316_141514_jpg.rf.156e82058688b7f2601d9eb601a7394a.jpg  \n",
            "  inflating: card_data/test/images/IMG_20220316_141521_jpg.rf.e6e4bf511451513822da31029c0eaaa6.jpg  \n",
            "  inflating: card_data/test/images/IMG_20220316_141636_jpg.rf.607f43578be3ee8ce0f84bf9b8883dfc.jpg  \n",
            "  inflating: card_data/test/images/IMG_20220316_141646_jpg.rf.e44661f5e7621a901950b32f38a0a031.jpg  \n",
            "  inflating: card_data/test/images/IMG_20220316_141728_jpg.rf.94a133101650b38d458d496fc6c15df3.jpg  \n",
            "  inflating: card_data/test/images/IMG_20220316_141848_jpg.rf.5a7bd37bb6fa317b9c5b3870d1f22957.jpg  \n",
            "  inflating: card_data/test/images/IMG_20220316_142001_jpg.rf.1f3b5f5f0b3f674ccacf5c16484d2788.jpg  \n",
            "  inflating: card_data/test/images/IMG_20220316_142101_jpg.rf.8fa2aaa985791ae87f9bbcfd3636693d.jpg  \n",
            "  inflating: card_data/test/images/IMG_20220316_142238_jpg.rf.e5345e916f2ad50f1918c23b431d05f4.jpg  \n",
            "  inflating: card_data/test/images/IMG_20220316_142527_jpg.rf.1e8abfb83c752d880d5535453e5a96cb.jpg  \n",
            "  inflating: card_data/test/images/IMG_20220316_142632_jpg.rf.56f0b202854e4ec3a52d439e34a3a141.jpg  \n",
            "  inflating: card_data/test/images/IMG_20220316_142638_jpg.rf.9f15648e3a94516e9d1f80d486bc3b91.jpg  \n",
            "   creating: card_data/test/labels/\n",
            "  inflating: card_data/test/labels/IMG_20220316_134602_jpg.rf.9802a712c2788e3f8a7e872f1d856773.txt  \n",
            "  inflating: card_data/test/labels/IMG_20220316_134814_jpg.rf.936fa75110b13834d910cfdc7d3a5b31.txt  \n",
            "  inflating: card_data/test/labels/IMG_20220316_134837_jpg.rf.6588c2bed2bbf43c4c818f65f05bc0dc.txt  \n",
            "  inflating: card_data/test/labels/IMG_20220316_134840_jpg.rf.5cd97a13e682e0b5adc5b4d9ff527278.txt  \n",
            "  inflating: card_data/test/labels/IMG_20220316_134858_jpg.rf.56b26a40076652072a1b499cbc93c627.txt  \n",
            "  inflating: card_data/test/labels/IMG_20220316_134944_jpg.rf.9f7fc22f550c90e2990b64250acbe9ab.txt  \n",
            "  inflating: card_data/test/labels/IMG_20220316_135003_jpg.rf.596d5b9a645fb8fbb7d1ec1513c8c333.txt  \n",
            "  inflating: card_data/test/labels/IMG_20220316_135021_jpg.rf.56bd683da48e602aed04685145bba2f5.txt  \n",
            "  inflating: card_data/test/labels/IMG_20220316_135030_jpg.rf.97bf69b80c2934323a9cc0d45544f106.txt  \n",
            "  inflating: card_data/test/labels/IMG_20220316_135047_jpg.rf.90fd53d0f292d396b0e45eb59f2afb8b.txt  \n",
            "  inflating: card_data/test/labels/IMG_20220316_135149_jpg.rf.61a4a450d20b01ad2bda9bb35ff21180.txt  \n",
            "  inflating: card_data/test/labels/IMG_20220316_135152_jpg.rf.5c10c8f007b7c4f2f66e5817fbed1590.txt  \n",
            "  inflating: card_data/test/labels/IMG_20220316_135159_jpg.rf.92345c25458c99a5938a783523e53eb6.txt  \n",
            "  inflating: card_data/test/labels/IMG_20220316_135226_jpg.rf.60a83a655b9ad94952f1399a0b91640c.txt  \n",
            "  inflating: card_data/test/labels/IMG_20220316_135301_jpg.rf.9073fe85a0b2ce7ef4e285e69ba6d619.txt  \n",
            "  inflating: card_data/test/labels/IMG_20220316_135310_jpg.rf.18ce41b8ebcac16463a0d576d3592b82.txt  \n",
            "  inflating: card_data/test/labels/IMG_20220316_140221_jpg.rf.909b236fdd74360f1cba4115e0e03bd8.txt  \n",
            "  inflating: card_data/test/labels/IMG_20220316_140227_jpg.rf.5c716c9e62ecfbac3bb7e5350462e52b.txt  \n",
            "  inflating: card_data/test/labels/IMG_20220316_140241_jpg.rf.9c0a6e4fe7c090c65c6b000957774002.txt  \n",
            "  inflating: card_data/test/labels/IMG_20220316_140245_jpg.rf.5c0fd97a0df4459c60450c78f3f8ad00.txt  \n",
            "  inflating: card_data/test/labels/IMG_20220316_140259_jpg.rf.5c1b5f74a9d526136e869d57dc26c844.txt  \n",
            "  inflating: card_data/test/labels/IMG_20220316_140303_jpg.rf.5cf7bd14f4aa4e8cefcd238b9f35f032.txt  \n",
            "  inflating: card_data/test/labels/IMG_20220316_140322_jpg.rf.e148ca3cfa7b4256514dd1acff918a69.txt  \n",
            "  inflating: card_data/test/labels/IMG_20220316_140351_jpg.rf.9fd7fee7d763914008ec79a55754f651.txt  \n",
            "  inflating: card_data/test/labels/IMG_20220316_140435_jpg.rf.6500f48d5376b8d9623dc61823ca7826.txt  \n",
            "  inflating: card_data/test/labels/IMG_20220316_140519_jpg.rf.1b5098a2ad305e7147f2ac8c179c6154.txt  \n",
            "  inflating: card_data/test/labels/IMG_20220316_140530_jpg.rf.e7f3d8e962aee98e706e4b109fa409fa.txt  \n",
            "  inflating: card_data/test/labels/IMG_20220316_140621_jpg.rf.6251e39d2899e4cb3fbd99fd1febfb15.txt  \n",
            "  inflating: card_data/test/labels/IMG_20220316_140635_jpg.rf.537ee1ffb699c24c3bd79993d132be9d.txt  \n",
            "  inflating: card_data/test/labels/IMG_20220316_140652_jpg.rf.15c6d99afa80442fcd7c60a4a4ad7117.txt  \n",
            "  inflating: card_data/test/labels/IMG_20220316_140716_jpg.rf.65703c4c3fcd6c6dee7779760052097e.txt  \n",
            "  inflating: card_data/test/labels/IMG_20220316_140746_jpg.rf.1da915df63625ccc5830813dfd6e2fa8.txt  \n",
            "  inflating: card_data/test/labels/IMG_20220316_140837_jpg.rf.e63e25f15816f531e5157393eb3ba353.txt  \n",
            "  inflating: card_data/test/labels/IMG_20220316_140847_jpg.rf.8e414e3e73e0f7d483da1b49d4d7ef2b.txt  \n",
            "  inflating: card_data/test/labels/IMG_20220316_140908_jpg.rf.1a05d8824c0b3016fa90af74d700f475.txt  \n",
            "  inflating: card_data/test/labels/IMG_20220316_141012_jpg.rf.17fdeddb93813d92d37a28eb4b4ed22f.txt  \n",
            "  inflating: card_data/test/labels/IMG_20220316_141405_jpg.rf.1c195f370ed9e3d9c66c0c352d000449.txt  \n",
            "  inflating: card_data/test/labels/IMG_20220316_141452_jpg.rf.9a2d443e4988dd9b01d0e627f23284f1.txt  \n",
            "  inflating: card_data/test/labels/IMG_20220316_141509_jpg.rf.61529762f7d4e7f926e6eb3cf668b6a1.txt  \n",
            "  inflating: card_data/test/labels/IMG_20220316_141514_jpg.rf.156e82058688b7f2601d9eb601a7394a.txt  \n",
            "  inflating: card_data/test/labels/IMG_20220316_141521_jpg.rf.e6e4bf511451513822da31029c0eaaa6.txt  \n",
            "  inflating: card_data/test/labels/IMG_20220316_141636_jpg.rf.607f43578be3ee8ce0f84bf9b8883dfc.txt  \n",
            "  inflating: card_data/test/labels/IMG_20220316_141646_jpg.rf.e44661f5e7621a901950b32f38a0a031.txt  \n",
            "  inflating: card_data/test/labels/IMG_20220316_141728_jpg.rf.94a133101650b38d458d496fc6c15df3.txt  \n",
            "  inflating: card_data/test/labels/IMG_20220316_141848_jpg.rf.5a7bd37bb6fa317b9c5b3870d1f22957.txt  \n",
            "  inflating: card_data/test/labels/IMG_20220316_142001_jpg.rf.1f3b5f5f0b3f674ccacf5c16484d2788.txt  \n",
            "  inflating: card_data/test/labels/IMG_20220316_142101_jpg.rf.8fa2aaa985791ae87f9bbcfd3636693d.txt  \n",
            "  inflating: card_data/test/labels/IMG_20220316_142238_jpg.rf.e5345e916f2ad50f1918c23b431d05f4.txt  \n",
            "  inflating: card_data/test/labels/IMG_20220316_142527_jpg.rf.1e8abfb83c752d880d5535453e5a96cb.txt  \n",
            "  inflating: card_data/test/labels/IMG_20220316_142632_jpg.rf.56f0b202854e4ec3a52d439e34a3a141.txt  \n",
            "  inflating: card_data/test/labels/IMG_20220316_142638_jpg.rf.9f15648e3a94516e9d1f80d486bc3b91.txt  \n",
            "   creating: card_data/train/\n",
            "   creating: card_data/train/images/\n",
            "  inflating: card_data/train/images/IMG_20220316_134602_jpg.rf.9802a712c2788e3f8a7e872f1d856773.jpg  \n",
            "  inflating: card_data/train/images/IMG_20220316_134814_jpg.rf.936fa75110b13834d910cfdc7d3a5b31.jpg  \n",
            "  inflating: card_data/train/images/IMG_20220316_134837_jpg.rf.6588c2bed2bbf43c4c818f65f05bc0dc.jpg  \n",
            "  inflating: card_data/train/images/IMG_20220316_134840_jpg.rf.5cd97a13e682e0b5adc5b4d9ff527278.jpg  \n",
            "  inflating: card_data/train/images/IMG_20220316_134858_jpg.rf.56b26a40076652072a1b499cbc93c627.jpg  \n",
            "  inflating: card_data/train/images/IMG_20220316_134944_jpg.rf.9f7fc22f550c90e2990b64250acbe9ab.jpg  \n",
            "  inflating: card_data/train/images/IMG_20220316_135003_jpg.rf.596d5b9a645fb8fbb7d1ec1513c8c333.jpg  \n",
            "  inflating: card_data/train/images/IMG_20220316_135021_jpg.rf.56bd683da48e602aed04685145bba2f5.jpg  \n",
            "  inflating: card_data/train/images/IMG_20220316_135030_jpg.rf.97bf69b80c2934323a9cc0d45544f106.jpg  \n",
            "  inflating: card_data/train/images/IMG_20220316_135047_jpg.rf.90fd53d0f292d396b0e45eb59f2afb8b.jpg  \n",
            "  inflating: card_data/train/images/IMG_20220316_135149_jpg.rf.61a4a450d20b01ad2bda9bb35ff21180.jpg  \n",
            "  inflating: card_data/train/images/IMG_20220316_135152_jpg.rf.5c10c8f007b7c4f2f66e5817fbed1590.jpg  \n",
            "  inflating: card_data/train/images/IMG_20220316_135159_jpg.rf.92345c25458c99a5938a783523e53eb6.jpg  \n",
            "  inflating: card_data/train/images/IMG_20220316_135226_jpg.rf.60a83a655b9ad94952f1399a0b91640c.jpg  \n",
            "  inflating: card_data/train/images/IMG_20220316_135301_jpg.rf.9073fe85a0b2ce7ef4e285e69ba6d619.jpg  \n",
            "  inflating: card_data/train/images/IMG_20220316_135310_jpg.rf.18ce41b8ebcac16463a0d576d3592b82.jpg  \n",
            "  inflating: card_data/train/images/IMG_20220316_140221_jpg.rf.909b236fdd74360f1cba4115e0e03bd8.jpg  \n",
            "  inflating: card_data/train/images/IMG_20220316_140227_jpg.rf.5c716c9e62ecfbac3bb7e5350462e52b.jpg  \n",
            "  inflating: card_data/train/images/IMG_20220316_140241_jpg.rf.9c0a6e4fe7c090c65c6b000957774002.jpg  \n",
            "  inflating: card_data/train/images/IMG_20220316_140245_jpg.rf.5c0fd97a0df4459c60450c78f3f8ad00.jpg  \n",
            "  inflating: card_data/train/images/IMG_20220316_140259_jpg.rf.5c1b5f74a9d526136e869d57dc26c844.jpg  \n",
            "  inflating: card_data/train/images/IMG_20220316_140303_jpg.rf.5cf7bd14f4aa4e8cefcd238b9f35f032.jpg  \n",
            "  inflating: card_data/train/images/IMG_20220316_140322_jpg.rf.e148ca3cfa7b4256514dd1acff918a69.jpg  \n",
            "  inflating: card_data/train/images/IMG_20220316_140351_jpg.rf.9fd7fee7d763914008ec79a55754f651.jpg  \n",
            "  inflating: card_data/train/images/IMG_20220316_140435_jpg.rf.6500f48d5376b8d9623dc61823ca7826.jpg  \n",
            "  inflating: card_data/train/images/IMG_20220316_140519_jpg.rf.1b5098a2ad305e7147f2ac8c179c6154.jpg  \n",
            "  inflating: card_data/train/images/IMG_20220316_140530_jpg.rf.e7f3d8e962aee98e706e4b109fa409fa.jpg  \n",
            "  inflating: card_data/train/images/IMG_20220316_140621_jpg.rf.6251e39d2899e4cb3fbd99fd1febfb15.jpg  \n",
            "  inflating: card_data/train/images/IMG_20220316_140635_jpg.rf.537ee1ffb699c24c3bd79993d132be9d.jpg  \n",
            "  inflating: card_data/train/images/IMG_20220316_140652_jpg.rf.15c6d99afa80442fcd7c60a4a4ad7117.jpg  \n",
            "  inflating: card_data/train/images/IMG_20220316_140716_jpg.rf.65703c4c3fcd6c6dee7779760052097e.jpg  \n",
            "  inflating: card_data/train/images/IMG_20220316_140746_jpg.rf.1da915df63625ccc5830813dfd6e2fa8.jpg  \n",
            "  inflating: card_data/train/images/IMG_20220316_140837_jpg.rf.e63e25f15816f531e5157393eb3ba353.jpg  \n",
            "  inflating: card_data/train/images/IMG_20220316_140847_jpg.rf.8e414e3e73e0f7d483da1b49d4d7ef2b.jpg  \n",
            "  inflating: card_data/train/images/IMG_20220316_140908_jpg.rf.1a05d8824c0b3016fa90af74d700f475.jpg  \n",
            "  inflating: card_data/train/images/IMG_20220316_141012_jpg.rf.17fdeddb93813d92d37a28eb4b4ed22f.jpg  \n",
            "  inflating: card_data/train/images/IMG_20220316_141405_jpg.rf.1c195f370ed9e3d9c66c0c352d000449.jpg  \n",
            "  inflating: card_data/train/images/IMG_20220316_141452_jpg.rf.9a2d443e4988dd9b01d0e627f23284f1.jpg  \n",
            "  inflating: card_data/train/images/IMG_20220316_141509_jpg.rf.61529762f7d4e7f926e6eb3cf668b6a1.jpg  \n",
            "  inflating: card_data/train/images/IMG_20220316_141514_jpg.rf.156e82058688b7f2601d9eb601a7394a.jpg  \n",
            "  inflating: card_data/train/images/IMG_20220316_141521_jpg.rf.e6e4bf511451513822da31029c0eaaa6.jpg  \n",
            "  inflating: card_data/train/images/IMG_20220316_141636_jpg.rf.607f43578be3ee8ce0f84bf9b8883dfc.jpg  \n",
            "  inflating: card_data/train/images/IMG_20220316_141646_jpg.rf.e44661f5e7621a901950b32f38a0a031.jpg  \n",
            "  inflating: card_data/train/images/IMG_20220316_141728_jpg.rf.94a133101650b38d458d496fc6c15df3.jpg  \n",
            "  inflating: card_data/train/images/IMG_20220316_141848_jpg.rf.5a7bd37bb6fa317b9c5b3870d1f22957.jpg  \n",
            "  inflating: card_data/train/images/IMG_20220316_142001_jpg.rf.1f3b5f5f0b3f674ccacf5c16484d2788.jpg  \n",
            "  inflating: card_data/train/images/IMG_20220316_142101_jpg.rf.8fa2aaa985791ae87f9bbcfd3636693d.jpg  \n",
            "  inflating: card_data/train/images/IMG_20220316_142238_jpg.rf.e5345e916f2ad50f1918c23b431d05f4.jpg  \n",
            "  inflating: card_data/train/images/IMG_20220316_142527_jpg.rf.1e8abfb83c752d880d5535453e5a96cb.jpg  \n",
            "  inflating: card_data/train/images/IMG_20220316_142632_jpg.rf.56f0b202854e4ec3a52d439e34a3a141.jpg  \n",
            "  inflating: card_data/train/images/IMG_20220316_142638_jpg.rf.9f15648e3a94516e9d1f80d486bc3b91.jpg  \n",
            "   creating: card_data/train/labels/\n",
            "  inflating: card_data/train/labels/IMG_20220316_134602_jpg.rf.9802a712c2788e3f8a7e872f1d856773.txt  \n",
            "  inflating: card_data/train/labels/IMG_20220316_134814_jpg.rf.936fa75110b13834d910cfdc7d3a5b31.txt  \n",
            "  inflating: card_data/train/labels/IMG_20220316_134837_jpg.rf.6588c2bed2bbf43c4c818f65f05bc0dc.txt  \n",
            "  inflating: card_data/train/labels/IMG_20220316_134840_jpg.rf.5cd97a13e682e0b5adc5b4d9ff527278.txt  \n",
            "  inflating: card_data/train/labels/IMG_20220316_134858_jpg.rf.56b26a40076652072a1b499cbc93c627.txt  \n",
            "  inflating: card_data/train/labels/IMG_20220316_134944_jpg.rf.9f7fc22f550c90e2990b64250acbe9ab.txt  \n",
            "  inflating: card_data/train/labels/IMG_20220316_135003_jpg.rf.596d5b9a645fb8fbb7d1ec1513c8c333.txt  \n",
            "  inflating: card_data/train/labels/IMG_20220316_135021_jpg.rf.56bd683da48e602aed04685145bba2f5.txt  \n",
            "  inflating: card_data/train/labels/IMG_20220316_135030_jpg.rf.97bf69b80c2934323a9cc0d45544f106.txt  \n",
            "  inflating: card_data/train/labels/IMG_20220316_135047_jpg.rf.90fd53d0f292d396b0e45eb59f2afb8b.txt  \n",
            "  inflating: card_data/train/labels/IMG_20220316_135149_jpg.rf.61a4a450d20b01ad2bda9bb35ff21180.txt  \n",
            "  inflating: card_data/train/labels/IMG_20220316_135152_jpg.rf.5c10c8f007b7c4f2f66e5817fbed1590.txt  \n",
            "  inflating: card_data/train/labels/IMG_20220316_135159_jpg.rf.92345c25458c99a5938a783523e53eb6.txt  \n",
            "  inflating: card_data/train/labels/IMG_20220316_135226_jpg.rf.60a83a655b9ad94952f1399a0b91640c.txt  \n",
            "  inflating: card_data/train/labels/IMG_20220316_135301_jpg.rf.9073fe85a0b2ce7ef4e285e69ba6d619.txt  \n",
            "  inflating: card_data/train/labels/IMG_20220316_135310_jpg.rf.18ce41b8ebcac16463a0d576d3592b82.txt  \n",
            "  inflating: card_data/train/labels/IMG_20220316_140221_jpg.rf.909b236fdd74360f1cba4115e0e03bd8.txt  \n",
            "  inflating: card_data/train/labels/IMG_20220316_140227_jpg.rf.5c716c9e62ecfbac3bb7e5350462e52b.txt  \n",
            "  inflating: card_data/train/labels/IMG_20220316_140241_jpg.rf.9c0a6e4fe7c090c65c6b000957774002.txt  \n",
            "  inflating: card_data/train/labels/IMG_20220316_140245_jpg.rf.5c0fd97a0df4459c60450c78f3f8ad00.txt  \n",
            "  inflating: card_data/train/labels/IMG_20220316_140259_jpg.rf.5c1b5f74a9d526136e869d57dc26c844.txt  \n",
            "  inflating: card_data/train/labels/IMG_20220316_140303_jpg.rf.5cf7bd14f4aa4e8cefcd238b9f35f032.txt  \n",
            "  inflating: card_data/train/labels/IMG_20220316_140322_jpg.rf.e148ca3cfa7b4256514dd1acff918a69.txt  \n",
            "  inflating: card_data/train/labels/IMG_20220316_140351_jpg.rf.9fd7fee7d763914008ec79a55754f651.txt  \n",
            "  inflating: card_data/train/labels/IMG_20220316_140435_jpg.rf.6500f48d5376b8d9623dc61823ca7826.txt  \n",
            "  inflating: card_data/train/labels/IMG_20220316_140519_jpg.rf.1b5098a2ad305e7147f2ac8c179c6154.txt  \n",
            "  inflating: card_data/train/labels/IMG_20220316_140530_jpg.rf.e7f3d8e962aee98e706e4b109fa409fa.txt  \n",
            "  inflating: card_data/train/labels/IMG_20220316_140621_jpg.rf.6251e39d2899e4cb3fbd99fd1febfb15.txt  \n",
            "  inflating: card_data/train/labels/IMG_20220316_140635_jpg.rf.537ee1ffb699c24c3bd79993d132be9d.txt  \n",
            "  inflating: card_data/train/labels/IMG_20220316_140652_jpg.rf.15c6d99afa80442fcd7c60a4a4ad7117.txt  \n",
            "  inflating: card_data/train/labels/IMG_20220316_140716_jpg.rf.65703c4c3fcd6c6dee7779760052097e.txt  \n",
            "  inflating: card_data/train/labels/IMG_20220316_140746_jpg.rf.1da915df63625ccc5830813dfd6e2fa8.txt  \n",
            "  inflating: card_data/train/labels/IMG_20220316_140837_jpg.rf.e63e25f15816f531e5157393eb3ba353.txt  \n",
            "  inflating: card_data/train/labels/IMG_20220316_140847_jpg.rf.8e414e3e73e0f7d483da1b49d4d7ef2b.txt  \n",
            "  inflating: card_data/train/labels/IMG_20220316_140908_jpg.rf.1a05d8824c0b3016fa90af74d700f475.txt  \n",
            "  inflating: card_data/train/labels/IMG_20220316_141012_jpg.rf.17fdeddb93813d92d37a28eb4b4ed22f.txt  \n",
            "  inflating: card_data/train/labels/IMG_20220316_141405_jpg.rf.1c195f370ed9e3d9c66c0c352d000449.txt  \n",
            "  inflating: card_data/train/labels/IMG_20220316_141452_jpg.rf.9a2d443e4988dd9b01d0e627f23284f1.txt  \n",
            "  inflating: card_data/train/labels/IMG_20220316_141509_jpg.rf.61529762f7d4e7f926e6eb3cf668b6a1.txt  \n",
            "  inflating: card_data/train/labels/IMG_20220316_141514_jpg.rf.156e82058688b7f2601d9eb601a7394a.txt  \n",
            "  inflating: card_data/train/labels/IMG_20220316_141521_jpg.rf.e6e4bf511451513822da31029c0eaaa6.txt  \n",
            "  inflating: card_data/train/labels/IMG_20220316_141636_jpg.rf.607f43578be3ee8ce0f84bf9b8883dfc.txt  \n",
            "  inflating: card_data/train/labels/IMG_20220316_141646_jpg.rf.e44661f5e7621a901950b32f38a0a031.txt  \n",
            "  inflating: card_data/train/labels/IMG_20220316_141728_jpg.rf.94a133101650b38d458d496fc6c15df3.txt  \n",
            "  inflating: card_data/train/labels/IMG_20220316_141848_jpg.rf.5a7bd37bb6fa317b9c5b3870d1f22957.txt  \n",
            "  inflating: card_data/train/labels/IMG_20220316_142001_jpg.rf.1f3b5f5f0b3f674ccacf5c16484d2788.txt  \n",
            "  inflating: card_data/train/labels/IMG_20220316_142101_jpg.rf.8fa2aaa985791ae87f9bbcfd3636693d.txt  \n",
            "  inflating: card_data/train/labels/IMG_20220316_142238_jpg.rf.e5345e916f2ad50f1918c23b431d05f4.txt  \n",
            "  inflating: card_data/train/labels/IMG_20220316_142527_jpg.rf.1e8abfb83c752d880d5535453e5a96cb.txt  \n",
            "  inflating: card_data/train/labels/IMG_20220316_142632_jpg.rf.56f0b202854e4ec3a52d439e34a3a141.txt  \n",
            "  inflating: card_data/train/labels/IMG_20220316_142638_jpg.rf.9f15648e3a94516e9d1f80d486bc3b91.txt  \n",
            "   creating: card_data/val/\n",
            "   creating: card_data/val/images/\n",
            "  inflating: card_data/val/images/IMG_20220316_134602_jpg.rf.9802a712c2788e3f8a7e872f1d856773.jpg  \n",
            "  inflating: card_data/val/images/IMG_20220316_134814_jpg.rf.936fa75110b13834d910cfdc7d3a5b31.jpg  \n",
            "  inflating: card_data/val/images/IMG_20220316_134837_jpg.rf.6588c2bed2bbf43c4c818f65f05bc0dc.jpg  \n",
            "  inflating: card_data/val/images/IMG_20220316_134840_jpg.rf.5cd97a13e682e0b5adc5b4d9ff527278.jpg  \n",
            "  inflating: card_data/val/images/IMG_20220316_134858_jpg.rf.56b26a40076652072a1b499cbc93c627.jpg  \n",
            "  inflating: card_data/val/images/IMG_20220316_134944_jpg.rf.9f7fc22f550c90e2990b64250acbe9ab.jpg  \n",
            "  inflating: card_data/val/images/IMG_20220316_135003_jpg.rf.596d5b9a645fb8fbb7d1ec1513c8c333.jpg  \n",
            "  inflating: card_data/val/images/IMG_20220316_135021_jpg.rf.56bd683da48e602aed04685145bba2f5.jpg  \n",
            "  inflating: card_data/val/images/IMG_20220316_135030_jpg.rf.97bf69b80c2934323a9cc0d45544f106.jpg  \n",
            "  inflating: card_data/val/images/IMG_20220316_135047_jpg.rf.90fd53d0f292d396b0e45eb59f2afb8b.jpg  \n",
            "  inflating: card_data/val/images/IMG_20220316_135149_jpg.rf.61a4a450d20b01ad2bda9bb35ff21180.jpg  \n",
            "  inflating: card_data/val/images/IMG_20220316_135152_jpg.rf.5c10c8f007b7c4f2f66e5817fbed1590.jpg  \n",
            "  inflating: card_data/val/images/IMG_20220316_135159_jpg.rf.92345c25458c99a5938a783523e53eb6.jpg  \n",
            "  inflating: card_data/val/images/IMG_20220316_135226_jpg.rf.60a83a655b9ad94952f1399a0b91640c.jpg  \n",
            "  inflating: card_data/val/images/IMG_20220316_135301_jpg.rf.9073fe85a0b2ce7ef4e285e69ba6d619.jpg  \n",
            "  inflating: card_data/val/images/IMG_20220316_135310_jpg.rf.18ce41b8ebcac16463a0d576d3592b82.jpg  \n",
            "  inflating: card_data/val/images/IMG_20220316_140221_jpg.rf.909b236fdd74360f1cba4115e0e03bd8.jpg  \n",
            "  inflating: card_data/val/images/IMG_20220316_140227_jpg.rf.5c716c9e62ecfbac3bb7e5350462e52b.jpg  \n",
            "  inflating: card_data/val/images/IMG_20220316_140241_jpg.rf.9c0a6e4fe7c090c65c6b000957774002.jpg  \n",
            "  inflating: card_data/val/images/IMG_20220316_140245_jpg.rf.5c0fd97a0df4459c60450c78f3f8ad00.jpg  \n",
            "  inflating: card_data/val/images/IMG_20220316_140259_jpg.rf.5c1b5f74a9d526136e869d57dc26c844.jpg  \n",
            "  inflating: card_data/val/images/IMG_20220316_140303_jpg.rf.5cf7bd14f4aa4e8cefcd238b9f35f032.jpg  \n",
            "  inflating: card_data/val/images/IMG_20220316_140322_jpg.rf.e148ca3cfa7b4256514dd1acff918a69.jpg  \n",
            "  inflating: card_data/val/images/IMG_20220316_140351_jpg.rf.9fd7fee7d763914008ec79a55754f651.jpg  \n",
            "  inflating: card_data/val/images/IMG_20220316_140435_jpg.rf.6500f48d5376b8d9623dc61823ca7826.jpg  \n",
            "  inflating: card_data/val/images/IMG_20220316_140519_jpg.rf.1b5098a2ad305e7147f2ac8c179c6154.jpg  \n",
            "  inflating: card_data/val/images/IMG_20220316_140530_jpg.rf.e7f3d8e962aee98e706e4b109fa409fa.jpg  \n",
            "  inflating: card_data/val/images/IMG_20220316_140621_jpg.rf.6251e39d2899e4cb3fbd99fd1febfb15.jpg  \n",
            "  inflating: card_data/val/images/IMG_20220316_140635_jpg.rf.537ee1ffb699c24c3bd79993d132be9d.jpg  \n",
            "  inflating: card_data/val/images/IMG_20220316_140652_jpg.rf.15c6d99afa80442fcd7c60a4a4ad7117.jpg  \n",
            "  inflating: card_data/val/images/IMG_20220316_140716_jpg.rf.65703c4c3fcd6c6dee7779760052097e.jpg  \n",
            "  inflating: card_data/val/images/IMG_20220316_140746_jpg.rf.1da915df63625ccc5830813dfd6e2fa8.jpg  \n",
            "  inflating: card_data/val/images/IMG_20220316_140837_jpg.rf.e63e25f15816f531e5157393eb3ba353.jpg  \n",
            "  inflating: card_data/val/images/IMG_20220316_140847_jpg.rf.8e414e3e73e0f7d483da1b49d4d7ef2b.jpg  \n",
            "  inflating: card_data/val/images/IMG_20220316_140908_jpg.rf.1a05d8824c0b3016fa90af74d700f475.jpg  \n",
            "  inflating: card_data/val/images/IMG_20220316_141012_jpg.rf.17fdeddb93813d92d37a28eb4b4ed22f.jpg  \n",
            "  inflating: card_data/val/images/IMG_20220316_141405_jpg.rf.1c195f370ed9e3d9c66c0c352d000449.jpg  \n",
            "  inflating: card_data/val/images/IMG_20220316_141452_jpg.rf.9a2d443e4988dd9b01d0e627f23284f1.jpg  \n",
            "  inflating: card_data/val/images/IMG_20220316_141509_jpg.rf.61529762f7d4e7f926e6eb3cf668b6a1.jpg  \n",
            "  inflating: card_data/val/images/IMG_20220316_141514_jpg.rf.156e82058688b7f2601d9eb601a7394a.jpg  \n",
            "  inflating: card_data/val/images/IMG_20220316_141521_jpg.rf.e6e4bf511451513822da31029c0eaaa6.jpg  \n",
            "  inflating: card_data/val/images/IMG_20220316_141636_jpg.rf.607f43578be3ee8ce0f84bf9b8883dfc.jpg  \n",
            "  inflating: card_data/val/images/IMG_20220316_141646_jpg.rf.e44661f5e7621a901950b32f38a0a031.jpg  \n",
            "  inflating: card_data/val/images/IMG_20220316_141728_jpg.rf.94a133101650b38d458d496fc6c15df3.jpg  \n",
            "  inflating: card_data/val/images/IMG_20220316_141848_jpg.rf.5a7bd37bb6fa317b9c5b3870d1f22957.jpg  \n",
            "  inflating: card_data/val/images/IMG_20220316_142001_jpg.rf.1f3b5f5f0b3f674ccacf5c16484d2788.jpg  \n",
            "  inflating: card_data/val/images/IMG_20220316_142101_jpg.rf.8fa2aaa985791ae87f9bbcfd3636693d.jpg  \n",
            "  inflating: card_data/val/images/IMG_20220316_142238_jpg.rf.e5345e916f2ad50f1918c23b431d05f4.jpg  \n",
            "  inflating: card_data/val/images/IMG_20220316_142527_jpg.rf.1e8abfb83c752d880d5535453e5a96cb.jpg  \n",
            "  inflating: card_data/val/images/IMG_20220316_142632_jpg.rf.56f0b202854e4ec3a52d439e34a3a141.jpg  \n",
            "  inflating: card_data/val/images/IMG_20220316_142638_jpg.rf.9f15648e3a94516e9d1f80d486bc3b91.jpg  \n",
            "   creating: card_data/val/labels/\n",
            "  inflating: card_data/val/labels/IMG_20220316_134602_jpg.rf.9802a712c2788e3f8a7e872f1d856773.txt  \n",
            "  inflating: card_data/val/labels/IMG_20220316_134814_jpg.rf.936fa75110b13834d910cfdc7d3a5b31.txt  \n",
            "  inflating: card_data/val/labels/IMG_20220316_134837_jpg.rf.6588c2bed2bbf43c4c818f65f05bc0dc.txt  \n",
            "  inflating: card_data/val/labels/IMG_20220316_134840_jpg.rf.5cd97a13e682e0b5adc5b4d9ff527278.txt  \n",
            "  inflating: card_data/val/labels/IMG_20220316_134858_jpg.rf.56b26a40076652072a1b499cbc93c627.txt  \n",
            "  inflating: card_data/val/labels/IMG_20220316_134944_jpg.rf.9f7fc22f550c90e2990b64250acbe9ab.txt  \n",
            "  inflating: card_data/val/labels/IMG_20220316_135003_jpg.rf.596d5b9a645fb8fbb7d1ec1513c8c333.txt  \n",
            "  inflating: card_data/val/labels/IMG_20220316_135021_jpg.rf.56bd683da48e602aed04685145bba2f5.txt  \n",
            "  inflating: card_data/val/labels/IMG_20220316_135030_jpg.rf.97bf69b80c2934323a9cc0d45544f106.txt  \n",
            "  inflating: card_data/val/labels/IMG_20220316_135047_jpg.rf.90fd53d0f292d396b0e45eb59f2afb8b.txt  \n",
            "  inflating: card_data/val/labels/IMG_20220316_135149_jpg.rf.61a4a450d20b01ad2bda9bb35ff21180.txt  \n",
            "  inflating: card_data/val/labels/IMG_20220316_135152_jpg.rf.5c10c8f007b7c4f2f66e5817fbed1590.txt  \n",
            "  inflating: card_data/val/labels/IMG_20220316_135159_jpg.rf.92345c25458c99a5938a783523e53eb6.txt  \n",
            "  inflating: card_data/val/labels/IMG_20220316_135226_jpg.rf.60a83a655b9ad94952f1399a0b91640c.txt  \n",
            "  inflating: card_data/val/labels/IMG_20220316_135301_jpg.rf.9073fe85a0b2ce7ef4e285e69ba6d619.txt  \n",
            "  inflating: card_data/val/labels/IMG_20220316_135310_jpg.rf.18ce41b8ebcac16463a0d576d3592b82.txt  \n",
            "  inflating: card_data/val/labels/IMG_20220316_140221_jpg.rf.909b236fdd74360f1cba4115e0e03bd8.txt  \n",
            "  inflating: card_data/val/labels/IMG_20220316_140227_jpg.rf.5c716c9e62ecfbac3bb7e5350462e52b.txt  \n",
            "  inflating: card_data/val/labels/IMG_20220316_140241_jpg.rf.9c0a6e4fe7c090c65c6b000957774002.txt  \n",
            "  inflating: card_data/val/labels/IMG_20220316_140245_jpg.rf.5c0fd97a0df4459c60450c78f3f8ad00.txt  \n",
            "  inflating: card_data/val/labels/IMG_20220316_140259_jpg.rf.5c1b5f74a9d526136e869d57dc26c844.txt  \n",
            "  inflating: card_data/val/labels/IMG_20220316_140303_jpg.rf.5cf7bd14f4aa4e8cefcd238b9f35f032.txt  \n",
            "  inflating: card_data/val/labels/IMG_20220316_140322_jpg.rf.e148ca3cfa7b4256514dd1acff918a69.txt  \n",
            "  inflating: card_data/val/labels/IMG_20220316_140351_jpg.rf.9fd7fee7d763914008ec79a55754f651.txt  \n",
            "  inflating: card_data/val/labels/IMG_20220316_140435_jpg.rf.6500f48d5376b8d9623dc61823ca7826.txt  \n",
            "  inflating: card_data/val/labels/IMG_20220316_140519_jpg.rf.1b5098a2ad305e7147f2ac8c179c6154.txt  \n",
            "  inflating: card_data/val/labels/IMG_20220316_140530_jpg.rf.e7f3d8e962aee98e706e4b109fa409fa.txt  \n",
            "  inflating: card_data/val/labels/IMG_20220316_140621_jpg.rf.6251e39d2899e4cb3fbd99fd1febfb15.txt  \n",
            "  inflating: card_data/val/labels/IMG_20220316_140635_jpg.rf.537ee1ffb699c24c3bd79993d132be9d.txt  \n",
            "  inflating: card_data/val/labels/IMG_20220316_140652_jpg.rf.15c6d99afa80442fcd7c60a4a4ad7117.txt  \n",
            "  inflating: card_data/val/labels/IMG_20220316_140716_jpg.rf.65703c4c3fcd6c6dee7779760052097e.txt  \n",
            "  inflating: card_data/val/labels/IMG_20220316_140746_jpg.rf.1da915df63625ccc5830813dfd6e2fa8.txt  \n",
            "  inflating: card_data/val/labels/IMG_20220316_140837_jpg.rf.e63e25f15816f531e5157393eb3ba353.txt  \n",
            "  inflating: card_data/val/labels/IMG_20220316_140847_jpg.rf.8e414e3e73e0f7d483da1b49d4d7ef2b.txt  \n",
            "  inflating: card_data/val/labels/IMG_20220316_140908_jpg.rf.1a05d8824c0b3016fa90af74d700f475.txt  \n",
            "  inflating: card_data/val/labels/IMG_20220316_141012_jpg.rf.17fdeddb93813d92d37a28eb4b4ed22f.txt  \n",
            "  inflating: card_data/val/labels/IMG_20220316_141405_jpg.rf.1c195f370ed9e3d9c66c0c352d000449.txt  \n",
            "  inflating: card_data/val/labels/IMG_20220316_141452_jpg.rf.9a2d443e4988dd9b01d0e627f23284f1.txt  \n",
            "  inflating: card_data/val/labels/IMG_20220316_141509_jpg.rf.61529762f7d4e7f926e6eb3cf668b6a1.txt  \n",
            "  inflating: card_data/val/labels/IMG_20220316_141514_jpg.rf.156e82058688b7f2601d9eb601a7394a.txt  \n",
            "  inflating: card_data/val/labels/IMG_20220316_141521_jpg.rf.e6e4bf511451513822da31029c0eaaa6.txt  \n",
            "  inflating: card_data/val/labels/IMG_20220316_141636_jpg.rf.607f43578be3ee8ce0f84bf9b8883dfc.txt  \n",
            "  inflating: card_data/val/labels/IMG_20220316_141646_jpg.rf.e44661f5e7621a901950b32f38a0a031.txt  \n",
            "  inflating: card_data/val/labels/IMG_20220316_141728_jpg.rf.94a133101650b38d458d496fc6c15df3.txt  \n",
            "  inflating: card_data/val/labels/IMG_20220316_141848_jpg.rf.5a7bd37bb6fa317b9c5b3870d1f22957.txt  \n",
            "  inflating: card_data/val/labels/IMG_20220316_142001_jpg.rf.1f3b5f5f0b3f674ccacf5c16484d2788.txt  \n",
            "  inflating: card_data/val/labels/IMG_20220316_142101_jpg.rf.8fa2aaa985791ae87f9bbcfd3636693d.txt  \n",
            "  inflating: card_data/val/labels/IMG_20220316_142238_jpg.rf.e5345e916f2ad50f1918c23b431d05f4.txt  \n",
            "  inflating: card_data/val/labels/IMG_20220316_142527_jpg.rf.1e8abfb83c752d880d5535453e5a96cb.txt  \n",
            "  inflating: card_data/val/labels/IMG_20220316_142632_jpg.rf.56f0b202854e4ec3a52d439e34a3a141.txt  \n",
            "  inflating: card_data/val/labels/IMG_20220316_142638_jpg.rf.9f15648e3a94516e9d1f80d486bc3b91.txt  \n"
          ]
        }
      ],
      "source": [
        "!unzip card_data.zip"
      ]
    },
    {
      "cell_type": "code",
      "execution_count": 5,
      "metadata": {
        "id": "NIOuR_4pj_8k",
        "outputId": "bf70c6ed-600d-4885-abae-05a55d20c87f",
        "colab": {
          "base_uri": "https://localhost:8080/"
        }
      },
      "outputs": [
        {
          "output_type": "stream",
          "name": "stdout",
          "text": [
            "test  train  val\n"
          ]
        }
      ],
      "source": [
        "!ls card_data"
      ]
    },
    {
      "cell_type": "code",
      "source": [
        "!pwd"
      ],
      "metadata": {
        "colab": {
          "base_uri": "https://localhost:8080/"
        },
        "id": "TKPe_aW9ofgo",
        "outputId": "fd6b2300-5843-4e1c-cc35-c4f914870b04"
      },
      "execution_count": 10,
      "outputs": [
        {
          "output_type": "stream",
          "name": "stdout",
          "text": [
            "/content/datasets\n"
          ]
        }
      ]
    },
    {
      "cell_type": "code",
      "execution_count": 11,
      "metadata": {
        "id": "OqAHuO5LLcbg"
      },
      "outputs": [],
      "source": [
        "# 사용할 데이터셋 경로 및 데이터셋의 yaml 파일 경로 지정\n",
        "data_dir = 'card_data'\n",
        "data_yaml = 'card_data/data.yaml'"
      ]
    },
    {
      "cell_type": "code",
      "execution_count": 12,
      "metadata": {
        "id": "CGKnqP5zfIja",
        "outputId": "a450a388-3e49-43df-9bed-b00de5976957",
        "colab": {
          "base_uri": "https://localhost:8080/",
          "height": 107
        }
      },
      "outputs": [
        {
          "output_type": "display_data",
          "data": {
            "text/plain": [
              "{'train': '../train/images',\n",
              " 'val': '../valid/images',\n",
              " 'test': '../test/images',\n",
              " 'nc': 4,\n",
              " 'names': ['Diamonds', 'Hearts', 'Spades', 'Trefoils']}"
            ]
          },
          "metadata": {}
        }
      ],
      "source": [
        "import yaml\n",
        "\n",
        "# 데이터셋 yaml 파일 확인\n",
        "with open(data_yaml) as f:\n",
        "    film = yaml.load(f, Loader=yaml.FullLoader)\n",
        "    display(film)"
      ]
    },
    {
      "cell_type": "code",
      "execution_count": 16,
      "metadata": {
        "id": "bWWLCozsgNuv",
        "outputId": "e7367ab7-8980-418b-ff54-2a59cb55cc55",
        "colab": {
          "base_uri": "https://localhost:8080/",
          "height": 125
        }
      },
      "outputs": [
        {
          "output_type": "stream",
          "name": "stdout",
          "text": [
            "변경된 yaml 파일 :\n"
          ]
        },
        {
          "output_type": "display_data",
          "data": {
            "text/plain": [
              "{'names': ['Diamonds', 'Hearts', 'Spades', 'Trefoils'],\n",
              " 'nc': 4,\n",
              " 'test': '/content/datasets/card_data/test/images',\n",
              " 'train': '/content/datasets/card_data/train/images',\n",
              " 'val': '/content/datasets/card_data/val/images'}"
            ]
          },
          "metadata": {}
        }
      ],
      "source": [
        "# yaml 파일의 train, val 데이터가 있는 경로 수정 (기존 경로 -> 구글 드라이브에 저장된 경로로)\n",
        "film['train'] = '/content/datasets/card_data/train/images'\n",
        "film['val'] = '/content/datasets/card_data/val/images'\n",
        "film['test'] = '/content/datasets/card_data/test/images'\n",
        "\n",
        "with open(data_yaml, 'w') as f:\n",
        "    yaml.dump(film, f)\n",
        "\n",
        "print('변경된 yaml 파일 :')\n",
        "with open(data_yaml) as f:\n",
        "    film = yaml.load(f, Loader=yaml.FullLoader)\n",
        "    display(film)"
      ]
    },
    {
      "cell_type": "markdown",
      "metadata": {
        "id": "nrANyxJXRhH2"
      },
      "source": [
        "# 4. YOLOv10 모델 학습\n",
        "- 배치사이즈, 학습 에폭, 모델 사이즈 등을 선택하여 학습시킬 수 있음\n",
        "- 학습 결과 중 베스트 모델이 저장됨 -> 모델 저장된 경로 확인 필수!\n",
        "  - img: 입력 이미지 크기\n",
        "  - batch: 배치 사이즈\n",
        "  - epochs: 총 학습 에폭\n",
        "  - data: 데이터셋 yaml 파일 경로\n",
        "  - weights: 모델 웨이트 경로(pre-train된 모델로 학습시키기 때문에)\n",
        "  - cache: 캐시 이미지"
      ]
    },
    {
      "cell_type": "code",
      "execution_count": 17,
      "metadata": {
        "id": "wjg5tyaLlDTM",
        "outputId": "7e77260e-cba1-4c21-e8be-b9dad9ad9807",
        "colab": {
          "base_uri": "https://localhost:8080/",
          "height": 35
        }
      },
      "outputs": [
        {
          "output_type": "execute_result",
          "data": {
            "text/plain": [
              "'/content/datasets'"
            ],
            "application/vnd.google.colaboratory.intrinsic+json": {
              "type": "string"
            }
          },
          "metadata": {},
          "execution_count": 17
        }
      ],
      "source": [
        "%pwd"
      ]
    },
    {
      "cell_type": "code",
      "execution_count": 18,
      "metadata": {
        "id": "p69MjETVIosl",
        "outputId": "4f4619e5-d8b7-4cc5-c811-979517a54f86",
        "colab": {
          "base_uri": "https://localhost:8080/"
        }
      },
      "outputs": [
        {
          "output_type": "stream",
          "name": "stdout",
          "text": [
            "Ultralytics YOLOv8.2.102 🚀 Python-3.10.12 torch-2.4.1+cu121 CUDA:0 (NVIDIA A100-SXM4-40GB, 40514MiB)\n",
            "\u001b[34m\u001b[1mengine/trainer: \u001b[0mtask=detect, mode=train, model=yolov10s.pt, data=card_data/data.yaml, epochs=200, time=None, patience=100, batch=16, imgsz=640, save=True, save_period=-1, cache=False, device=0, workers=8, project=None, name=train2, exist_ok=False, pretrained=True, optimizer=auto, verbose=True, seed=0, deterministic=True, single_cls=False, rect=False, cos_lr=False, close_mosaic=10, resume=False, amp=True, fraction=1.0, profile=False, freeze=None, multi_scale=False, overlap_mask=True, mask_ratio=4, dropout=0.0, val=True, split=val, save_json=False, save_hybrid=False, conf=None, iou=0.7, max_det=300, half=False, dnn=False, plots=True, source=None, vid_stride=1, stream_buffer=False, visualize=False, augment=False, agnostic_nms=False, classes=None, retina_masks=False, embed=None, show=False, save_frames=False, save_txt=False, save_conf=False, save_crop=False, show_labels=True, show_conf=True, show_boxes=True, line_width=None, format=torchscript, keras=False, optimize=False, int8=False, dynamic=False, simplify=True, opset=None, workspace=4, nms=False, lr0=0.01, lrf=0.01, momentum=0.937, weight_decay=0.0005, warmup_epochs=3.0, warmup_momentum=0.8, warmup_bias_lr=0.1, box=7.5, cls=0.5, dfl=1.5, pose=12.0, kobj=1.0, label_smoothing=0.0, nbs=64, hsv_h=0.015, hsv_s=0.7, hsv_v=0.4, degrees=0.0, translate=0.1, scale=0.5, shear=0.0, perspective=0.0, flipud=0.0, fliplr=0.5, bgr=0.0, mosaic=1.0, mixup=0.0, copy_paste=0.0, auto_augment=randaugment, erasing=0.4, crop_fraction=1.0, cfg=None, tracker=botsort.yaml, save_dir=runs/detect/train2\n",
            "Downloading https://ultralytics.com/assets/Arial.ttf to '/root/.config/Ultralytics/Arial.ttf'...\n"
          ]
        },
        {
          "output_type": "stream",
          "name": "stderr",
          "text": [
            "100%|██████████| 755k/755k [00:00<00:00, 14.8MB/s]\n"
          ]
        },
        {
          "output_type": "stream",
          "name": "stdout",
          "text": [
            "Overriding model.yaml nc=80 with nc=4\n",
            "\n",
            "                   from  n    params  module                                       arguments                     \n",
            "  0                  -1  1       928  ultralytics.nn.modules.conv.Conv             [3, 32, 3, 2]                 \n",
            "  1                  -1  1     18560  ultralytics.nn.modules.conv.Conv             [32, 64, 3, 2]                \n",
            "  2                  -1  1     29056  ultralytics.nn.modules.block.C2f             [64, 64, 1, True]             \n",
            "  3                  -1  1     73984  ultralytics.nn.modules.conv.Conv             [64, 128, 3, 2]               \n",
            "  4                  -1  2    197632  ultralytics.nn.modules.block.C2f             [128, 128, 2, True]           \n",
            "  5                  -1  1     36096  ultralytics.nn.modules.block.SCDown          [128, 256, 3, 2]              \n",
            "  6                  -1  2    788480  ultralytics.nn.modules.block.C2f             [256, 256, 2, True]           \n",
            "  7                  -1  1    137728  ultralytics.nn.modules.block.SCDown          [256, 512, 3, 2]              \n",
            "  8                  -1  1    958464  ultralytics.nn.modules.block.C2fCIB          [512, 512, 1, True, True]     \n",
            "  9                  -1  1    656896  ultralytics.nn.modules.block.SPPF            [512, 512, 5]                 \n",
            " 10                  -1  1    990976  ultralytics.nn.modules.block.PSA             [512, 512]                    \n",
            " 11                  -1  1         0  torch.nn.modules.upsampling.Upsample         [None, 2, 'nearest']          \n",
            " 12             [-1, 6]  1         0  ultralytics.nn.modules.conv.Concat           [1]                           \n",
            " 13                  -1  1    591360  ultralytics.nn.modules.block.C2f             [768, 256, 1]                 \n",
            " 14                  -1  1         0  torch.nn.modules.upsampling.Upsample         [None, 2, 'nearest']          \n",
            " 15             [-1, 4]  1         0  ultralytics.nn.modules.conv.Concat           [1]                           \n",
            " 16                  -1  1    148224  ultralytics.nn.modules.block.C2f             [384, 128, 1]                 \n",
            " 17                  -1  1    147712  ultralytics.nn.modules.conv.Conv             [128, 128, 3, 2]              \n",
            " 18            [-1, 13]  1         0  ultralytics.nn.modules.conv.Concat           [1]                           \n",
            " 19                  -1  1    493056  ultralytics.nn.modules.block.C2f             [384, 256, 1]                 \n",
            " 20                  -1  1     68864  ultralytics.nn.modules.block.SCDown          [256, 256, 3, 2]              \n",
            " 21            [-1, 10]  1         0  ultralytics.nn.modules.conv.Concat           [1]                           \n",
            " 22                  -1  1   1089536  ultralytics.nn.modules.block.C2fCIB          [768, 512, 1, True, True]     \n",
            " 23        [16, 19, 22]  1   1641896  ultralytics.nn.modules.head.v10Detect        [4, [128, 256, 512]]          \n",
            "YOLOv10s summary: 402 layers, 8,069,448 parameters, 8,069,432 gradients, 24.8 GFLOPs\n",
            "\n",
            "Transferred 607/619 items from pretrained weights\n",
            "\u001b[34m\u001b[1mTensorBoard: \u001b[0mStart with 'tensorboard --logdir runs/detect/train2', view at http://localhost:6006/\n",
            "Freezing layer 'model.23.dfl.conv.weight'\n",
            "\u001b[34m\u001b[1mAMP: \u001b[0mrunning Automatic Mixed Precision (AMP) checks with YOLOv8n...\n",
            "Downloading https://github.com/ultralytics/assets/releases/download/v8.2.0/yolov8n.pt to 'yolov8n.pt'...\n"
          ]
        },
        {
          "output_type": "stream",
          "name": "stderr",
          "text": [
            "100%|██████████| 6.25M/6.25M [00:00<00:00, 79.0MB/s]\n"
          ]
        },
        {
          "output_type": "stream",
          "name": "stdout",
          "text": [
            "\u001b[34m\u001b[1mAMP: \u001b[0mchecks passed ✅\n"
          ]
        },
        {
          "output_type": "stream",
          "name": "stderr",
          "text": [
            "\u001b[34m\u001b[1mtrain: \u001b[0mScanning /content/datasets/card_data/train/labels... 51 images, 0 backgrounds, 0 corrupt: 100%|██████████| 51/51 [00:00<00:00, 1098.11it/s]"
          ]
        },
        {
          "output_type": "stream",
          "name": "stdout",
          "text": [
            "\u001b[34m\u001b[1mtrain: \u001b[0mNew cache created: /content/datasets/card_data/train/labels.cache\n"
          ]
        },
        {
          "output_type": "stream",
          "name": "stderr",
          "text": [
            "\n"
          ]
        },
        {
          "output_type": "stream",
          "name": "stdout",
          "text": [
            "\u001b[34m\u001b[1malbumentations: \u001b[0mBlur(p=0.01, blur_limit=(3, 7)), MedianBlur(p=0.01, blur_limit=(3, 7)), ToGray(p=0.01, num_output_channels=3, method='weighted_average'), CLAHE(p=0.01, clip_limit=(1, 4.0), tile_grid_size=(8, 8))\n"
          ]
        },
        {
          "output_type": "stream",
          "name": "stderr",
          "text": [
            "/usr/local/lib/python3.10/dist-packages/albumentations/__init__.py:13: UserWarning: A new version of Albumentations is available: 1.4.16 (you have 1.4.15). Upgrade using: pip install -U albumentations. To disable automatic update checks, set the environment variable NO_ALBUMENTATIONS_UPDATE to 1.\n",
            "  check_for_updates()\n",
            "\u001b[34m\u001b[1mval: \u001b[0mScanning /content/datasets/card_data/val/labels... 51 images, 0 backgrounds, 0 corrupt: 100%|██████████| 51/51 [00:00<00:00, 994.63it/s]"
          ]
        },
        {
          "output_type": "stream",
          "name": "stdout",
          "text": [
            "\u001b[34m\u001b[1mval: \u001b[0mNew cache created: /content/datasets/card_data/val/labels.cache\n"
          ]
        },
        {
          "output_type": "stream",
          "name": "stderr",
          "text": [
            "\n"
          ]
        },
        {
          "output_type": "stream",
          "name": "stdout",
          "text": [
            "Plotting labels to runs/detect/train2/labels.jpg... \n",
            "\u001b[34m\u001b[1moptimizer:\u001b[0m 'optimizer=auto' found, ignoring 'lr0=0.01' and 'momentum=0.937' and determining best 'optimizer', 'lr0' and 'momentum' automatically... \n",
            "\u001b[34m\u001b[1moptimizer:\u001b[0m AdamW(lr=0.00125, momentum=0.9) with parameter groups 99 weight(decay=0.0), 112 weight(decay=0.0005), 111 bias(decay=0.0)\n",
            "\u001b[34m\u001b[1mTensorBoard: \u001b[0mmodel graph visualization added ✅\n",
            "Image sizes 640 train, 640 val\n",
            "Using 8 dataloader workers\n",
            "Logging results to \u001b[1mruns/detect/train2\u001b[0m\n",
            "Starting training for 200 epochs...\n",
            "\n",
            "      Epoch    GPU_mem   box_loss   cls_loss   dfl_loss  Instances       Size\n"
          ]
        },
        {
          "output_type": "stream",
          "name": "stderr",
          "text": [
            "      1/200      5.18G      1.719      15.16      2.716         29        640: 100%|██████████| 4/4 [00:02<00:00,  1.56it/s]\n",
            "                 Class     Images  Instances      Box(P          R      mAP50  mAP50-95): 100%|██████████| 2/2 [00:01<00:00,  1.25it/s]"
          ]
        },
        {
          "output_type": "stream",
          "name": "stdout",
          "text": [
            "                   all         51        216      0.166      0.216      0.118     0.0969\n"
          ]
        },
        {
          "output_type": "stream",
          "name": "stderr",
          "text": [
            "\n"
          ]
        },
        {
          "output_type": "stream",
          "name": "stdout",
          "text": [
            "\n",
            "      Epoch    GPU_mem   box_loss   cls_loss   dfl_loss  Instances       Size\n"
          ]
        },
        {
          "output_type": "stream",
          "name": "stderr",
          "text": [
            "      2/200      5.16G      1.848       15.6      2.728         29        640: 100%|██████████| 4/4 [00:00<00:00,  5.09it/s]\n",
            "                 Class     Images  Instances      Box(P          R      mAP50  mAP50-95): 100%|██████████| 2/2 [00:00<00:00,  9.14it/s]"
          ]
        },
        {
          "output_type": "stream",
          "name": "stdout",
          "text": [
            "                   all         51        216       0.18      0.179      0.159      0.136\n"
          ]
        },
        {
          "output_type": "stream",
          "name": "stderr",
          "text": [
            "\n"
          ]
        },
        {
          "output_type": "stream",
          "name": "stdout",
          "text": [
            "\n",
            "      Epoch    GPU_mem   box_loss   cls_loss   dfl_loss  Instances       Size\n"
          ]
        },
        {
          "output_type": "stream",
          "name": "stderr",
          "text": [
            "      3/200      5.21G      1.545      12.77      2.492         27        640: 100%|██████████| 4/4 [00:00<00:00,  5.73it/s]\n",
            "                 Class     Images  Instances      Box(P          R      mAP50  mAP50-95): 100%|██████████| 2/2 [00:00<00:00,  8.17it/s]"
          ]
        },
        {
          "output_type": "stream",
          "name": "stdout",
          "text": [
            "                   all         51        216      0.283       0.39      0.325      0.306\n"
          ]
        },
        {
          "output_type": "stream",
          "name": "stderr",
          "text": [
            "\n"
          ]
        },
        {
          "output_type": "stream",
          "name": "stdout",
          "text": [
            "\n",
            "      Epoch    GPU_mem   box_loss   cls_loss   dfl_loss  Instances       Size\n"
          ]
        },
        {
          "output_type": "stream",
          "name": "stderr",
          "text": [
            "      4/200      5.18G      1.385      9.197      2.298         40        640: 100%|██████████| 4/4 [00:00<00:00,  5.74it/s]\n",
            "                 Class     Images  Instances      Box(P          R      mAP50  mAP50-95): 100%|██████████| 2/2 [00:00<00:00,  9.11it/s]"
          ]
        },
        {
          "output_type": "stream",
          "name": "stdout",
          "text": [
            "                   all         51        216      0.323      0.465      0.361      0.334\n"
          ]
        },
        {
          "output_type": "stream",
          "name": "stderr",
          "text": [
            "\n"
          ]
        },
        {
          "output_type": "stream",
          "name": "stdout",
          "text": [
            "\n",
            "      Epoch    GPU_mem   box_loss   cls_loss   dfl_loss  Instances       Size\n"
          ]
        },
        {
          "output_type": "stream",
          "name": "stderr",
          "text": [
            "      5/200      5.18G      1.215      7.145       2.19         25        640: 100%|██████████| 4/4 [00:00<00:00,  6.51it/s]\n",
            "                 Class     Images  Instances      Box(P          R      mAP50  mAP50-95): 100%|██████████| 2/2 [00:00<00:00,  8.57it/s]"
          ]
        },
        {
          "output_type": "stream",
          "name": "stdout",
          "text": [
            "                   all         51        216      0.312      0.404      0.425      0.377\n"
          ]
        },
        {
          "output_type": "stream",
          "name": "stderr",
          "text": [
            "\n"
          ]
        },
        {
          "output_type": "stream",
          "name": "stdout",
          "text": [
            "\n",
            "      Epoch    GPU_mem   box_loss   cls_loss   dfl_loss  Instances       Size\n"
          ]
        },
        {
          "output_type": "stream",
          "name": "stderr",
          "text": [
            "      6/200      5.24G      1.239      5.883      2.161         19        640: 100%|██████████| 4/4 [00:00<00:00,  6.69it/s]\n",
            "                 Class     Images  Instances      Box(P          R      mAP50  mAP50-95): 100%|██████████| 2/2 [00:00<00:00,  9.04it/s]"
          ]
        },
        {
          "output_type": "stream",
          "name": "stdout",
          "text": [
            "                   all         51        216      0.785      0.542      0.629      0.559\n"
          ]
        },
        {
          "output_type": "stream",
          "name": "stderr",
          "text": [
            "\n"
          ]
        },
        {
          "output_type": "stream",
          "name": "stdout",
          "text": [
            "\n",
            "      Epoch    GPU_mem   box_loss   cls_loss   dfl_loss  Instances       Size\n"
          ]
        },
        {
          "output_type": "stream",
          "name": "stderr",
          "text": [
            "      7/200      5.19G      1.139      4.701      2.127         29        640: 100%|██████████| 4/4 [00:00<00:00,  6.84it/s]\n",
            "                 Class     Images  Instances      Box(P          R      mAP50  mAP50-95): 100%|██████████| 2/2 [00:00<00:00,  9.06it/s]"
          ]
        },
        {
          "output_type": "stream",
          "name": "stdout",
          "text": [
            "                   all         51        216      0.325      0.358      0.371      0.333\n"
          ]
        },
        {
          "output_type": "stream",
          "name": "stderr",
          "text": [
            "\n"
          ]
        },
        {
          "output_type": "stream",
          "name": "stdout",
          "text": [
            "\n",
            "      Epoch    GPU_mem   box_loss   cls_loss   dfl_loss  Instances       Size\n"
          ]
        },
        {
          "output_type": "stream",
          "name": "stderr",
          "text": [
            "      8/200      5.18G      1.172      3.783      2.097         40        640: 100%|██████████| 4/4 [00:00<00:00,  6.78it/s]\n",
            "                 Class     Images  Instances      Box(P          R      mAP50  mAP50-95): 100%|██████████| 2/2 [00:00<00:00,  8.83it/s]"
          ]
        },
        {
          "output_type": "stream",
          "name": "stdout",
          "text": [
            "                   all         51        216      0.368      0.346      0.395       0.34\n"
          ]
        },
        {
          "output_type": "stream",
          "name": "stderr",
          "text": [
            "\n"
          ]
        },
        {
          "output_type": "stream",
          "name": "stdout",
          "text": [
            "\n",
            "      Epoch    GPU_mem   box_loss   cls_loss   dfl_loss  Instances       Size\n"
          ]
        },
        {
          "output_type": "stream",
          "name": "stderr",
          "text": [
            "      9/200      5.22G      1.102      4.176      2.015         22        640: 100%|██████████| 4/4 [00:00<00:00,  6.76it/s]\n",
            "                 Class     Images  Instances      Box(P          R      mAP50  mAP50-95): 100%|██████████| 2/2 [00:00<00:00,  8.14it/s]"
          ]
        },
        {
          "output_type": "stream",
          "name": "stdout",
          "text": [
            "                   all         51        216      0.452      0.519      0.471        0.4\n"
          ]
        },
        {
          "output_type": "stream",
          "name": "stderr",
          "text": [
            "\n"
          ]
        },
        {
          "output_type": "stream",
          "name": "stdout",
          "text": [
            "\n",
            "      Epoch    GPU_mem   box_loss   cls_loss   dfl_loss  Instances       Size\n"
          ]
        },
        {
          "output_type": "stream",
          "name": "stderr",
          "text": [
            "     10/200      5.19G      1.039      2.978      1.896         24        640: 100%|██████████| 4/4 [00:00<00:00,  6.73it/s]\n",
            "                 Class     Images  Instances      Box(P          R      mAP50  mAP50-95): 100%|██████████| 2/2 [00:00<00:00,  8.20it/s]"
          ]
        },
        {
          "output_type": "stream",
          "name": "stdout",
          "text": [
            "                   all         51        216      0.876      0.566      0.713      0.486\n"
          ]
        },
        {
          "output_type": "stream",
          "name": "stderr",
          "text": [
            "\n"
          ]
        },
        {
          "output_type": "stream",
          "name": "stdout",
          "text": [
            "\n",
            "      Epoch    GPU_mem   box_loss   cls_loss   dfl_loss  Instances       Size\n"
          ]
        },
        {
          "output_type": "stream",
          "name": "stderr",
          "text": [
            "     11/200       5.2G      1.244      2.707      2.116         24        640: 100%|██████████| 4/4 [00:00<00:00,  6.77it/s]\n",
            "                 Class     Images  Instances      Box(P          R      mAP50  mAP50-95): 100%|██████████| 2/2 [00:00<00:00,  8.94it/s]"
          ]
        },
        {
          "output_type": "stream",
          "name": "stdout",
          "text": [
            "                   all         51        216      0.412      0.723      0.434      0.378\n"
          ]
        },
        {
          "output_type": "stream",
          "name": "stderr",
          "text": [
            "\n"
          ]
        },
        {
          "output_type": "stream",
          "name": "stdout",
          "text": [
            "\n",
            "      Epoch    GPU_mem   box_loss   cls_loss   dfl_loss  Instances       Size\n"
          ]
        },
        {
          "output_type": "stream",
          "name": "stderr",
          "text": [
            "     12/200      5.22G      1.248      2.403       2.09         24        640: 100%|██████████| 4/4 [00:00<00:00,  6.63it/s]\n",
            "                 Class     Images  Instances      Box(P          R      mAP50  mAP50-95): 100%|██████████| 2/2 [00:00<00:00,  8.78it/s]"
          ]
        },
        {
          "output_type": "stream",
          "name": "stdout",
          "text": [
            "                   all         51        216      0.667      0.457      0.526      0.354\n"
          ]
        },
        {
          "output_type": "stream",
          "name": "stderr",
          "text": [
            "\n"
          ]
        },
        {
          "output_type": "stream",
          "name": "stdout",
          "text": [
            "\n",
            "      Epoch    GPU_mem   box_loss   cls_loss   dfl_loss  Instances       Size\n"
          ]
        },
        {
          "output_type": "stream",
          "name": "stderr",
          "text": [
            "     13/200      5.19G      1.222      2.169      2.068         29        640: 100%|██████████| 4/4 [00:00<00:00,  6.65it/s]\n",
            "                 Class     Images  Instances      Box(P          R      mAP50  mAP50-95): 100%|██████████| 2/2 [00:00<00:00,  8.40it/s]"
          ]
        },
        {
          "output_type": "stream",
          "name": "stdout",
          "text": [
            "                   all         51        216      0.415      0.387      0.441      0.373\n"
          ]
        },
        {
          "output_type": "stream",
          "name": "stderr",
          "text": [
            "\n"
          ]
        },
        {
          "output_type": "stream",
          "name": "stdout",
          "text": [
            "\n",
            "      Epoch    GPU_mem   box_loss   cls_loss   dfl_loss  Instances       Size\n"
          ]
        },
        {
          "output_type": "stream",
          "name": "stderr",
          "text": [
            "     14/200      5.21G       1.27      1.902      2.104         29        640: 100%|██████████| 4/4 [00:00<00:00,  6.75it/s]\n",
            "                 Class     Images  Instances      Box(P          R      mAP50  mAP50-95): 100%|██████████| 2/2 [00:00<00:00,  8.70it/s]"
          ]
        },
        {
          "output_type": "stream",
          "name": "stdout",
          "text": [
            "                   all         51        216      0.369      0.367      0.389      0.307\n"
          ]
        },
        {
          "output_type": "stream",
          "name": "stderr",
          "text": [
            "\n"
          ]
        },
        {
          "output_type": "stream",
          "name": "stdout",
          "text": [
            "\n",
            "      Epoch    GPU_mem   box_loss   cls_loss   dfl_loss  Instances       Size\n"
          ]
        },
        {
          "output_type": "stream",
          "name": "stderr",
          "text": [
            "     15/200      5.22G      1.304      1.894      2.166         27        640: 100%|██████████| 4/4 [00:00<00:00,  6.57it/s]\n",
            "                 Class     Images  Instances      Box(P          R      mAP50  mAP50-95): 100%|██████████| 2/2 [00:00<00:00,  7.85it/s]"
          ]
        },
        {
          "output_type": "stream",
          "name": "stdout",
          "text": [
            "                   all         51        216      0.489      0.858      0.632      0.554\n"
          ]
        },
        {
          "output_type": "stream",
          "name": "stderr",
          "text": [
            "\n"
          ]
        },
        {
          "output_type": "stream",
          "name": "stdout",
          "text": [
            "\n",
            "      Epoch    GPU_mem   box_loss   cls_loss   dfl_loss  Instances       Size\n"
          ]
        },
        {
          "output_type": "stream",
          "name": "stderr",
          "text": [
            "     16/200      5.19G      1.159      1.711      1.994         35        640: 100%|██████████| 4/4 [00:00<00:00,  6.97it/s]\n",
            "                 Class     Images  Instances      Box(P          R      mAP50  mAP50-95): 100%|██████████| 2/2 [00:00<00:00,  9.10it/s]"
          ]
        },
        {
          "output_type": "stream",
          "name": "stdout",
          "text": [
            "                   all         51        216       0.57      0.758      0.682      0.599\n"
          ]
        },
        {
          "output_type": "stream",
          "name": "stderr",
          "text": [
            "\n"
          ]
        },
        {
          "output_type": "stream",
          "name": "stdout",
          "text": [
            "\n",
            "      Epoch    GPU_mem   box_loss   cls_loss   dfl_loss  Instances       Size\n"
          ]
        },
        {
          "output_type": "stream",
          "name": "stderr",
          "text": [
            "     17/200      5.24G      1.199      1.555      2.051         20        640: 100%|██████████| 4/4 [00:00<00:00,  7.23it/s]\n",
            "                 Class     Images  Instances      Box(P          R      mAP50  mAP50-95): 100%|██████████| 2/2 [00:00<00:00,  8.69it/s]"
          ]
        },
        {
          "output_type": "stream",
          "name": "stdout",
          "text": [
            "                   all         51        216      0.921      0.728      0.911      0.756\n"
          ]
        },
        {
          "output_type": "stream",
          "name": "stderr",
          "text": [
            "\n"
          ]
        },
        {
          "output_type": "stream",
          "name": "stdout",
          "text": [
            "\n",
            "      Epoch    GPU_mem   box_loss   cls_loss   dfl_loss  Instances       Size\n"
          ]
        },
        {
          "output_type": "stream",
          "name": "stderr",
          "text": [
            "     18/200      5.21G      1.151      1.496       1.95         26        640: 100%|██████████| 4/4 [00:00<00:00,  6.86it/s]\n",
            "                 Class     Images  Instances      Box(P          R      mAP50  mAP50-95): 100%|██████████| 2/2 [00:00<00:00,  8.58it/s]"
          ]
        },
        {
          "output_type": "stream",
          "name": "stdout",
          "text": [
            "                   all         51        216      0.704      0.604      0.691      0.567\n"
          ]
        },
        {
          "output_type": "stream",
          "name": "stderr",
          "text": [
            "\n"
          ]
        },
        {
          "output_type": "stream",
          "name": "stdout",
          "text": [
            "\n",
            "      Epoch    GPU_mem   box_loss   cls_loss   dfl_loss  Instances       Size\n"
          ]
        },
        {
          "output_type": "stream",
          "name": "stderr",
          "text": [
            "     19/200      5.37G      1.251      1.439      2.081         20        640: 100%|██████████| 4/4 [00:00<00:00,  6.99it/s]\n",
            "                 Class     Images  Instances      Box(P          R      mAP50  mAP50-95): 100%|██████████| 2/2 [00:00<00:00,  8.98it/s]"
          ]
        },
        {
          "output_type": "stream",
          "name": "stdout",
          "text": [
            "                   all         51        216      0.762      0.468      0.609       0.49\n"
          ]
        },
        {
          "output_type": "stream",
          "name": "stderr",
          "text": [
            "\n"
          ]
        },
        {
          "output_type": "stream",
          "name": "stdout",
          "text": [
            "\n",
            "      Epoch    GPU_mem   box_loss   cls_loss   dfl_loss  Instances       Size\n"
          ]
        },
        {
          "output_type": "stream",
          "name": "stderr",
          "text": [
            "     20/200      5.21G      1.221      1.443      2.102         22        640: 100%|██████████| 4/4 [00:00<00:00,  7.20it/s]\n",
            "                 Class     Images  Instances      Box(P          R      mAP50  mAP50-95): 100%|██████████| 2/2 [00:00<00:00,  9.12it/s]"
          ]
        },
        {
          "output_type": "stream",
          "name": "stdout",
          "text": [
            "                   all         51        216      0.687      0.608      0.714      0.424\n"
          ]
        },
        {
          "output_type": "stream",
          "name": "stderr",
          "text": [
            "\n"
          ]
        },
        {
          "output_type": "stream",
          "name": "stdout",
          "text": [
            "\n",
            "      Epoch    GPU_mem   box_loss   cls_loss   dfl_loss  Instances       Size\n"
          ]
        },
        {
          "output_type": "stream",
          "name": "stderr",
          "text": [
            "     21/200      5.24G      1.591      1.712       2.41         20        640: 100%|██████████| 4/4 [00:00<00:00,  6.45it/s]\n",
            "                 Class     Images  Instances      Box(P          R      mAP50  mAP50-95): 100%|██████████| 2/2 [00:00<00:00,  8.84it/s]"
          ]
        },
        {
          "output_type": "stream",
          "name": "stdout",
          "text": [
            "                   all         51        216      0.344      0.635      0.378      0.204\n"
          ]
        },
        {
          "output_type": "stream",
          "name": "stderr",
          "text": [
            "\n"
          ]
        },
        {
          "output_type": "stream",
          "name": "stdout",
          "text": [
            "\n",
            "      Epoch    GPU_mem   box_loss   cls_loss   dfl_loss  Instances       Size\n"
          ]
        },
        {
          "output_type": "stream",
          "name": "stderr",
          "text": [
            "     22/200       5.2G      1.322      1.535      2.214         14        640: 100%|██████████| 4/4 [00:00<00:00,  6.83it/s]\n",
            "                 Class     Images  Instances      Box(P          R      mAP50  mAP50-95): 100%|██████████| 2/2 [00:00<00:00,  8.94it/s]"
          ]
        },
        {
          "output_type": "stream",
          "name": "stdout",
          "text": [
            "                   all         51        216      0.606      0.495      0.531       0.29\n"
          ]
        },
        {
          "output_type": "stream",
          "name": "stderr",
          "text": [
            "\n"
          ]
        },
        {
          "output_type": "stream",
          "name": "stdout",
          "text": [
            "\n",
            "      Epoch    GPU_mem   box_loss   cls_loss   dfl_loss  Instances       Size\n"
          ]
        },
        {
          "output_type": "stream",
          "name": "stderr",
          "text": [
            "     23/200      5.23G       1.28      1.298      2.166         18        640: 100%|██████████| 4/4 [00:00<00:00,  6.58it/s]\n",
            "                 Class     Images  Instances      Box(P          R      mAP50  mAP50-95): 100%|██████████| 2/2 [00:00<00:00,  8.48it/s]"
          ]
        },
        {
          "output_type": "stream",
          "name": "stdout",
          "text": [
            "                   all         51        216      0.285      0.561      0.317      0.248\n"
          ]
        },
        {
          "output_type": "stream",
          "name": "stderr",
          "text": [
            "\n"
          ]
        },
        {
          "output_type": "stream",
          "name": "stdout",
          "text": [
            "\n",
            "      Epoch    GPU_mem   box_loss   cls_loss   dfl_loss  Instances       Size\n"
          ]
        },
        {
          "output_type": "stream",
          "name": "stderr",
          "text": [
            "     24/200       5.2G      1.149      1.117      1.966         28        640: 100%|██████████| 4/4 [00:00<00:00,  6.78it/s]\n",
            "                 Class     Images  Instances      Box(P          R      mAP50  mAP50-95): 100%|██████████| 2/2 [00:00<00:00,  8.41it/s]"
          ]
        },
        {
          "output_type": "stream",
          "name": "stdout",
          "text": [
            "                   all         51        216       0.31      0.679      0.547       0.44\n"
          ]
        },
        {
          "output_type": "stream",
          "name": "stderr",
          "text": [
            "\n"
          ]
        },
        {
          "output_type": "stream",
          "name": "stdout",
          "text": [
            "\n",
            "      Epoch    GPU_mem   box_loss   cls_loss   dfl_loss  Instances       Size\n"
          ]
        },
        {
          "output_type": "stream",
          "name": "stderr",
          "text": [
            "     25/200       5.2G      1.386       1.25      2.082         30        640: 100%|██████████| 4/4 [00:00<00:00,  7.07it/s]\n",
            "                 Class     Images  Instances      Box(P          R      mAP50  mAP50-95): 100%|██████████| 2/2 [00:00<00:00,  8.68it/s]"
          ]
        },
        {
          "output_type": "stream",
          "name": "stdout",
          "text": [
            "                   all         51        216      0.325      0.687      0.483      0.284\n"
          ]
        },
        {
          "output_type": "stream",
          "name": "stderr",
          "text": [
            "\n"
          ]
        },
        {
          "output_type": "stream",
          "name": "stdout",
          "text": [
            "\n",
            "      Epoch    GPU_mem   box_loss   cls_loss   dfl_loss  Instances       Size\n"
          ]
        },
        {
          "output_type": "stream",
          "name": "stderr",
          "text": [
            "     26/200       5.2G      1.429      1.356      2.156         28        640: 100%|██████████| 4/4 [00:00<00:00,  7.12it/s]\n",
            "                 Class     Images  Instances      Box(P          R      mAP50  mAP50-95): 100%|██████████| 2/2 [00:00<00:00,  8.08it/s]"
          ]
        },
        {
          "output_type": "stream",
          "name": "stdout",
          "text": [
            "                   all         51        216      0.273      0.426      0.355      0.259\n"
          ]
        },
        {
          "output_type": "stream",
          "name": "stderr",
          "text": [
            "\n"
          ]
        },
        {
          "output_type": "stream",
          "name": "stdout",
          "text": [
            "\n",
            "      Epoch    GPU_mem   box_loss   cls_loss   dfl_loss  Instances       Size\n"
          ]
        },
        {
          "output_type": "stream",
          "name": "stderr",
          "text": [
            "     27/200       5.2G      1.176      1.122      2.004         25        640: 100%|██████████| 4/4 [00:00<00:00,  7.06it/s]\n",
            "                 Class     Images  Instances      Box(P          R      mAP50  mAP50-95): 100%|██████████| 2/2 [00:00<00:00,  9.25it/s]"
          ]
        },
        {
          "output_type": "stream",
          "name": "stdout",
          "text": [
            "                   all         51        216      0.285      0.282      0.246      0.199\n"
          ]
        },
        {
          "output_type": "stream",
          "name": "stderr",
          "text": [
            "\n"
          ]
        },
        {
          "output_type": "stream",
          "name": "stdout",
          "text": [
            "\n",
            "      Epoch    GPU_mem   box_loss   cls_loss   dfl_loss  Instances       Size\n"
          ]
        },
        {
          "output_type": "stream",
          "name": "stderr",
          "text": [
            "     28/200      5.23G      1.393      1.217      2.116         18        640: 100%|██████████| 4/4 [00:00<00:00,  7.03it/s]\n",
            "                 Class     Images  Instances      Box(P          R      mAP50  mAP50-95): 100%|██████████| 2/2 [00:00<00:00,  9.30it/s]"
          ]
        },
        {
          "output_type": "stream",
          "name": "stdout",
          "text": [
            "                   all         51        216      0.326      0.275      0.289      0.237\n"
          ]
        },
        {
          "output_type": "stream",
          "name": "stderr",
          "text": [
            "\n"
          ]
        },
        {
          "output_type": "stream",
          "name": "stdout",
          "text": [
            "\n",
            "      Epoch    GPU_mem   box_loss   cls_loss   dfl_loss  Instances       Size\n"
          ]
        },
        {
          "output_type": "stream",
          "name": "stderr",
          "text": [
            "     29/200       5.2G      1.181      1.158      2.031         28        640: 100%|██████████| 4/4 [00:00<00:00,  6.88it/s]\n",
            "                 Class     Images  Instances      Box(P          R      mAP50  mAP50-95): 100%|██████████| 2/2 [00:00<00:00,  9.14it/s]"
          ]
        },
        {
          "output_type": "stream",
          "name": "stdout",
          "text": [
            "                   all         51        216      0.339      0.361      0.366      0.299\n"
          ]
        },
        {
          "output_type": "stream",
          "name": "stderr",
          "text": [
            "\n"
          ]
        },
        {
          "output_type": "stream",
          "name": "stdout",
          "text": [
            "\n",
            "      Epoch    GPU_mem   box_loss   cls_loss   dfl_loss  Instances       Size\n"
          ]
        },
        {
          "output_type": "stream",
          "name": "stderr",
          "text": [
            "     30/200       5.2G      1.277      1.046      2.083         29        640: 100%|██████████| 4/4 [00:00<00:00,  7.19it/s]\n",
            "                 Class     Images  Instances      Box(P          R      mAP50  mAP50-95): 100%|██████████| 2/2 [00:00<00:00,  8.63it/s]"
          ]
        },
        {
          "output_type": "stream",
          "name": "stdout",
          "text": [
            "                   all         51        216      0.342      0.346      0.358      0.305\n"
          ]
        },
        {
          "output_type": "stream",
          "name": "stderr",
          "text": [
            "\n"
          ]
        },
        {
          "output_type": "stream",
          "name": "stdout",
          "text": [
            "\n",
            "      Epoch    GPU_mem   box_loss   cls_loss   dfl_loss  Instances       Size\n"
          ]
        },
        {
          "output_type": "stream",
          "name": "stderr",
          "text": [
            "     31/200      5.23G       1.38      1.109       2.12         25        640: 100%|██████████| 4/4 [00:00<00:00,  6.63it/s]\n",
            "                 Class     Images  Instances      Box(P          R      mAP50  mAP50-95): 100%|██████████| 2/2 [00:00<00:00,  8.02it/s]"
          ]
        },
        {
          "output_type": "stream",
          "name": "stdout",
          "text": [
            "                   all         51        216      0.582      0.497      0.602       0.51\n"
          ]
        },
        {
          "output_type": "stream",
          "name": "stderr",
          "text": [
            "\n"
          ]
        },
        {
          "output_type": "stream",
          "name": "stdout",
          "text": [
            "\n",
            "      Epoch    GPU_mem   box_loss   cls_loss   dfl_loss  Instances       Size\n"
          ]
        },
        {
          "output_type": "stream",
          "name": "stderr",
          "text": [
            "     32/200      5.23G      1.286      1.079      2.042         29        640: 100%|██████████| 4/4 [00:00<00:00,  6.84it/s]\n",
            "                 Class     Images  Instances      Box(P          R      mAP50  mAP50-95): 100%|██████████| 2/2 [00:00<00:00,  8.96it/s]"
          ]
        },
        {
          "output_type": "stream",
          "name": "stdout",
          "text": [
            "                   all         51        216       0.69      0.618      0.704      0.576\n"
          ]
        },
        {
          "output_type": "stream",
          "name": "stderr",
          "text": [
            "\n"
          ]
        },
        {
          "output_type": "stream",
          "name": "stdout",
          "text": [
            "\n",
            "      Epoch    GPU_mem   box_loss   cls_loss   dfl_loss  Instances       Size\n"
          ]
        },
        {
          "output_type": "stream",
          "name": "stderr",
          "text": [
            "     33/200      5.23G      1.136      1.096      1.991         22        640: 100%|██████████| 4/4 [00:00<00:00,  6.80it/s]\n",
            "                 Class     Images  Instances      Box(P          R      mAP50  mAP50-95): 100%|██████████| 2/2 [00:00<00:00,  8.93it/s]"
          ]
        },
        {
          "output_type": "stream",
          "name": "stdout",
          "text": [
            "                   all         51        216      0.898      0.594      0.738      0.616\n"
          ]
        },
        {
          "output_type": "stream",
          "name": "stderr",
          "text": [
            "\n"
          ]
        },
        {
          "output_type": "stream",
          "name": "stdout",
          "text": [
            "\n",
            "      Epoch    GPU_mem   box_loss   cls_loss   dfl_loss  Instances       Size\n"
          ]
        },
        {
          "output_type": "stream",
          "name": "stderr",
          "text": [
            "     34/200       5.2G      1.182      1.018      2.007         34        640: 100%|██████████| 4/4 [00:00<00:00,  6.54it/s]\n",
            "                 Class     Images  Instances      Box(P          R      mAP50  mAP50-95): 100%|██████████| 2/2 [00:00<00:00,  8.80it/s]"
          ]
        },
        {
          "output_type": "stream",
          "name": "stdout",
          "text": [
            "                   all         51        216      0.435      0.328      0.399      0.349\n"
          ]
        },
        {
          "output_type": "stream",
          "name": "stderr",
          "text": [
            "\n"
          ]
        },
        {
          "output_type": "stream",
          "name": "stdout",
          "text": [
            "\n",
            "      Epoch    GPU_mem   box_loss   cls_loss   dfl_loss  Instances       Size\n"
          ]
        },
        {
          "output_type": "stream",
          "name": "stderr",
          "text": [
            "     35/200      5.24G      1.233      1.219      2.047         20        640: 100%|██████████| 4/4 [00:00<00:00,  7.18it/s]\n",
            "                 Class     Images  Instances      Box(P          R      mAP50  mAP50-95): 100%|██████████| 2/2 [00:00<00:00,  8.35it/s]"
          ]
        },
        {
          "output_type": "stream",
          "name": "stdout",
          "text": [
            "                   all         51        216      0.341      0.314       0.35      0.298\n"
          ]
        },
        {
          "output_type": "stream",
          "name": "stderr",
          "text": [
            "\n"
          ]
        },
        {
          "output_type": "stream",
          "name": "stdout",
          "text": [
            "\n",
            "      Epoch    GPU_mem   box_loss   cls_loss   dfl_loss  Instances       Size\n"
          ]
        },
        {
          "output_type": "stream",
          "name": "stderr",
          "text": [
            "     36/200       5.2G      1.201     0.9407      2.026         24        640: 100%|██████████| 4/4 [00:00<00:00,  6.97it/s]\n",
            "                 Class     Images  Instances      Box(P          R      mAP50  mAP50-95): 100%|██████████| 2/2 [00:00<00:00,  9.11it/s]"
          ]
        },
        {
          "output_type": "stream",
          "name": "stdout",
          "text": [
            "                   all         51        216      0.807      0.407      0.427      0.285\n"
          ]
        },
        {
          "output_type": "stream",
          "name": "stderr",
          "text": [
            "\n"
          ]
        },
        {
          "output_type": "stream",
          "name": "stdout",
          "text": [
            "\n",
            "      Epoch    GPU_mem   box_loss   cls_loss   dfl_loss  Instances       Size\n"
          ]
        },
        {
          "output_type": "stream",
          "name": "stderr",
          "text": [
            "     37/200       5.2G       1.16     0.9705       2.08         26        640: 100%|██████████| 4/4 [00:00<00:00,  7.14it/s]\n",
            "                 Class     Images  Instances      Box(P          R      mAP50  mAP50-95): 100%|██████████| 2/2 [00:00<00:00,  9.21it/s]"
          ]
        },
        {
          "output_type": "stream",
          "name": "stdout",
          "text": [
            "                   all         51        216      0.761      0.593      0.687      0.547\n"
          ]
        },
        {
          "output_type": "stream",
          "name": "stderr",
          "text": [
            "\n"
          ]
        },
        {
          "output_type": "stream",
          "name": "stdout",
          "text": [
            "\n",
            "      Epoch    GPU_mem   box_loss   cls_loss   dfl_loss  Instances       Size\n"
          ]
        },
        {
          "output_type": "stream",
          "name": "stderr",
          "text": [
            "     38/200       5.2G      1.268     0.9852      2.074         30        640: 100%|██████████| 4/4 [00:00<00:00,  6.91it/s]\n",
            "                 Class     Images  Instances      Box(P          R      mAP50  mAP50-95): 100%|██████████| 2/2 [00:00<00:00,  8.28it/s]"
          ]
        },
        {
          "output_type": "stream",
          "name": "stdout",
          "text": [
            "                   all         51        216      0.651      0.645      0.627      0.538\n"
          ]
        },
        {
          "output_type": "stream",
          "name": "stderr",
          "text": [
            "\n"
          ]
        },
        {
          "output_type": "stream",
          "name": "stdout",
          "text": [
            "\n",
            "      Epoch    GPU_mem   box_loss   cls_loss   dfl_loss  Instances       Size\n"
          ]
        },
        {
          "output_type": "stream",
          "name": "stderr",
          "text": [
            "     39/200       5.2G      1.178     0.9496      1.992         24        640: 100%|██████████| 4/4 [00:00<00:00,  7.11it/s]\n",
            "                 Class     Images  Instances      Box(P          R      mAP50  mAP50-95): 100%|██████████| 2/2 [00:00<00:00,  9.20it/s]"
          ]
        },
        {
          "output_type": "stream",
          "name": "stdout",
          "text": [
            "                   all         51        216      0.618      0.702      0.684      0.606\n"
          ]
        },
        {
          "output_type": "stream",
          "name": "stderr",
          "text": [
            "\n"
          ]
        },
        {
          "output_type": "stream",
          "name": "stdout",
          "text": [
            "\n",
            "      Epoch    GPU_mem   box_loss   cls_loss   dfl_loss  Instances       Size\n"
          ]
        },
        {
          "output_type": "stream",
          "name": "stderr",
          "text": [
            "     40/200      5.23G      1.102     0.8763      2.018         27        640: 100%|██████████| 4/4 [00:00<00:00,  7.12it/s]\n",
            "                 Class     Images  Instances      Box(P          R      mAP50  mAP50-95): 100%|██████████| 2/2 [00:00<00:00,  8.21it/s]"
          ]
        },
        {
          "output_type": "stream",
          "name": "stdout",
          "text": [
            "                   all         51        216      0.738      0.805      0.784      0.693\n"
          ]
        },
        {
          "output_type": "stream",
          "name": "stderr",
          "text": [
            "\n"
          ]
        },
        {
          "output_type": "stream",
          "name": "stdout",
          "text": [
            "\n",
            "      Epoch    GPU_mem   box_loss   cls_loss   dfl_loss  Instances       Size\n"
          ]
        },
        {
          "output_type": "stream",
          "name": "stderr",
          "text": [
            "     41/200      5.23G      1.175       1.08      2.036         17        640: 100%|██████████| 4/4 [00:00<00:00,  6.86it/s]\n",
            "                 Class     Images  Instances      Box(P          R      mAP50  mAP50-95): 100%|██████████| 2/2 [00:00<00:00,  8.08it/s]"
          ]
        },
        {
          "output_type": "stream",
          "name": "stdout",
          "text": [
            "                   all         51        216      0.716      0.757      0.841      0.727\n"
          ]
        },
        {
          "output_type": "stream",
          "name": "stderr",
          "text": [
            "\n"
          ]
        },
        {
          "output_type": "stream",
          "name": "stdout",
          "text": [
            "\n",
            "      Epoch    GPU_mem   box_loss   cls_loss   dfl_loss  Instances       Size\n"
          ]
        },
        {
          "output_type": "stream",
          "name": "stderr",
          "text": [
            "     42/200      5.23G      1.199      1.179      2.078         16        640: 100%|██████████| 4/4 [00:00<00:00,  6.44it/s]\n",
            "                 Class     Images  Instances      Box(P          R      mAP50  mAP50-95): 100%|██████████| 2/2 [00:00<00:00,  8.80it/s]"
          ]
        },
        {
          "output_type": "stream",
          "name": "stdout",
          "text": [
            "                   all         51        216      0.693      0.882      0.861      0.749\n"
          ]
        },
        {
          "output_type": "stream",
          "name": "stderr",
          "text": [
            "\n"
          ]
        },
        {
          "output_type": "stream",
          "name": "stdout",
          "text": [
            "\n",
            "      Epoch    GPU_mem   box_loss   cls_loss   dfl_loss  Instances       Size\n"
          ]
        },
        {
          "output_type": "stream",
          "name": "stderr",
          "text": [
            "     43/200      5.21G      1.112     0.8931      1.965         34        640: 100%|██████████| 4/4 [00:00<00:00,  6.72it/s]\n",
            "                 Class     Images  Instances      Box(P          R      mAP50  mAP50-95): 100%|██████████| 2/2 [00:00<00:00,  8.99it/s]"
          ]
        },
        {
          "output_type": "stream",
          "name": "stdout",
          "text": [
            "                   all         51        216      0.728       0.91      0.881      0.797\n"
          ]
        },
        {
          "output_type": "stream",
          "name": "stderr",
          "text": [
            "\n"
          ]
        },
        {
          "output_type": "stream",
          "name": "stdout",
          "text": [
            "\n",
            "      Epoch    GPU_mem   box_loss   cls_loss   dfl_loss  Instances       Size\n"
          ]
        },
        {
          "output_type": "stream",
          "name": "stderr",
          "text": [
            "     44/200       5.2G      1.147     0.8293      1.956         32        640: 100%|██████████| 4/4 [00:00<00:00,  6.78it/s]\n",
            "                 Class     Images  Instances      Box(P          R      mAP50  mAP50-95): 100%|██████████| 2/2 [00:00<00:00,  8.84it/s]"
          ]
        },
        {
          "output_type": "stream",
          "name": "stdout",
          "text": [
            "                   all         51        216       0.88      0.801      0.912      0.825\n"
          ]
        },
        {
          "output_type": "stream",
          "name": "stderr",
          "text": [
            "\n"
          ]
        },
        {
          "output_type": "stream",
          "name": "stdout",
          "text": [
            "\n",
            "      Epoch    GPU_mem   box_loss   cls_loss   dfl_loss  Instances       Size\n"
          ]
        },
        {
          "output_type": "stream",
          "name": "stderr",
          "text": [
            "     45/200      5.23G       1.22     0.9111      2.093         18        640: 100%|██████████| 4/4 [00:00<00:00,  6.97it/s]\n",
            "                 Class     Images  Instances      Box(P          R      mAP50  mAP50-95): 100%|██████████| 2/2 [00:00<00:00,  9.04it/s]"
          ]
        },
        {
          "output_type": "stream",
          "name": "stdout",
          "text": [
            "                   all         51        216      0.788      0.951      0.926       0.83\n"
          ]
        },
        {
          "output_type": "stream",
          "name": "stderr",
          "text": [
            "\n"
          ]
        },
        {
          "output_type": "stream",
          "name": "stdout",
          "text": [
            "\n",
            "      Epoch    GPU_mem   box_loss   cls_loss   dfl_loss  Instances       Size\n"
          ]
        },
        {
          "output_type": "stream",
          "name": "stderr",
          "text": [
            "     46/200      5.23G      1.094     0.8477       1.99         24        640: 100%|██████████| 4/4 [00:00<00:00,  6.83it/s]\n",
            "                 Class     Images  Instances      Box(P          R      mAP50  mAP50-95): 100%|██████████| 2/2 [00:00<00:00,  8.96it/s]"
          ]
        },
        {
          "output_type": "stream",
          "name": "stdout",
          "text": [
            "                   all         51        216      0.947      0.902       0.97      0.852\n"
          ]
        },
        {
          "output_type": "stream",
          "name": "stderr",
          "text": [
            "\n"
          ]
        },
        {
          "output_type": "stream",
          "name": "stdout",
          "text": [
            "\n",
            "      Epoch    GPU_mem   box_loss   cls_loss   dfl_loss  Instances       Size\n"
          ]
        },
        {
          "output_type": "stream",
          "name": "stderr",
          "text": [
            "     47/200       5.2G      1.194      0.958      2.019         26        640: 100%|██████████| 4/4 [00:00<00:00,  6.83it/s]\n",
            "                 Class     Images  Instances      Box(P          R      mAP50  mAP50-95): 100%|██████████| 2/2 [00:00<00:00,  8.79it/s]"
          ]
        },
        {
          "output_type": "stream",
          "name": "stdout",
          "text": [
            "                   all         51        216      0.895      0.914       0.97      0.864\n"
          ]
        },
        {
          "output_type": "stream",
          "name": "stderr",
          "text": [
            "\n"
          ]
        },
        {
          "output_type": "stream",
          "name": "stdout",
          "text": [
            "\n",
            "      Epoch    GPU_mem   box_loss   cls_loss   dfl_loss  Instances       Size\n"
          ]
        },
        {
          "output_type": "stream",
          "name": "stderr",
          "text": [
            "     48/200      5.24G      1.222      1.154      2.136         17        640: 100%|██████████| 4/4 [00:00<00:00,  6.86it/s]\n",
            "                 Class     Images  Instances      Box(P          R      mAP50  mAP50-95): 100%|██████████| 2/2 [00:00<00:00,  9.09it/s]"
          ]
        },
        {
          "output_type": "stream",
          "name": "stdout",
          "text": [
            "                   all         51        216      0.843       0.81       0.91      0.821\n"
          ]
        },
        {
          "output_type": "stream",
          "name": "stderr",
          "text": [
            "\n"
          ]
        },
        {
          "output_type": "stream",
          "name": "stdout",
          "text": [
            "\n",
            "      Epoch    GPU_mem   box_loss   cls_loss   dfl_loss  Instances       Size\n"
          ]
        },
        {
          "output_type": "stream",
          "name": "stderr",
          "text": [
            "     49/200      5.23G      1.127     0.9286      1.998         17        640: 100%|██████████| 4/4 [00:00<00:00,  6.72it/s]\n",
            "                 Class     Images  Instances      Box(P          R      mAP50  mAP50-95): 100%|██████████| 2/2 [00:00<00:00,  9.09it/s]"
          ]
        },
        {
          "output_type": "stream",
          "name": "stdout",
          "text": [
            "                   all         51        216      0.918      0.779      0.926      0.846\n"
          ]
        },
        {
          "output_type": "stream",
          "name": "stderr",
          "text": [
            "\n"
          ]
        },
        {
          "output_type": "stream",
          "name": "stdout",
          "text": [
            "\n",
            "      Epoch    GPU_mem   box_loss   cls_loss   dfl_loss  Instances       Size\n"
          ]
        },
        {
          "output_type": "stream",
          "name": "stderr",
          "text": [
            "     50/200      5.21G      1.098      0.851      1.967         33        640: 100%|██████████| 4/4 [00:00<00:00,  6.78it/s]\n",
            "                 Class     Images  Instances      Box(P          R      mAP50  mAP50-95): 100%|██████████| 2/2 [00:00<00:00,  9.07it/s]"
          ]
        },
        {
          "output_type": "stream",
          "name": "stdout",
          "text": [
            "                   all         51        216      0.933      0.733      0.914      0.832\n"
          ]
        },
        {
          "output_type": "stream",
          "name": "stderr",
          "text": [
            "\n"
          ]
        },
        {
          "output_type": "stream",
          "name": "stdout",
          "text": [
            "\n",
            "      Epoch    GPU_mem   box_loss   cls_loss   dfl_loss  Instances       Size\n"
          ]
        },
        {
          "output_type": "stream",
          "name": "stderr",
          "text": [
            "     51/200       5.2G      1.107     0.9316      1.985         29        640: 100%|██████████| 4/4 [00:00<00:00,  6.79it/s]\n",
            "                 Class     Images  Instances      Box(P          R      mAP50  mAP50-95): 100%|██████████| 2/2 [00:00<00:00,  7.87it/s]"
          ]
        },
        {
          "output_type": "stream",
          "name": "stdout",
          "text": [
            "                   all         51        216        0.9      0.741      0.899      0.815\n"
          ]
        },
        {
          "output_type": "stream",
          "name": "stderr",
          "text": [
            "\n"
          ]
        },
        {
          "output_type": "stream",
          "name": "stdout",
          "text": [
            "\n",
            "      Epoch    GPU_mem   box_loss   cls_loss   dfl_loss  Instances       Size\n"
          ]
        },
        {
          "output_type": "stream",
          "name": "stderr",
          "text": [
            "     52/200       5.2G      1.048     0.7288      1.966         26        640: 100%|██████████| 4/4 [00:00<00:00,  6.68it/s]\n",
            "                 Class     Images  Instances      Box(P          R      mAP50  mAP50-95): 100%|██████████| 2/2 [00:00<00:00,  9.09it/s]"
          ]
        },
        {
          "output_type": "stream",
          "name": "stdout",
          "text": [
            "                   all         51        216      0.864      0.789      0.908      0.826\n"
          ]
        },
        {
          "output_type": "stream",
          "name": "stderr",
          "text": [
            "\n"
          ]
        },
        {
          "output_type": "stream",
          "name": "stdout",
          "text": [
            "\n",
            "      Epoch    GPU_mem   box_loss   cls_loss   dfl_loss  Instances       Size\n"
          ]
        },
        {
          "output_type": "stream",
          "name": "stderr",
          "text": [
            "     53/200      5.21G      1.107     0.9256       1.98         29        640: 100%|██████████| 4/4 [00:00<00:00,  6.97it/s]\n",
            "                 Class     Images  Instances      Box(P          R      mAP50  mAP50-95): 100%|██████████| 2/2 [00:00<00:00,  9.11it/s]"
          ]
        },
        {
          "output_type": "stream",
          "name": "stdout",
          "text": [
            "                   all         51        216      0.732      0.829      0.905      0.773\n"
          ]
        },
        {
          "output_type": "stream",
          "name": "stderr",
          "text": [
            "\n"
          ]
        },
        {
          "output_type": "stream",
          "name": "stdout",
          "text": [
            "\n",
            "      Epoch    GPU_mem   box_loss   cls_loss   dfl_loss  Instances       Size\n"
          ]
        },
        {
          "output_type": "stream",
          "name": "stderr",
          "text": [
            "     54/200      5.23G      1.102     0.8581      1.995         35        640: 100%|██████████| 4/4 [00:00<00:00,  6.86it/s]\n",
            "                 Class     Images  Instances      Box(P          R      mAP50  mAP50-95): 100%|██████████| 2/2 [00:00<00:00,  9.04it/s]"
          ]
        },
        {
          "output_type": "stream",
          "name": "stdout",
          "text": [
            "                   all         51        216      0.878      0.765      0.915      0.777\n"
          ]
        },
        {
          "output_type": "stream",
          "name": "stderr",
          "text": [
            "\n"
          ]
        },
        {
          "output_type": "stream",
          "name": "stdout",
          "text": [
            "\n",
            "      Epoch    GPU_mem   box_loss   cls_loss   dfl_loss  Instances       Size\n"
          ]
        },
        {
          "output_type": "stream",
          "name": "stderr",
          "text": [
            "     55/200      5.23G       1.11     0.8041      2.019         26        640: 100%|██████████| 4/4 [00:00<00:00,  7.10it/s]\n",
            "                 Class     Images  Instances      Box(P          R      mAP50  mAP50-95): 100%|██████████| 2/2 [00:00<00:00,  9.16it/s]"
          ]
        },
        {
          "output_type": "stream",
          "name": "stdout",
          "text": [
            "                   all         51        216      0.912      0.912      0.957      0.882\n"
          ]
        },
        {
          "output_type": "stream",
          "name": "stderr",
          "text": [
            "\n"
          ]
        },
        {
          "output_type": "stream",
          "name": "stdout",
          "text": [
            "\n",
            "      Epoch    GPU_mem   box_loss   cls_loss   dfl_loss  Instances       Size\n"
          ]
        },
        {
          "output_type": "stream",
          "name": "stderr",
          "text": [
            "     56/200       5.2G      1.019     0.7209      1.923         30        640: 100%|██████████| 4/4 [00:00<00:00,  6.81it/s]\n",
            "                 Class     Images  Instances      Box(P          R      mAP50  mAP50-95): 100%|██████████| 2/2 [00:00<00:00,  8.68it/s]"
          ]
        },
        {
          "output_type": "stream",
          "name": "stdout",
          "text": [
            "                   all         51        216      0.851      0.975      0.964      0.879\n"
          ]
        },
        {
          "output_type": "stream",
          "name": "stderr",
          "text": [
            "\n"
          ]
        },
        {
          "output_type": "stream",
          "name": "stdout",
          "text": [
            "\n",
            "      Epoch    GPU_mem   box_loss   cls_loss   dfl_loss  Instances       Size\n"
          ]
        },
        {
          "output_type": "stream",
          "name": "stderr",
          "text": [
            "     57/200      5.23G     0.9975     0.7341      1.966         21        640: 100%|██████████| 4/4 [00:00<00:00,  7.00it/s]\n",
            "                 Class     Images  Instances      Box(P          R      mAP50  mAP50-95): 100%|██████████| 2/2 [00:00<00:00,  8.56it/s]"
          ]
        },
        {
          "output_type": "stream",
          "name": "stdout",
          "text": [
            "                   all         51        216      0.904      0.925      0.962      0.883\n"
          ]
        },
        {
          "output_type": "stream",
          "name": "stderr",
          "text": [
            "\n"
          ]
        },
        {
          "output_type": "stream",
          "name": "stdout",
          "text": [
            "\n",
            "      Epoch    GPU_mem   box_loss   cls_loss   dfl_loss  Instances       Size\n"
          ]
        },
        {
          "output_type": "stream",
          "name": "stderr",
          "text": [
            "     58/200       5.2G      1.035     0.8184      1.991         21        640: 100%|██████████| 4/4 [00:00<00:00,  6.89it/s]\n",
            "                 Class     Images  Instances      Box(P          R      mAP50  mAP50-95): 100%|██████████| 2/2 [00:00<00:00,  9.05it/s]"
          ]
        },
        {
          "output_type": "stream",
          "name": "stdout",
          "text": [
            "                   all         51        216      0.849      0.931      0.947      0.873\n"
          ]
        },
        {
          "output_type": "stream",
          "name": "stderr",
          "text": [
            "\n"
          ]
        },
        {
          "output_type": "stream",
          "name": "stdout",
          "text": [
            "\n",
            "      Epoch    GPU_mem   box_loss   cls_loss   dfl_loss  Instances       Size\n"
          ]
        },
        {
          "output_type": "stream",
          "name": "stderr",
          "text": [
            "     59/200       5.2G     0.9942     0.7614      1.949         36        640: 100%|██████████| 4/4 [00:00<00:00,  6.80it/s]\n",
            "                 Class     Images  Instances      Box(P          R      mAP50  mAP50-95): 100%|██████████| 2/2 [00:00<00:00,  8.25it/s]"
          ]
        },
        {
          "output_type": "stream",
          "name": "stdout",
          "text": [
            "                   all         51        216      0.825      0.819       0.87      0.795\n"
          ]
        },
        {
          "output_type": "stream",
          "name": "stderr",
          "text": [
            "\n"
          ]
        },
        {
          "output_type": "stream",
          "name": "stdout",
          "text": [
            "\n",
            "      Epoch    GPU_mem   box_loss   cls_loss   dfl_loss  Instances       Size\n"
          ]
        },
        {
          "output_type": "stream",
          "name": "stderr",
          "text": [
            "     60/200       5.2G      1.078     0.7525       2.04         30        640: 100%|██████████| 4/4 [00:00<00:00,  6.38it/s]\n",
            "                 Class     Images  Instances      Box(P          R      mAP50  mAP50-95): 100%|██████████| 2/2 [00:00<00:00,  9.12it/s]"
          ]
        },
        {
          "output_type": "stream",
          "name": "stdout",
          "text": [
            "                   all         51        216      0.824      0.826      0.882      0.797\n"
          ]
        },
        {
          "output_type": "stream",
          "name": "stderr",
          "text": [
            "\n"
          ]
        },
        {
          "output_type": "stream",
          "name": "stdout",
          "text": [
            "\n",
            "      Epoch    GPU_mem   box_loss   cls_loss   dfl_loss  Instances       Size\n"
          ]
        },
        {
          "output_type": "stream",
          "name": "stderr",
          "text": [
            "     61/200       5.2G      1.105     0.8278       2.04         34        640: 100%|██████████| 4/4 [00:00<00:00,  6.52it/s]\n",
            "                 Class     Images  Instances      Box(P          R      mAP50  mAP50-95): 100%|██████████| 2/2 [00:00<00:00,  8.43it/s]"
          ]
        },
        {
          "output_type": "stream",
          "name": "stdout",
          "text": [
            "                   all         51        216      0.907      0.861      0.916      0.837\n"
          ]
        },
        {
          "output_type": "stream",
          "name": "stderr",
          "text": [
            "\n"
          ]
        },
        {
          "output_type": "stream",
          "name": "stdout",
          "text": [
            "\n",
            "      Epoch    GPU_mem   box_loss   cls_loss   dfl_loss  Instances       Size\n"
          ]
        },
        {
          "output_type": "stream",
          "name": "stderr",
          "text": [
            "     62/200       5.2G     0.9653     0.7124      1.936         23        640: 100%|██████████| 4/4 [00:00<00:00,  6.84it/s]\n",
            "                 Class     Images  Instances      Box(P          R      mAP50  mAP50-95): 100%|██████████| 2/2 [00:00<00:00,  9.17it/s]"
          ]
        },
        {
          "output_type": "stream",
          "name": "stdout",
          "text": [
            "                   all         51        216      0.927      0.885      0.937      0.877\n"
          ]
        },
        {
          "output_type": "stream",
          "name": "stderr",
          "text": [
            "\n"
          ]
        },
        {
          "output_type": "stream",
          "name": "stdout",
          "text": [
            "\n",
            "      Epoch    GPU_mem   box_loss   cls_loss   dfl_loss  Instances       Size\n"
          ]
        },
        {
          "output_type": "stream",
          "name": "stderr",
          "text": [
            "     63/200       5.2G      1.164      0.928      2.058         16        640: 100%|██████████| 4/4 [00:00<00:00,  6.99it/s]\n",
            "                 Class     Images  Instances      Box(P          R      mAP50  mAP50-95): 100%|██████████| 2/2 [00:00<00:00,  9.02it/s]"
          ]
        },
        {
          "output_type": "stream",
          "name": "stdout",
          "text": [
            "                   all         51        216      0.886      0.926       0.96      0.914\n"
          ]
        },
        {
          "output_type": "stream",
          "name": "stderr",
          "text": [
            "\n"
          ]
        },
        {
          "output_type": "stream",
          "name": "stdout",
          "text": [
            "\n",
            "      Epoch    GPU_mem   box_loss   cls_loss   dfl_loss  Instances       Size\n"
          ]
        },
        {
          "output_type": "stream",
          "name": "stderr",
          "text": [
            "     64/200      5.21G     0.9461     0.7438       1.95         23        640: 100%|██████████| 4/4 [00:00<00:00,  7.09it/s]\n",
            "                 Class     Images  Instances      Box(P          R      mAP50  mAP50-95): 100%|██████████| 2/2 [00:00<00:00,  8.80it/s]"
          ]
        },
        {
          "output_type": "stream",
          "name": "stdout",
          "text": [
            "                   all         51        216      0.866      0.926       0.94      0.891\n"
          ]
        },
        {
          "output_type": "stream",
          "name": "stderr",
          "text": [
            "\n"
          ]
        },
        {
          "output_type": "stream",
          "name": "stdout",
          "text": [
            "\n",
            "      Epoch    GPU_mem   box_loss   cls_loss   dfl_loss  Instances       Size\n"
          ]
        },
        {
          "output_type": "stream",
          "name": "stderr",
          "text": [
            "     65/200      5.23G     0.9604     0.9643      1.913         29        640: 100%|██████████| 4/4 [00:00<00:00,  6.69it/s]\n",
            "                 Class     Images  Instances      Box(P          R      mAP50  mAP50-95): 100%|██████████| 2/2 [00:00<00:00,  9.07it/s]"
          ]
        },
        {
          "output_type": "stream",
          "name": "stdout",
          "text": [
            "                   all         51        216      0.969       0.83      0.951      0.888\n"
          ]
        },
        {
          "output_type": "stream",
          "name": "stderr",
          "text": [
            "\n"
          ]
        },
        {
          "output_type": "stream",
          "name": "stdout",
          "text": [
            "\n",
            "      Epoch    GPU_mem   box_loss   cls_loss   dfl_loss  Instances       Size\n"
          ]
        },
        {
          "output_type": "stream",
          "name": "stderr",
          "text": [
            "     66/200      5.21G       1.09     0.8845      2.017         19        640: 100%|██████████| 4/4 [00:00<00:00,  6.93it/s]\n",
            "                 Class     Images  Instances      Box(P          R      mAP50  mAP50-95): 100%|██████████| 2/2 [00:00<00:00,  9.07it/s]"
          ]
        },
        {
          "output_type": "stream",
          "name": "stdout",
          "text": [
            "                   all         51        216      0.869      0.828      0.912      0.843\n"
          ]
        },
        {
          "output_type": "stream",
          "name": "stderr",
          "text": [
            "\n"
          ]
        },
        {
          "output_type": "stream",
          "name": "stdout",
          "text": [
            "\n",
            "      Epoch    GPU_mem   box_loss   cls_loss   dfl_loss  Instances       Size\n"
          ]
        },
        {
          "output_type": "stream",
          "name": "stderr",
          "text": [
            "     67/200       5.2G      1.024     0.7656      1.962         34        640: 100%|██████████| 4/4 [00:00<00:00,  6.49it/s]\n",
            "                 Class     Images  Instances      Box(P          R      mAP50  mAP50-95): 100%|██████████| 2/2 [00:00<00:00,  9.08it/s]"
          ]
        },
        {
          "output_type": "stream",
          "name": "stdout",
          "text": [
            "                   all         51        216      0.667      0.612      0.607       0.52\n"
          ]
        },
        {
          "output_type": "stream",
          "name": "stderr",
          "text": [
            "\n"
          ]
        },
        {
          "output_type": "stream",
          "name": "stdout",
          "text": [
            "\n",
            "      Epoch    GPU_mem   box_loss   cls_loss   dfl_loss  Instances       Size\n"
          ]
        },
        {
          "output_type": "stream",
          "name": "stderr",
          "text": [
            "     68/200       5.2G     0.8539     0.6565      1.854         37        640: 100%|██████████| 4/4 [00:00<00:00,  6.98it/s]\n",
            "                 Class     Images  Instances      Box(P          R      mAP50  mAP50-95): 100%|██████████| 2/2 [00:00<00:00,  9.00it/s]"
          ]
        },
        {
          "output_type": "stream",
          "name": "stdout",
          "text": [
            "                   all         51        216      0.777       0.37      0.428      0.323\n"
          ]
        },
        {
          "output_type": "stream",
          "name": "stderr",
          "text": [
            "\n"
          ]
        },
        {
          "output_type": "stream",
          "name": "stdout",
          "text": [
            "\n",
            "      Epoch    GPU_mem   box_loss   cls_loss   dfl_loss  Instances       Size\n"
          ]
        },
        {
          "output_type": "stream",
          "name": "stderr",
          "text": [
            "     69/200       5.2G      1.045      0.709      1.973         31        640: 100%|██████████| 4/4 [00:00<00:00,  6.53it/s]\n",
            "                 Class     Images  Instances      Box(P          R      mAP50  mAP50-95): 100%|██████████| 2/2 [00:00<00:00,  8.03it/s]"
          ]
        },
        {
          "output_type": "stream",
          "name": "stdout",
          "text": [
            "                   all         51        216      0.786      0.453      0.513      0.443\n"
          ]
        },
        {
          "output_type": "stream",
          "name": "stderr",
          "text": [
            "\n"
          ]
        },
        {
          "output_type": "stream",
          "name": "stdout",
          "text": [
            "\n",
            "      Epoch    GPU_mem   box_loss   cls_loss   dfl_loss  Instances       Size\n"
          ]
        },
        {
          "output_type": "stream",
          "name": "stderr",
          "text": [
            "     70/200      5.23G     0.9233     0.6078       1.87         23        640: 100%|██████████| 4/4 [00:00<00:00,  6.21it/s]\n",
            "                 Class     Images  Instances      Box(P          R      mAP50  mAP50-95): 100%|██████████| 2/2 [00:00<00:00,  7.76it/s]"
          ]
        },
        {
          "output_type": "stream",
          "name": "stdout",
          "text": [
            "                   all         51        216      0.819      0.796      0.907      0.804\n"
          ]
        },
        {
          "output_type": "stream",
          "name": "stderr",
          "text": [
            "\n"
          ]
        },
        {
          "output_type": "stream",
          "name": "stdout",
          "text": [
            "\n",
            "      Epoch    GPU_mem   box_loss   cls_loss   dfl_loss  Instances       Size\n"
          ]
        },
        {
          "output_type": "stream",
          "name": "stderr",
          "text": [
            "     71/200       5.2G     0.9115     0.6843      1.929         25        640: 100%|██████████| 4/4 [00:00<00:00,  6.78it/s]\n",
            "                 Class     Images  Instances      Box(P          R      mAP50  mAP50-95): 100%|██████████| 2/2 [00:00<00:00,  9.20it/s]"
          ]
        },
        {
          "output_type": "stream",
          "name": "stdout",
          "text": [
            "                   all         51        216      0.912      0.821      0.932      0.855\n"
          ]
        },
        {
          "output_type": "stream",
          "name": "stderr",
          "text": [
            "\n"
          ]
        },
        {
          "output_type": "stream",
          "name": "stdout",
          "text": [
            "\n",
            "      Epoch    GPU_mem   box_loss   cls_loss   dfl_loss  Instances       Size\n"
          ]
        },
        {
          "output_type": "stream",
          "name": "stderr",
          "text": [
            "     72/200       5.2G     0.9316     0.6704      1.906         25        640: 100%|██████████| 4/4 [00:00<00:00,  7.10it/s]\n",
            "                 Class     Images  Instances      Box(P          R      mAP50  mAP50-95): 100%|██████████| 2/2 [00:00<00:00,  8.62it/s]"
          ]
        },
        {
          "output_type": "stream",
          "name": "stdout",
          "text": [
            "                   all         51        216      0.893      0.814      0.936       0.84\n"
          ]
        },
        {
          "output_type": "stream",
          "name": "stderr",
          "text": [
            "\n"
          ]
        },
        {
          "output_type": "stream",
          "name": "stdout",
          "text": [
            "\n",
            "      Epoch    GPU_mem   box_loss   cls_loss   dfl_loss  Instances       Size\n"
          ]
        },
        {
          "output_type": "stream",
          "name": "stderr",
          "text": [
            "     73/200      5.23G     0.9959     0.6704      1.905         34        640: 100%|██████████| 4/4 [00:00<00:00,  6.98it/s]\n",
            "                 Class     Images  Instances      Box(P          R      mAP50  mAP50-95): 100%|██████████| 2/2 [00:00<00:00,  8.49it/s]"
          ]
        },
        {
          "output_type": "stream",
          "name": "stdout",
          "text": [
            "                   all         51        216      0.911      0.786        0.9      0.818\n"
          ]
        },
        {
          "output_type": "stream",
          "name": "stderr",
          "text": [
            "\n"
          ]
        },
        {
          "output_type": "stream",
          "name": "stdout",
          "text": [
            "\n",
            "      Epoch    GPU_mem   box_loss   cls_loss   dfl_loss  Instances       Size\n"
          ]
        },
        {
          "output_type": "stream",
          "name": "stderr",
          "text": [
            "     74/200       5.2G     0.9916     0.6906      2.055         19        640: 100%|██████████| 4/4 [00:00<00:00,  7.05it/s]\n",
            "                 Class     Images  Instances      Box(P          R      mAP50  mAP50-95): 100%|██████████| 2/2 [00:00<00:00,  9.16it/s]"
          ]
        },
        {
          "output_type": "stream",
          "name": "stdout",
          "text": [
            "                   all         51        216      0.902      0.887      0.938       0.86\n"
          ]
        },
        {
          "output_type": "stream",
          "name": "stderr",
          "text": [
            "\n"
          ]
        },
        {
          "output_type": "stream",
          "name": "stdout",
          "text": [
            "\n",
            "      Epoch    GPU_mem   box_loss   cls_loss   dfl_loss  Instances       Size\n"
          ]
        },
        {
          "output_type": "stream",
          "name": "stderr",
          "text": [
            "     75/200       5.2G     0.8769     0.7424      1.875         21        640: 100%|██████████| 4/4 [00:00<00:00,  7.21it/s]\n",
            "                 Class     Images  Instances      Box(P          R      mAP50  mAP50-95): 100%|██████████| 2/2 [00:00<00:00,  9.11it/s]"
          ]
        },
        {
          "output_type": "stream",
          "name": "stdout",
          "text": [
            "                   all         51        216       0.97       0.86      0.948      0.873\n"
          ]
        },
        {
          "output_type": "stream",
          "name": "stderr",
          "text": [
            "\n"
          ]
        },
        {
          "output_type": "stream",
          "name": "stdout",
          "text": [
            "\n",
            "      Epoch    GPU_mem   box_loss   cls_loss   dfl_loss  Instances       Size\n"
          ]
        },
        {
          "output_type": "stream",
          "name": "stderr",
          "text": [
            "     76/200      5.23G      1.095     0.8356      2.042         31        640: 100%|██████████| 4/4 [00:00<00:00,  7.17it/s]\n",
            "                 Class     Images  Instances      Box(P          R      mAP50  mAP50-95): 100%|██████████| 2/2 [00:00<00:00,  8.55it/s]"
          ]
        },
        {
          "output_type": "stream",
          "name": "stdout",
          "text": [
            "                   all         51        216      0.973      0.828      0.944      0.903\n"
          ]
        },
        {
          "output_type": "stream",
          "name": "stderr",
          "text": [
            "\n"
          ]
        },
        {
          "output_type": "stream",
          "name": "stdout",
          "text": [
            "\n",
            "      Epoch    GPU_mem   box_loss   cls_loss   dfl_loss  Instances       Size\n"
          ]
        },
        {
          "output_type": "stream",
          "name": "stderr",
          "text": [
            "     77/200      5.23G     0.9706     0.7387      1.909         29        640: 100%|██████████| 4/4 [00:00<00:00,  7.05it/s]\n",
            "                 Class     Images  Instances      Box(P          R      mAP50  mAP50-95): 100%|██████████| 2/2 [00:00<00:00,  8.50it/s]"
          ]
        },
        {
          "output_type": "stream",
          "name": "stdout",
          "text": [
            "                   all         51        216      0.949      0.967      0.971      0.925\n"
          ]
        },
        {
          "output_type": "stream",
          "name": "stderr",
          "text": [
            "\n"
          ]
        },
        {
          "output_type": "stream",
          "name": "stdout",
          "text": [
            "\n",
            "      Epoch    GPU_mem   box_loss   cls_loss   dfl_loss  Instances       Size\n"
          ]
        },
        {
          "output_type": "stream",
          "name": "stderr",
          "text": [
            "     78/200      5.21G     0.9417     0.6354      1.917         25        640: 100%|██████████| 4/4 [00:00<00:00,  6.80it/s]\n",
            "                 Class     Images  Instances      Box(P          R      mAP50  mAP50-95): 100%|██████████| 2/2 [00:00<00:00,  9.19it/s]"
          ]
        },
        {
          "output_type": "stream",
          "name": "stdout",
          "text": [
            "                   all         51        216      0.952      0.917      0.988      0.928\n"
          ]
        },
        {
          "output_type": "stream",
          "name": "stderr",
          "text": [
            "\n"
          ]
        },
        {
          "output_type": "stream",
          "name": "stdout",
          "text": [
            "\n",
            "      Epoch    GPU_mem   box_loss   cls_loss   dfl_loss  Instances       Size\n"
          ]
        },
        {
          "output_type": "stream",
          "name": "stderr",
          "text": [
            "     79/200       5.2G     0.9582     0.7132      1.962         24        640: 100%|██████████| 4/4 [00:00<00:00,  6.75it/s]\n",
            "                 Class     Images  Instances      Box(P          R      mAP50  mAP50-95): 100%|██████████| 2/2 [00:00<00:00,  8.24it/s]"
          ]
        },
        {
          "output_type": "stream",
          "name": "stdout",
          "text": [
            "                   all         51        216      0.861      0.966      0.967      0.907\n"
          ]
        },
        {
          "output_type": "stream",
          "name": "stderr",
          "text": [
            "\n"
          ]
        },
        {
          "output_type": "stream",
          "name": "stdout",
          "text": [
            "\n",
            "      Epoch    GPU_mem   box_loss   cls_loss   dfl_loss  Instances       Size\n"
          ]
        },
        {
          "output_type": "stream",
          "name": "stderr",
          "text": [
            "     80/200      5.23G     0.9846        0.7      1.976         26        640: 100%|██████████| 4/4 [00:00<00:00,  6.72it/s]\n",
            "                 Class     Images  Instances      Box(P          R      mAP50  mAP50-95): 100%|██████████| 2/2 [00:00<00:00,  7.79it/s]"
          ]
        },
        {
          "output_type": "stream",
          "name": "stdout",
          "text": [
            "                   all         51        216      0.915      0.964      0.985      0.921\n"
          ]
        },
        {
          "output_type": "stream",
          "name": "stderr",
          "text": [
            "\n"
          ]
        },
        {
          "output_type": "stream",
          "name": "stdout",
          "text": [
            "\n",
            "      Epoch    GPU_mem   box_loss   cls_loss   dfl_loss  Instances       Size\n"
          ]
        },
        {
          "output_type": "stream",
          "name": "stderr",
          "text": [
            "     81/200      5.23G     0.8652     0.5851      1.891         28        640: 100%|██████████| 4/4 [00:00<00:00,  6.62it/s]\n",
            "                 Class     Images  Instances      Box(P          R      mAP50  mAP50-95): 100%|██████████| 2/2 [00:00<00:00,  9.15it/s]"
          ]
        },
        {
          "output_type": "stream",
          "name": "stdout",
          "text": [
            "                   all         51        216       0.86      0.972      0.974      0.906\n"
          ]
        },
        {
          "output_type": "stream",
          "name": "stderr",
          "text": [
            "\n"
          ]
        },
        {
          "output_type": "stream",
          "name": "stdout",
          "text": [
            "\n",
            "      Epoch    GPU_mem   box_loss   cls_loss   dfl_loss  Instances       Size\n"
          ]
        },
        {
          "output_type": "stream",
          "name": "stderr",
          "text": [
            "     82/200      5.21G      1.042     0.6977      2.087         21        640: 100%|██████████| 4/4 [00:00<00:00,  7.20it/s]\n",
            "                 Class     Images  Instances      Box(P          R      mAP50  mAP50-95): 100%|██████████| 2/2 [00:00<00:00,  8.58it/s]"
          ]
        },
        {
          "output_type": "stream",
          "name": "stdout",
          "text": [
            "                   all         51        216      0.958      0.921      0.973       0.92\n"
          ]
        },
        {
          "output_type": "stream",
          "name": "stderr",
          "text": [
            "\n"
          ]
        },
        {
          "output_type": "stream",
          "name": "stdout",
          "text": [
            "\n",
            "      Epoch    GPU_mem   box_loss   cls_loss   dfl_loss  Instances       Size\n"
          ]
        },
        {
          "output_type": "stream",
          "name": "stderr",
          "text": [
            "     83/200      5.21G      1.158     0.7797      2.194         13        640: 100%|██████████| 4/4 [00:00<00:00,  6.95it/s]\n",
            "                 Class     Images  Instances      Box(P          R      mAP50  mAP50-95): 100%|██████████| 2/2 [00:00<00:00,  8.71it/s]"
          ]
        },
        {
          "output_type": "stream",
          "name": "stdout",
          "text": [
            "                   all         51        216      0.844      0.983      0.951      0.898\n"
          ]
        },
        {
          "output_type": "stream",
          "name": "stderr",
          "text": [
            "\n"
          ]
        },
        {
          "output_type": "stream",
          "name": "stdout",
          "text": [
            "\n",
            "      Epoch    GPU_mem   box_loss   cls_loss   dfl_loss  Instances       Size\n"
          ]
        },
        {
          "output_type": "stream",
          "name": "stderr",
          "text": [
            "     84/200      5.21G     0.8989     0.6476       1.89         39        640: 100%|██████████| 4/4 [00:00<00:00,  6.98it/s]\n",
            "                 Class     Images  Instances      Box(P          R      mAP50  mAP50-95): 100%|██████████| 2/2 [00:00<00:00,  8.38it/s]"
          ]
        },
        {
          "output_type": "stream",
          "name": "stdout",
          "text": [
            "                   all         51        216      0.917      0.924       0.97      0.932\n"
          ]
        },
        {
          "output_type": "stream",
          "name": "stderr",
          "text": [
            "\n"
          ]
        },
        {
          "output_type": "stream",
          "name": "stdout",
          "text": [
            "\n",
            "      Epoch    GPU_mem   box_loss   cls_loss   dfl_loss  Instances       Size\n"
          ]
        },
        {
          "output_type": "stream",
          "name": "stderr",
          "text": [
            "     85/200      5.21G     0.9488     0.6683      1.931         26        640: 100%|██████████| 4/4 [00:00<00:00,  6.83it/s]\n",
            "                 Class     Images  Instances      Box(P          R      mAP50  mAP50-95): 100%|██████████| 2/2 [00:00<00:00,  8.82it/s]"
          ]
        },
        {
          "output_type": "stream",
          "name": "stdout",
          "text": [
            "                   all         51        216      0.935      0.918      0.978      0.943\n"
          ]
        },
        {
          "output_type": "stream",
          "name": "stderr",
          "text": [
            "\n"
          ]
        },
        {
          "output_type": "stream",
          "name": "stdout",
          "text": [
            "\n",
            "      Epoch    GPU_mem   box_loss   cls_loss   dfl_loss  Instances       Size\n"
          ]
        },
        {
          "output_type": "stream",
          "name": "stderr",
          "text": [
            "     86/200       5.2G      1.035     0.7007       1.98         27        640: 100%|██████████| 4/4 [00:00<00:00,  6.50it/s]\n",
            "                 Class     Images  Instances      Box(P          R      mAP50  mAP50-95): 100%|██████████| 2/2 [00:00<00:00,  9.17it/s]"
          ]
        },
        {
          "output_type": "stream",
          "name": "stdout",
          "text": [
            "                   all         51        216      0.982      0.974      0.993      0.954\n"
          ]
        },
        {
          "output_type": "stream",
          "name": "stderr",
          "text": [
            "\n"
          ]
        },
        {
          "output_type": "stream",
          "name": "stdout",
          "text": [
            "\n",
            "      Epoch    GPU_mem   box_loss   cls_loss   dfl_loss  Instances       Size\n"
          ]
        },
        {
          "output_type": "stream",
          "name": "stderr",
          "text": [
            "     87/200       5.2G      1.015     0.7034      1.922         36        640: 100%|██████████| 4/4 [00:00<00:00,  7.02it/s]\n",
            "                 Class     Images  Instances      Box(P          R      mAP50  mAP50-95): 100%|██████████| 2/2 [00:00<00:00,  8.24it/s]"
          ]
        },
        {
          "output_type": "stream",
          "name": "stdout",
          "text": [
            "                   all         51        216      0.892      0.974      0.965      0.934\n"
          ]
        },
        {
          "output_type": "stream",
          "name": "stderr",
          "text": [
            "\n"
          ]
        },
        {
          "output_type": "stream",
          "name": "stdout",
          "text": [
            "\n",
            "      Epoch    GPU_mem   box_loss   cls_loss   dfl_loss  Instances       Size\n"
          ]
        },
        {
          "output_type": "stream",
          "name": "stderr",
          "text": [
            "     88/200       5.2G     0.9158     0.5936      1.907         20        640: 100%|██████████| 4/4 [00:00<00:00,  6.89it/s]\n",
            "                 Class     Images  Instances      Box(P          R      mAP50  mAP50-95): 100%|██████████| 2/2 [00:00<00:00,  8.86it/s]"
          ]
        },
        {
          "output_type": "stream",
          "name": "stdout",
          "text": [
            "                   all         51        216      0.938      0.931      0.974      0.927\n"
          ]
        },
        {
          "output_type": "stream",
          "name": "stderr",
          "text": [
            "\n"
          ]
        },
        {
          "output_type": "stream",
          "name": "stdout",
          "text": [
            "\n",
            "      Epoch    GPU_mem   box_loss   cls_loss   dfl_loss  Instances       Size\n"
          ]
        },
        {
          "output_type": "stream",
          "name": "stderr",
          "text": [
            "     89/200       5.2G     0.8568     0.7055      1.893         29        640: 100%|██████████| 4/4 [00:00<00:00,  6.63it/s]\n",
            "                 Class     Images  Instances      Box(P          R      mAP50  mAP50-95): 100%|██████████| 2/2 [00:00<00:00,  9.19it/s]"
          ]
        },
        {
          "output_type": "stream",
          "name": "stdout",
          "text": [
            "                   all         51        216      0.936      0.988      0.985      0.954\n"
          ]
        },
        {
          "output_type": "stream",
          "name": "stderr",
          "text": [
            "\n"
          ]
        },
        {
          "output_type": "stream",
          "name": "stdout",
          "text": [
            "\n",
            "      Epoch    GPU_mem   box_loss   cls_loss   dfl_loss  Instances       Size\n"
          ]
        },
        {
          "output_type": "stream",
          "name": "stderr",
          "text": [
            "     90/200       5.2G     0.8327     0.6213      1.883         29        640: 100%|██████████| 4/4 [00:00<00:00,  6.69it/s]\n",
            "                 Class     Images  Instances      Box(P          R      mAP50  mAP50-95): 100%|██████████| 2/2 [00:00<00:00,  8.57it/s]"
          ]
        },
        {
          "output_type": "stream",
          "name": "stdout",
          "text": [
            "                   all         51        216      0.949      0.981      0.983      0.947\n"
          ]
        },
        {
          "output_type": "stream",
          "name": "stderr",
          "text": [
            "\n"
          ]
        },
        {
          "output_type": "stream",
          "name": "stdout",
          "text": [
            "\n",
            "      Epoch    GPU_mem   box_loss   cls_loss   dfl_loss  Instances       Size\n"
          ]
        },
        {
          "output_type": "stream",
          "name": "stderr",
          "text": [
            "     91/200       5.2G      1.039     0.6717      1.972         24        640: 100%|██████████| 4/4 [00:00<00:00,  6.13it/s]\n",
            "                 Class     Images  Instances      Box(P          R      mAP50  mAP50-95): 100%|██████████| 2/2 [00:00<00:00,  9.28it/s]"
          ]
        },
        {
          "output_type": "stream",
          "name": "stdout",
          "text": [
            "                   all         51        216       0.94      0.983      0.988      0.951\n"
          ]
        },
        {
          "output_type": "stream",
          "name": "stderr",
          "text": [
            "\n"
          ]
        },
        {
          "output_type": "stream",
          "name": "stdout",
          "text": [
            "\n",
            "      Epoch    GPU_mem   box_loss   cls_loss   dfl_loss  Instances       Size\n"
          ]
        },
        {
          "output_type": "stream",
          "name": "stderr",
          "text": [
            "     92/200       5.2G      1.001     0.7542      1.916         28        640: 100%|██████████| 4/4 [00:00<00:00,  7.00it/s]\n",
            "                 Class     Images  Instances      Box(P          R      mAP50  mAP50-95): 100%|██████████| 2/2 [00:00<00:00,  7.97it/s]"
          ]
        },
        {
          "output_type": "stream",
          "name": "stdout",
          "text": [
            "                   all         51        216      0.923      0.964      0.984       0.96\n"
          ]
        },
        {
          "output_type": "stream",
          "name": "stderr",
          "text": [
            "\n"
          ]
        },
        {
          "output_type": "stream",
          "name": "stdout",
          "text": [
            "\n",
            "      Epoch    GPU_mem   box_loss   cls_loss   dfl_loss  Instances       Size\n"
          ]
        },
        {
          "output_type": "stream",
          "name": "stderr",
          "text": [
            "     93/200       5.2G     0.9572     0.6843      1.902         22        640: 100%|██████████| 4/4 [00:00<00:00,  6.97it/s]\n",
            "                 Class     Images  Instances      Box(P          R      mAP50  mAP50-95): 100%|██████████| 2/2 [00:00<00:00,  8.90it/s]"
          ]
        },
        {
          "output_type": "stream",
          "name": "stdout",
          "text": [
            "                   all         51        216      0.955      0.953      0.987      0.955\n"
          ]
        },
        {
          "output_type": "stream",
          "name": "stderr",
          "text": [
            "\n"
          ]
        },
        {
          "output_type": "stream",
          "name": "stdout",
          "text": [
            "\n",
            "      Epoch    GPU_mem   box_loss   cls_loss   dfl_loss  Instances       Size\n"
          ]
        },
        {
          "output_type": "stream",
          "name": "stderr",
          "text": [
            "     94/200      5.23G      1.123     0.8096      2.128         15        640: 100%|██████████| 4/4 [00:00<00:00,  6.92it/s]\n",
            "                 Class     Images  Instances      Box(P          R      mAP50  mAP50-95): 100%|██████████| 2/2 [00:00<00:00,  8.80it/s]"
          ]
        },
        {
          "output_type": "stream",
          "name": "stdout",
          "text": [
            "                   all         51        216      0.954      0.957       0.99      0.955\n"
          ]
        },
        {
          "output_type": "stream",
          "name": "stderr",
          "text": [
            "\n"
          ]
        },
        {
          "output_type": "stream",
          "name": "stdout",
          "text": [
            "\n",
            "      Epoch    GPU_mem   box_loss   cls_loss   dfl_loss  Instances       Size\n"
          ]
        },
        {
          "output_type": "stream",
          "name": "stderr",
          "text": [
            "     95/200      5.21G     0.8283     0.6455      1.877         23        640: 100%|██████████| 4/4 [00:00<00:00,  7.00it/s]\n",
            "                 Class     Images  Instances      Box(P          R      mAP50  mAP50-95): 100%|██████████| 2/2 [00:00<00:00,  9.14it/s]"
          ]
        },
        {
          "output_type": "stream",
          "name": "stdout",
          "text": [
            "                   all         51        216      0.949      0.923      0.984      0.944\n"
          ]
        },
        {
          "output_type": "stream",
          "name": "stderr",
          "text": [
            "\n"
          ]
        },
        {
          "output_type": "stream",
          "name": "stdout",
          "text": [
            "\n",
            "      Epoch    GPU_mem   box_loss   cls_loss   dfl_loss  Instances       Size\n"
          ]
        },
        {
          "output_type": "stream",
          "name": "stderr",
          "text": [
            "     96/200      5.23G       1.07       0.79      2.063         12        640: 100%|██████████| 4/4 [00:00<00:00,  6.74it/s]\n",
            "                 Class     Images  Instances      Box(P          R      mAP50  mAP50-95): 100%|██████████| 2/2 [00:00<00:00,  8.51it/s]"
          ]
        },
        {
          "output_type": "stream",
          "name": "stdout",
          "text": [
            "                   all         51        216      0.994      0.917       0.99      0.959\n"
          ]
        },
        {
          "output_type": "stream",
          "name": "stderr",
          "text": [
            "\n"
          ]
        },
        {
          "output_type": "stream",
          "name": "stdout",
          "text": [
            "\n",
            "      Epoch    GPU_mem   box_loss   cls_loss   dfl_loss  Instances       Size\n"
          ]
        },
        {
          "output_type": "stream",
          "name": "stderr",
          "text": [
            "     97/200      5.23G     0.8213     0.5446      1.861         29        640: 100%|██████████| 4/4 [00:00<00:00,  6.78it/s]\n",
            "                 Class     Images  Instances      Box(P          R      mAP50  mAP50-95): 100%|██████████| 2/2 [00:00<00:00,  9.08it/s]"
          ]
        },
        {
          "output_type": "stream",
          "name": "stdout",
          "text": [
            "                   all         51        216      0.946      0.974      0.984      0.954\n"
          ]
        },
        {
          "output_type": "stream",
          "name": "stderr",
          "text": [
            "\n"
          ]
        },
        {
          "output_type": "stream",
          "name": "stdout",
          "text": [
            "\n",
            "      Epoch    GPU_mem   box_loss   cls_loss   dfl_loss  Instances       Size\n"
          ]
        },
        {
          "output_type": "stream",
          "name": "stderr",
          "text": [
            "     98/200       5.2G      0.898     0.5858      1.894         26        640: 100%|██████████| 4/4 [00:00<00:00,  6.77it/s]\n",
            "                 Class     Images  Instances      Box(P          R      mAP50  mAP50-95): 100%|██████████| 2/2 [00:00<00:00,  8.31it/s]"
          ]
        },
        {
          "output_type": "stream",
          "name": "stdout",
          "text": [
            "                   all         51        216      0.977      0.968      0.993      0.957\n"
          ]
        },
        {
          "output_type": "stream",
          "name": "stderr",
          "text": [
            "\n"
          ]
        },
        {
          "output_type": "stream",
          "name": "stdout",
          "text": [
            "\n",
            "      Epoch    GPU_mem   box_loss   cls_loss   dfl_loss  Instances       Size\n"
          ]
        },
        {
          "output_type": "stream",
          "name": "stderr",
          "text": [
            "     99/200      5.21G     0.9242      0.644      1.949         33        640: 100%|██████████| 4/4 [00:00<00:00,  6.82it/s]\n",
            "                 Class     Images  Instances      Box(P          R      mAP50  mAP50-95): 100%|██████████| 2/2 [00:00<00:00,  8.51it/s]"
          ]
        },
        {
          "output_type": "stream",
          "name": "stdout",
          "text": [
            "                   all         51        216      0.987      0.974      0.994      0.956\n"
          ]
        },
        {
          "output_type": "stream",
          "name": "stderr",
          "text": [
            "\n"
          ]
        },
        {
          "output_type": "stream",
          "name": "stdout",
          "text": [
            "\n",
            "      Epoch    GPU_mem   box_loss   cls_loss   dfl_loss  Instances       Size\n"
          ]
        },
        {
          "output_type": "stream",
          "name": "stderr",
          "text": [
            "    100/200       5.2G     0.9498     0.6495        1.9         25        640: 100%|██████████| 4/4 [00:00<00:00,  6.74it/s]\n",
            "                 Class     Images  Instances      Box(P          R      mAP50  mAP50-95): 100%|██████████| 2/2 [00:00<00:00,  8.58it/s]"
          ]
        },
        {
          "output_type": "stream",
          "name": "stdout",
          "text": [
            "                   all         51        216       0.99      0.982      0.994      0.965\n"
          ]
        },
        {
          "output_type": "stream",
          "name": "stderr",
          "text": [
            "\n"
          ]
        },
        {
          "output_type": "stream",
          "name": "stdout",
          "text": [
            "\n",
            "      Epoch    GPU_mem   box_loss   cls_loss   dfl_loss  Instances       Size\n"
          ]
        },
        {
          "output_type": "stream",
          "name": "stderr",
          "text": [
            "    101/200      5.21G     0.9431     0.6981      1.953         14        640: 100%|██████████| 4/4 [00:00<00:00,  6.92it/s]\n",
            "                 Class     Images  Instances      Box(P          R      mAP50  mAP50-95): 100%|██████████| 2/2 [00:00<00:00,  9.12it/s]"
          ]
        },
        {
          "output_type": "stream",
          "name": "stdout",
          "text": [
            "                   all         51        216      0.874      0.988      0.973      0.934\n"
          ]
        },
        {
          "output_type": "stream",
          "name": "stderr",
          "text": [
            "\n"
          ]
        },
        {
          "output_type": "stream",
          "name": "stdout",
          "text": [
            "\n",
            "      Epoch    GPU_mem   box_loss   cls_loss   dfl_loss  Instances       Size\n"
          ]
        },
        {
          "output_type": "stream",
          "name": "stderr",
          "text": [
            "    102/200       5.2G     0.8116     0.5902      1.899         24        640: 100%|██████████| 4/4 [00:00<00:00,  6.98it/s]\n",
            "                 Class     Images  Instances      Box(P          R      mAP50  mAP50-95): 100%|██████████| 2/2 [00:00<00:00,  8.99it/s]"
          ]
        },
        {
          "output_type": "stream",
          "name": "stdout",
          "text": [
            "                   all         51        216       0.95      0.936      0.968      0.926\n"
          ]
        },
        {
          "output_type": "stream",
          "name": "stderr",
          "text": [
            "\n"
          ]
        },
        {
          "output_type": "stream",
          "name": "stdout",
          "text": [
            "\n",
            "      Epoch    GPU_mem   box_loss   cls_loss   dfl_loss  Instances       Size\n"
          ]
        },
        {
          "output_type": "stream",
          "name": "stderr",
          "text": [
            "    103/200       5.2G     0.9154     0.6053      1.958         14        640: 100%|██████████| 4/4 [00:00<00:00,  7.09it/s]\n",
            "                 Class     Images  Instances      Box(P          R      mAP50  mAP50-95): 100%|██████████| 2/2 [00:00<00:00,  8.88it/s]"
          ]
        },
        {
          "output_type": "stream",
          "name": "stdout",
          "text": [
            "                   all         51        216      0.912      0.969      0.982      0.944\n"
          ]
        },
        {
          "output_type": "stream",
          "name": "stderr",
          "text": [
            "\n"
          ]
        },
        {
          "output_type": "stream",
          "name": "stdout",
          "text": [
            "\n",
            "      Epoch    GPU_mem   box_loss   cls_loss   dfl_loss  Instances       Size\n"
          ]
        },
        {
          "output_type": "stream",
          "name": "stderr",
          "text": [
            "    104/200       5.2G     0.8437     0.6528      1.914         34        640: 100%|██████████| 4/4 [00:00<00:00,  7.03it/s]\n",
            "                 Class     Images  Instances      Box(P          R      mAP50  mAP50-95): 100%|██████████| 2/2 [00:00<00:00,  9.20it/s]"
          ]
        },
        {
          "output_type": "stream",
          "name": "stdout",
          "text": [
            "                   all         51        216      0.942       0.94      0.981      0.953\n"
          ]
        },
        {
          "output_type": "stream",
          "name": "stderr",
          "text": [
            "\n"
          ]
        },
        {
          "output_type": "stream",
          "name": "stdout",
          "text": [
            "\n",
            "      Epoch    GPU_mem   box_loss   cls_loss   dfl_loss  Instances       Size\n"
          ]
        },
        {
          "output_type": "stream",
          "name": "stderr",
          "text": [
            "    105/200      5.21G     0.9271     0.5929      1.968         17        640: 100%|██████████| 4/4 [00:00<00:00,  6.97it/s]\n",
            "                 Class     Images  Instances      Box(P          R      mAP50  mAP50-95): 100%|██████████| 2/2 [00:00<00:00,  8.75it/s]"
          ]
        },
        {
          "output_type": "stream",
          "name": "stdout",
          "text": [
            "                   all         51        216      0.987      0.892       0.97      0.945\n"
          ]
        },
        {
          "output_type": "stream",
          "name": "stderr",
          "text": [
            "\n"
          ]
        },
        {
          "output_type": "stream",
          "name": "stdout",
          "text": [
            "\n",
            "      Epoch    GPU_mem   box_loss   cls_loss   dfl_loss  Instances       Size\n"
          ]
        },
        {
          "output_type": "stream",
          "name": "stderr",
          "text": [
            "    106/200       5.2G     0.8832     0.6239      1.902         35        640: 100%|██████████| 4/4 [00:00<00:00,  6.85it/s]\n",
            "                 Class     Images  Instances      Box(P          R      mAP50  mAP50-95): 100%|██████████| 2/2 [00:00<00:00,  8.78it/s]"
          ]
        },
        {
          "output_type": "stream",
          "name": "stdout",
          "text": [
            "                   all         51        216      0.951      0.988      0.991      0.972\n"
          ]
        },
        {
          "output_type": "stream",
          "name": "stderr",
          "text": [
            "\n"
          ]
        },
        {
          "output_type": "stream",
          "name": "stdout",
          "text": [
            "\n",
            "      Epoch    GPU_mem   box_loss   cls_loss   dfl_loss  Instances       Size\n"
          ]
        },
        {
          "output_type": "stream",
          "name": "stderr",
          "text": [
            "    107/200       5.2G     0.8875     0.6219      1.929         24        640: 100%|██████████| 4/4 [00:00<00:00,  6.66it/s]\n",
            "                 Class     Images  Instances      Box(P          R      mAP50  mAP50-95): 100%|██████████| 2/2 [00:00<00:00,  8.89it/s]"
          ]
        },
        {
          "output_type": "stream",
          "name": "stdout",
          "text": [
            "                   all         51        216      0.909       0.99      0.979       0.96\n"
          ]
        },
        {
          "output_type": "stream",
          "name": "stderr",
          "text": [
            "\n"
          ]
        },
        {
          "output_type": "stream",
          "name": "stdout",
          "text": [
            "\n",
            "      Epoch    GPU_mem   box_loss   cls_loss   dfl_loss  Instances       Size\n"
          ]
        },
        {
          "output_type": "stream",
          "name": "stderr",
          "text": [
            "    108/200       5.2G     0.7735     0.4976      1.809         37        640: 100%|██████████| 4/4 [00:00<00:00,  6.60it/s]\n",
            "                 Class     Images  Instances      Box(P          R      mAP50  mAP50-95): 100%|██████████| 2/2 [00:00<00:00,  8.37it/s]"
          ]
        },
        {
          "output_type": "stream",
          "name": "stdout",
          "text": [
            "                   all         51        216      0.897      0.953      0.974      0.954\n"
          ]
        },
        {
          "output_type": "stream",
          "name": "stderr",
          "text": [
            "\n"
          ]
        },
        {
          "output_type": "stream",
          "name": "stdout",
          "text": [
            "\n",
            "      Epoch    GPU_mem   box_loss   cls_loss   dfl_loss  Instances       Size\n"
          ]
        },
        {
          "output_type": "stream",
          "name": "stderr",
          "text": [
            "    109/200      5.23G      0.847     0.5393      1.875         28        640: 100%|██████████| 4/4 [00:00<00:00,  6.94it/s]\n",
            "                 Class     Images  Instances      Box(P          R      mAP50  mAP50-95): 100%|██████████| 2/2 [00:00<00:00,  8.31it/s]"
          ]
        },
        {
          "output_type": "stream",
          "name": "stdout",
          "text": [
            "                   all         51        216      0.952      0.989      0.985      0.967\n"
          ]
        },
        {
          "output_type": "stream",
          "name": "stderr",
          "text": [
            "\n"
          ]
        },
        {
          "output_type": "stream",
          "name": "stdout",
          "text": [
            "\n",
            "      Epoch    GPU_mem   box_loss   cls_loss   dfl_loss  Instances       Size\n"
          ]
        },
        {
          "output_type": "stream",
          "name": "stderr",
          "text": [
            "    110/200      5.21G     0.7319      0.516      1.861         23        640: 100%|██████████| 4/4 [00:00<00:00,  6.79it/s]\n",
            "                 Class     Images  Instances      Box(P          R      mAP50  mAP50-95): 100%|██████████| 2/2 [00:00<00:00,  8.17it/s]"
          ]
        },
        {
          "output_type": "stream",
          "name": "stdout",
          "text": [
            "                   all         51        216      0.952      0.985      0.982      0.962\n"
          ]
        },
        {
          "output_type": "stream",
          "name": "stderr",
          "text": [
            "\n"
          ]
        },
        {
          "output_type": "stream",
          "name": "stdout",
          "text": [
            "\n",
            "      Epoch    GPU_mem   box_loss   cls_loss   dfl_loss  Instances       Size\n"
          ]
        },
        {
          "output_type": "stream",
          "name": "stderr",
          "text": [
            "    111/200      5.23G     0.6992     0.4777      1.807         25        640: 100%|██████████| 4/4 [00:00<00:00,  6.51it/s]\n",
            "                 Class     Images  Instances      Box(P          R      mAP50  mAP50-95): 100%|██████████| 2/2 [00:00<00:00,  8.80it/s]"
          ]
        },
        {
          "output_type": "stream",
          "name": "stdout",
          "text": [
            "                   all         51        216      0.952      0.988      0.988      0.969\n"
          ]
        },
        {
          "output_type": "stream",
          "name": "stderr",
          "text": [
            "\n"
          ]
        },
        {
          "output_type": "stream",
          "name": "stdout",
          "text": [
            "\n",
            "      Epoch    GPU_mem   box_loss   cls_loss   dfl_loss  Instances       Size\n"
          ]
        },
        {
          "output_type": "stream",
          "name": "stderr",
          "text": [
            "    112/200      5.21G     0.8132     0.5754       1.93         33        640: 100%|██████████| 4/4 [00:00<00:00,  6.94it/s]\n",
            "                 Class     Images  Instances      Box(P          R      mAP50  mAP50-95): 100%|██████████| 2/2 [00:00<00:00,  9.01it/s]"
          ]
        },
        {
          "output_type": "stream",
          "name": "stdout",
          "text": [
            "                   all         51        216      0.984      0.975      0.994      0.978\n"
          ]
        },
        {
          "output_type": "stream",
          "name": "stderr",
          "text": [
            "\n"
          ]
        },
        {
          "output_type": "stream",
          "name": "stdout",
          "text": [
            "\n",
            "      Epoch    GPU_mem   box_loss   cls_loss   dfl_loss  Instances       Size\n"
          ]
        },
        {
          "output_type": "stream",
          "name": "stderr",
          "text": [
            "    113/200      5.21G       0.85     0.7113      1.911         15        640: 100%|██████████| 4/4 [00:00<00:00,  6.73it/s]\n",
            "                 Class     Images  Instances      Box(P          R      mAP50  mAP50-95): 100%|██████████| 2/2 [00:00<00:00,  8.30it/s]"
          ]
        },
        {
          "output_type": "stream",
          "name": "stdout",
          "text": [
            "                   all         51        216      0.944      0.985      0.991      0.979\n"
          ]
        },
        {
          "output_type": "stream",
          "name": "stderr",
          "text": [
            "\n"
          ]
        },
        {
          "output_type": "stream",
          "name": "stdout",
          "text": [
            "\n",
            "      Epoch    GPU_mem   box_loss   cls_loss   dfl_loss  Instances       Size\n"
          ]
        },
        {
          "output_type": "stream",
          "name": "stderr",
          "text": [
            "    114/200       5.2G     0.7682     0.5424       1.84         25        640: 100%|██████████| 4/4 [00:00<00:00,  7.10it/s]\n",
            "                 Class     Images  Instances      Box(P          R      mAP50  mAP50-95): 100%|██████████| 2/2 [00:00<00:00,  8.52it/s]"
          ]
        },
        {
          "output_type": "stream",
          "name": "stdout",
          "text": [
            "                   all         51        216      0.996      0.979      0.995      0.978\n"
          ]
        },
        {
          "output_type": "stream",
          "name": "stderr",
          "text": [
            "\n"
          ]
        },
        {
          "output_type": "stream",
          "name": "stdout",
          "text": [
            "\n",
            "      Epoch    GPU_mem   box_loss   cls_loss   dfl_loss  Instances       Size\n"
          ]
        },
        {
          "output_type": "stream",
          "name": "stderr",
          "text": [
            "    115/200      5.23G     0.8752     0.5725      1.881         28        640: 100%|██████████| 4/4 [00:00<00:00,  7.02it/s]\n",
            "                 Class     Images  Instances      Box(P          R      mAP50  mAP50-95): 100%|██████████| 2/2 [00:00<00:00,  8.06it/s]"
          ]
        },
        {
          "output_type": "stream",
          "name": "stdout",
          "text": [
            "                   all         51        216      0.944      0.985      0.991      0.981\n"
          ]
        },
        {
          "output_type": "stream",
          "name": "stderr",
          "text": [
            "\n"
          ]
        },
        {
          "output_type": "stream",
          "name": "stdout",
          "text": [
            "\n",
            "      Epoch    GPU_mem   box_loss   cls_loss   dfl_loss  Instances       Size\n"
          ]
        },
        {
          "output_type": "stream",
          "name": "stderr",
          "text": [
            "    116/200       5.2G     0.7478     0.5352      1.839         48        640: 100%|██████████| 4/4 [00:00<00:00,  6.46it/s]\n",
            "                 Class     Images  Instances      Box(P          R      mAP50  mAP50-95): 100%|██████████| 2/2 [00:00<00:00,  9.14it/s]"
          ]
        },
        {
          "output_type": "stream",
          "name": "stdout",
          "text": [
            "                   all         51        216      0.978       0.99      0.994      0.985\n"
          ]
        },
        {
          "output_type": "stream",
          "name": "stderr",
          "text": [
            "\n"
          ]
        },
        {
          "output_type": "stream",
          "name": "stdout",
          "text": [
            "\n",
            "      Epoch    GPU_mem   box_loss   cls_loss   dfl_loss  Instances       Size\n"
          ]
        },
        {
          "output_type": "stream",
          "name": "stderr",
          "text": [
            "    117/200      5.21G     0.8053      0.544       1.87         28        640: 100%|██████████| 4/4 [00:00<00:00,  7.05it/s]\n",
            "                 Class     Images  Instances      Box(P          R      mAP50  mAP50-95): 100%|██████████| 2/2 [00:00<00:00,  8.95it/s]"
          ]
        },
        {
          "output_type": "stream",
          "name": "stdout",
          "text": [
            "                   all         51        216      0.987      0.983      0.994      0.985\n"
          ]
        },
        {
          "output_type": "stream",
          "name": "stderr",
          "text": [
            "\n"
          ]
        },
        {
          "output_type": "stream",
          "name": "stdout",
          "text": [
            "\n",
            "      Epoch    GPU_mem   box_loss   cls_loss   dfl_loss  Instances       Size\n"
          ]
        },
        {
          "output_type": "stream",
          "name": "stderr",
          "text": [
            "    118/200       5.2G     0.8627     0.5315      1.882         21        640: 100%|██████████| 4/4 [00:00<00:00,  6.62it/s]\n",
            "                 Class     Images  Instances      Box(P          R      mAP50  mAP50-95): 100%|██████████| 2/2 [00:00<00:00,  9.16it/s]"
          ]
        },
        {
          "output_type": "stream",
          "name": "stdout",
          "text": [
            "                   all         51        216      0.991      0.983      0.995      0.986\n"
          ]
        },
        {
          "output_type": "stream",
          "name": "stderr",
          "text": [
            "\n"
          ]
        },
        {
          "output_type": "stream",
          "name": "stdout",
          "text": [
            "\n",
            "      Epoch    GPU_mem   box_loss   cls_loss   dfl_loss  Instances       Size\n"
          ]
        },
        {
          "output_type": "stream",
          "name": "stderr",
          "text": [
            "    119/200       5.2G     0.9004     0.6932      1.954         27        640: 100%|██████████| 4/4 [00:00<00:00,  6.57it/s]\n",
            "                 Class     Images  Instances      Box(P          R      mAP50  mAP50-95): 100%|██████████| 2/2 [00:00<00:00,  8.59it/s]"
          ]
        },
        {
          "output_type": "stream",
          "name": "stdout",
          "text": [
            "                   all         51        216      0.992      0.975      0.994      0.986\n"
          ]
        },
        {
          "output_type": "stream",
          "name": "stderr",
          "text": [
            "\n"
          ]
        },
        {
          "output_type": "stream",
          "name": "stdout",
          "text": [
            "\n",
            "      Epoch    GPU_mem   box_loss   cls_loss   dfl_loss  Instances       Size\n"
          ]
        },
        {
          "output_type": "stream",
          "name": "stderr",
          "text": [
            "    120/200      5.21G     0.8393     0.5562      1.854         26        640: 100%|██████████| 4/4 [00:00<00:00,  6.97it/s]\n",
            "                 Class     Images  Instances      Box(P          R      mAP50  mAP50-95): 100%|██████████| 2/2 [00:00<00:00,  8.81it/s]"
          ]
        },
        {
          "output_type": "stream",
          "name": "stdout",
          "text": [
            "                   all         51        216      0.998      0.979      0.995      0.985\n"
          ]
        },
        {
          "output_type": "stream",
          "name": "stderr",
          "text": [
            "\n"
          ]
        },
        {
          "output_type": "stream",
          "name": "stdout",
          "text": [
            "\n",
            "      Epoch    GPU_mem   box_loss   cls_loss   dfl_loss  Instances       Size\n"
          ]
        },
        {
          "output_type": "stream",
          "name": "stderr",
          "text": [
            "    121/200      5.23G     0.7532     0.5194      1.876         18        640: 100%|██████████| 4/4 [00:00<00:00,  6.99it/s]\n",
            "                 Class     Images  Instances      Box(P          R      mAP50  mAP50-95): 100%|██████████| 2/2 [00:00<00:00,  9.02it/s]"
          ]
        },
        {
          "output_type": "stream",
          "name": "stdout",
          "text": [
            "                   all         51        216      0.997      0.981      0.994      0.986\n"
          ]
        },
        {
          "output_type": "stream",
          "name": "stderr",
          "text": [
            "\n"
          ]
        },
        {
          "output_type": "stream",
          "name": "stdout",
          "text": [
            "\n",
            "      Epoch    GPU_mem   box_loss   cls_loss   dfl_loss  Instances       Size\n"
          ]
        },
        {
          "output_type": "stream",
          "name": "stderr",
          "text": [
            "    122/200      5.21G     0.8317     0.5515      1.925         17        640: 100%|██████████| 4/4 [00:00<00:00,  7.01it/s]\n",
            "                 Class     Images  Instances      Box(P          R      mAP50  mAP50-95): 100%|██████████| 2/2 [00:00<00:00,  8.80it/s]"
          ]
        },
        {
          "output_type": "stream",
          "name": "stdout",
          "text": [
            "                   all         51        216      0.997      0.941      0.986      0.978\n"
          ]
        },
        {
          "output_type": "stream",
          "name": "stderr",
          "text": [
            "\n"
          ]
        },
        {
          "output_type": "stream",
          "name": "stdout",
          "text": [
            "\n",
            "      Epoch    GPU_mem   box_loss   cls_loss   dfl_loss  Instances       Size\n"
          ]
        },
        {
          "output_type": "stream",
          "name": "stderr",
          "text": [
            "    123/200      5.23G     0.7805     0.5961      1.823         43        640: 100%|██████████| 4/4 [00:00<00:00,  7.01it/s]\n",
            "                 Class     Images  Instances      Box(P          R      mAP50  mAP50-95): 100%|██████████| 2/2 [00:00<00:00,  8.73it/s]"
          ]
        },
        {
          "output_type": "stream",
          "name": "stdout",
          "text": [
            "                   all         51        216      0.948       0.99      0.991       0.98\n"
          ]
        },
        {
          "output_type": "stream",
          "name": "stderr",
          "text": [
            "\n"
          ]
        },
        {
          "output_type": "stream",
          "name": "stdout",
          "text": [
            "\n",
            "      Epoch    GPU_mem   box_loss   cls_loss   dfl_loss  Instances       Size\n"
          ]
        },
        {
          "output_type": "stream",
          "name": "stderr",
          "text": [
            "    124/200      5.21G     0.7644      0.552      1.839         17        640: 100%|██████████| 4/4 [00:00<00:00,  7.13it/s]\n",
            "                 Class     Images  Instances      Box(P          R      mAP50  mAP50-95): 100%|██████████| 2/2 [00:00<00:00,  8.29it/s]"
          ]
        },
        {
          "output_type": "stream",
          "name": "stdout",
          "text": [
            "                   all         51        216      0.943      0.941      0.983      0.972\n"
          ]
        },
        {
          "output_type": "stream",
          "name": "stderr",
          "text": [
            "\n"
          ]
        },
        {
          "output_type": "stream",
          "name": "stdout",
          "text": [
            "\n",
            "      Epoch    GPU_mem   box_loss   cls_loss   dfl_loss  Instances       Size\n"
          ]
        },
        {
          "output_type": "stream",
          "name": "stderr",
          "text": [
            "    125/200       5.2G     0.7196     0.4822      1.795         24        640: 100%|██████████| 4/4 [00:00<00:00,  7.12it/s]\n",
            "                 Class     Images  Instances      Box(P          R      mAP50  mAP50-95): 100%|██████████| 2/2 [00:00<00:00,  8.66it/s]"
          ]
        },
        {
          "output_type": "stream",
          "name": "stdout",
          "text": [
            "                   all         51        216       0.97      0.954      0.995      0.983\n"
          ]
        },
        {
          "output_type": "stream",
          "name": "stderr",
          "text": [
            "\n"
          ]
        },
        {
          "output_type": "stream",
          "name": "stdout",
          "text": [
            "\n",
            "      Epoch    GPU_mem   box_loss   cls_loss   dfl_loss  Instances       Size\n"
          ]
        },
        {
          "output_type": "stream",
          "name": "stderr",
          "text": [
            "    126/200       5.2G     0.7309     0.5292      1.803         30        640: 100%|██████████| 4/4 [00:00<00:00,  6.50it/s]\n",
            "                 Class     Images  Instances      Box(P          R      mAP50  mAP50-95): 100%|██████████| 2/2 [00:00<00:00,  8.74it/s]"
          ]
        },
        {
          "output_type": "stream",
          "name": "stdout",
          "text": [
            "                   all         51        216      0.973      0.991      0.995      0.985\n"
          ]
        },
        {
          "output_type": "stream",
          "name": "stderr",
          "text": [
            "\n"
          ]
        },
        {
          "output_type": "stream",
          "name": "stdout",
          "text": [
            "\n",
            "      Epoch    GPU_mem   box_loss   cls_loss   dfl_loss  Instances       Size\n"
          ]
        },
        {
          "output_type": "stream",
          "name": "stderr",
          "text": [
            "    127/200       5.2G     0.7526     0.5419      1.832         26        640: 100%|██████████| 4/4 [00:00<00:00,  6.81it/s]\n",
            "                 Class     Images  Instances      Box(P          R      mAP50  mAP50-95): 100%|██████████| 2/2 [00:00<00:00,  9.07it/s]"
          ]
        },
        {
          "output_type": "stream",
          "name": "stdout",
          "text": [
            "                   all         51        216      0.924      0.993      0.991      0.982\n"
          ]
        },
        {
          "output_type": "stream",
          "name": "stderr",
          "text": [
            "\n"
          ]
        },
        {
          "output_type": "stream",
          "name": "stdout",
          "text": [
            "\n",
            "      Epoch    GPU_mem   box_loss   cls_loss   dfl_loss  Instances       Size\n"
          ]
        },
        {
          "output_type": "stream",
          "name": "stderr",
          "text": [
            "    128/200       5.2G     0.7354     0.5561      1.861         17        640: 100%|██████████| 4/4 [00:00<00:00,  6.61it/s]\n",
            "                 Class     Images  Instances      Box(P          R      mAP50  mAP50-95): 100%|██████████| 2/2 [00:00<00:00,  8.97it/s]"
          ]
        },
        {
          "output_type": "stream",
          "name": "stdout",
          "text": [
            "                   all         51        216       0.98      0.982      0.994      0.984\n"
          ]
        },
        {
          "output_type": "stream",
          "name": "stderr",
          "text": [
            "\n"
          ]
        },
        {
          "output_type": "stream",
          "name": "stdout",
          "text": [
            "\n",
            "      Epoch    GPU_mem   box_loss   cls_loss   dfl_loss  Instances       Size\n"
          ]
        },
        {
          "output_type": "stream",
          "name": "stderr",
          "text": [
            "    129/200      5.23G     0.7272     0.4685      1.833         24        640: 100%|██████████| 4/4 [00:00<00:00,  6.84it/s]\n",
            "                 Class     Images  Instances      Box(P          R      mAP50  mAP50-95): 100%|██████████| 2/2 [00:00<00:00,  8.83it/s]"
          ]
        },
        {
          "output_type": "stream",
          "name": "stdout",
          "text": [
            "                   all         51        216      0.988      0.985      0.995      0.985\n"
          ]
        },
        {
          "output_type": "stream",
          "name": "stderr",
          "text": [
            "\n"
          ]
        },
        {
          "output_type": "stream",
          "name": "stdout",
          "text": [
            "\n",
            "      Epoch    GPU_mem   box_loss   cls_loss   dfl_loss  Instances       Size\n"
          ]
        },
        {
          "output_type": "stream",
          "name": "stderr",
          "text": [
            "    130/200       5.2G      0.802     0.5503      1.895         25        640: 100%|██████████| 4/4 [00:00<00:00,  6.70it/s]\n",
            "                 Class     Images  Instances      Box(P          R      mAP50  mAP50-95): 100%|██████████| 2/2 [00:00<00:00,  8.25it/s]"
          ]
        },
        {
          "output_type": "stream",
          "name": "stdout",
          "text": [
            "                   all         51        216       0.99      0.978      0.995      0.986\n"
          ]
        },
        {
          "output_type": "stream",
          "name": "stderr",
          "text": [
            "\n"
          ]
        },
        {
          "output_type": "stream",
          "name": "stdout",
          "text": [
            "\n",
            "      Epoch    GPU_mem   box_loss   cls_loss   dfl_loss  Instances       Size\n"
          ]
        },
        {
          "output_type": "stream",
          "name": "stderr",
          "text": [
            "    131/200       5.2G     0.7919     0.5738      1.877         28        640: 100%|██████████| 4/4 [00:00<00:00,  6.93it/s]\n",
            "                 Class     Images  Instances      Box(P          R      mAP50  mAP50-95): 100%|██████████| 2/2 [00:00<00:00,  9.12it/s]"
          ]
        },
        {
          "output_type": "stream",
          "name": "stdout",
          "text": [
            "                   all         51        216          1      0.969      0.994      0.987\n"
          ]
        },
        {
          "output_type": "stream",
          "name": "stderr",
          "text": [
            "\n"
          ]
        },
        {
          "output_type": "stream",
          "name": "stdout",
          "text": [
            "\n",
            "      Epoch    GPU_mem   box_loss   cls_loss   dfl_loss  Instances       Size\n"
          ]
        },
        {
          "output_type": "stream",
          "name": "stderr",
          "text": [
            "    132/200      5.23G     0.7327     0.5078      1.818         27        640: 100%|██████████| 4/4 [00:00<00:00,  7.18it/s]\n",
            "                 Class     Images  Instances      Box(P          R      mAP50  mAP50-95): 100%|██████████| 2/2 [00:00<00:00,  8.38it/s]"
          ]
        },
        {
          "output_type": "stream",
          "name": "stdout",
          "text": [
            "                   all         51        216      0.983      0.966      0.994      0.987\n"
          ]
        },
        {
          "output_type": "stream",
          "name": "stderr",
          "text": [
            "\n"
          ]
        },
        {
          "output_type": "stream",
          "name": "stdout",
          "text": [
            "\n",
            "      Epoch    GPU_mem   box_loss   cls_loss   dfl_loss  Instances       Size\n"
          ]
        },
        {
          "output_type": "stream",
          "name": "stderr",
          "text": [
            "    133/200      5.23G     0.7586     0.5162      1.849         18        640: 100%|██████████| 4/4 [00:00<00:00,  6.92it/s]\n",
            "                 Class     Images  Instances      Box(P          R      mAP50  mAP50-95): 100%|██████████| 2/2 [00:00<00:00,  9.22it/s]"
          ]
        },
        {
          "output_type": "stream",
          "name": "stdout",
          "text": [
            "                   all         51        216          1      0.968      0.995       0.99\n"
          ]
        },
        {
          "output_type": "stream",
          "name": "stderr",
          "text": [
            "\n"
          ]
        },
        {
          "output_type": "stream",
          "name": "stdout",
          "text": [
            "\n",
            "      Epoch    GPU_mem   box_loss   cls_loss   dfl_loss  Instances       Size\n"
          ]
        },
        {
          "output_type": "stream",
          "name": "stderr",
          "text": [
            "    134/200       5.2G     0.7384     0.5246      1.827         17        640: 100%|██████████| 4/4 [00:00<00:00,  6.95it/s]\n",
            "                 Class     Images  Instances      Box(P          R      mAP50  mAP50-95): 100%|██████████| 2/2 [00:00<00:00,  8.40it/s]"
          ]
        },
        {
          "output_type": "stream",
          "name": "stdout",
          "text": [
            "                   all         51        216      0.947       0.98      0.989      0.986\n"
          ]
        },
        {
          "output_type": "stream",
          "name": "stderr",
          "text": [
            "\n"
          ]
        },
        {
          "output_type": "stream",
          "name": "stdout",
          "text": [
            "\n",
            "      Epoch    GPU_mem   box_loss   cls_loss   dfl_loss  Instances       Size\n"
          ]
        },
        {
          "output_type": "stream",
          "name": "stderr",
          "text": [
            "    135/200       5.2G     0.7063     0.5039      1.818         23        640: 100%|██████████| 4/4 [00:00<00:00,  6.86it/s]\n",
            "                 Class     Images  Instances      Box(P          R      mAP50  mAP50-95): 100%|██████████| 2/2 [00:00<00:00,  8.80it/s]"
          ]
        },
        {
          "output_type": "stream",
          "name": "stdout",
          "text": [
            "                   all         51        216      0.954      0.964      0.989      0.985\n"
          ]
        },
        {
          "output_type": "stream",
          "name": "stderr",
          "text": [
            "\n"
          ]
        },
        {
          "output_type": "stream",
          "name": "stdout",
          "text": [
            "\n",
            "      Epoch    GPU_mem   box_loss   cls_loss   dfl_loss  Instances       Size\n"
          ]
        },
        {
          "output_type": "stream",
          "name": "stderr",
          "text": [
            "    136/200       5.2G     0.8514     0.6216      1.833         45        640: 100%|██████████| 4/4 [00:00<00:00,  6.96it/s]\n",
            "                 Class     Images  Instances      Box(P          R      mAP50  mAP50-95): 100%|██████████| 2/2 [00:00<00:00,  8.84it/s]"
          ]
        },
        {
          "output_type": "stream",
          "name": "stdout",
          "text": [
            "                   all         51        216      0.957      0.956      0.995      0.992\n"
          ]
        },
        {
          "output_type": "stream",
          "name": "stderr",
          "text": [
            "\n"
          ]
        },
        {
          "output_type": "stream",
          "name": "stdout",
          "text": [
            "\n",
            "      Epoch    GPU_mem   box_loss   cls_loss   dfl_loss  Instances       Size\n"
          ]
        },
        {
          "output_type": "stream",
          "name": "stderr",
          "text": [
            "    137/200       5.2G     0.7731     0.4899      1.912         24        640: 100%|██████████| 4/4 [00:00<00:00,  6.61it/s]\n",
            "                 Class     Images  Instances      Box(P          R      mAP50  mAP50-95): 100%|██████████| 2/2 [00:00<00:00,  8.49it/s]"
          ]
        },
        {
          "output_type": "stream",
          "name": "stdout",
          "text": [
            "                   all         51        216       0.95      0.957      0.992      0.988\n"
          ]
        },
        {
          "output_type": "stream",
          "name": "stderr",
          "text": [
            "\n"
          ]
        },
        {
          "output_type": "stream",
          "name": "stdout",
          "text": [
            "\n",
            "      Epoch    GPU_mem   box_loss   cls_loss   dfl_loss  Instances       Size\n"
          ]
        },
        {
          "output_type": "stream",
          "name": "stderr",
          "text": [
            "    138/200       5.2G     0.7209     0.5343      1.844         32        640: 100%|██████████| 4/4 [00:00<00:00,  6.71it/s]\n",
            "                 Class     Images  Instances      Box(P          R      mAP50  mAP50-95): 100%|██████████| 2/2 [00:00<00:00,  8.70it/s]"
          ]
        },
        {
          "output_type": "stream",
          "name": "stdout",
          "text": [
            "                   all         51        216      0.979      0.967      0.995      0.991\n"
          ]
        },
        {
          "output_type": "stream",
          "name": "stderr",
          "text": [
            "\n"
          ]
        },
        {
          "output_type": "stream",
          "name": "stdout",
          "text": [
            "\n",
            "      Epoch    GPU_mem   box_loss   cls_loss   dfl_loss  Instances       Size\n"
          ]
        },
        {
          "output_type": "stream",
          "name": "stderr",
          "text": [
            "    139/200       5.2G      0.821     0.6096      1.926         23        640: 100%|██████████| 4/4 [00:00<00:00,  6.82it/s]\n",
            "                 Class     Images  Instances      Box(P          R      mAP50  mAP50-95): 100%|██████████| 2/2 [00:00<00:00,  8.20it/s]"
          ]
        },
        {
          "output_type": "stream",
          "name": "stdout",
          "text": [
            "                   all         51        216       0.99      0.975      0.995      0.992\n"
          ]
        },
        {
          "output_type": "stream",
          "name": "stderr",
          "text": [
            "\n"
          ]
        },
        {
          "output_type": "stream",
          "name": "stdout",
          "text": [
            "\n",
            "      Epoch    GPU_mem   box_loss   cls_loss   dfl_loss  Instances       Size\n"
          ]
        },
        {
          "output_type": "stream",
          "name": "stderr",
          "text": [
            "    140/200       5.2G     0.7643     0.5461      1.858         25        640: 100%|██████████| 4/4 [00:00<00:00,  6.97it/s]\n",
            "                 Class     Images  Instances      Box(P          R      mAP50  mAP50-95): 100%|██████████| 2/2 [00:00<00:00,  9.11it/s]"
          ]
        },
        {
          "output_type": "stream",
          "name": "stdout",
          "text": [
            "                   all         51        216       0.96      0.957      0.992      0.988\n"
          ]
        },
        {
          "output_type": "stream",
          "name": "stderr",
          "text": [
            "\n"
          ]
        },
        {
          "output_type": "stream",
          "name": "stdout",
          "text": [
            "\n",
            "      Epoch    GPU_mem   box_loss   cls_loss   dfl_loss  Instances       Size\n"
          ]
        },
        {
          "output_type": "stream",
          "name": "stderr",
          "text": [
            "    141/200      5.21G     0.7292      0.505      1.841         31        640: 100%|██████████| 4/4 [00:00<00:00,  7.16it/s]\n",
            "                 Class     Images  Instances      Box(P          R      mAP50  mAP50-95): 100%|██████████| 2/2 [00:00<00:00,  9.07it/s]"
          ]
        },
        {
          "output_type": "stream",
          "name": "stdout",
          "text": [
            "                   all         51        216      0.954      0.997      0.985      0.983\n"
          ]
        },
        {
          "output_type": "stream",
          "name": "stderr",
          "text": [
            "\n"
          ]
        },
        {
          "output_type": "stream",
          "name": "stdout",
          "text": [
            "\n",
            "      Epoch    GPU_mem   box_loss   cls_loss   dfl_loss  Instances       Size\n"
          ]
        },
        {
          "output_type": "stream",
          "name": "stderr",
          "text": [
            "    142/200      5.23G     0.7721     0.5111      1.872         37        640: 100%|██████████| 4/4 [00:00<00:00,  6.94it/s]\n",
            "                 Class     Images  Instances      Box(P          R      mAP50  mAP50-95): 100%|██████████| 2/2 [00:00<00:00,  9.00it/s]"
          ]
        },
        {
          "output_type": "stream",
          "name": "stdout",
          "text": [
            "                   all         51        216      0.952      0.993      0.979      0.976\n"
          ]
        },
        {
          "output_type": "stream",
          "name": "stderr",
          "text": [
            "\n"
          ]
        },
        {
          "output_type": "stream",
          "name": "stdout",
          "text": [
            "\n",
            "      Epoch    GPU_mem   box_loss   cls_loss   dfl_loss  Instances       Size\n"
          ]
        },
        {
          "output_type": "stream",
          "name": "stderr",
          "text": [
            "    143/200       5.2G     0.6621     0.4297      1.777         26        640: 100%|██████████| 4/4 [00:00<00:00,  6.95it/s]\n",
            "                 Class     Images  Instances      Box(P          R      mAP50  mAP50-95): 100%|██████████| 2/2 [00:00<00:00,  8.29it/s]"
          ]
        },
        {
          "output_type": "stream",
          "name": "stdout",
          "text": [
            "                   all         51        216       0.91      0.991      0.975      0.972\n"
          ]
        },
        {
          "output_type": "stream",
          "name": "stderr",
          "text": [
            "\n"
          ]
        },
        {
          "output_type": "stream",
          "name": "stdout",
          "text": [
            "\n",
            "      Epoch    GPU_mem   box_loss   cls_loss   dfl_loss  Instances       Size\n"
          ]
        },
        {
          "output_type": "stream",
          "name": "stderr",
          "text": [
            "    144/200       5.2G     0.7926     0.5776      1.845         45        640: 100%|██████████| 4/4 [00:00<00:00,  6.67it/s]\n",
            "                 Class     Images  Instances      Box(P          R      mAP50  mAP50-95): 100%|██████████| 2/2 [00:00<00:00,  9.03it/s]"
          ]
        },
        {
          "output_type": "stream",
          "name": "stdout",
          "text": [
            "                   all         51        216      0.934      0.994      0.982      0.977\n"
          ]
        },
        {
          "output_type": "stream",
          "name": "stderr",
          "text": [
            "\n"
          ]
        },
        {
          "output_type": "stream",
          "name": "stdout",
          "text": [
            "\n",
            "      Epoch    GPU_mem   box_loss   cls_loss   dfl_loss  Instances       Size\n"
          ]
        },
        {
          "output_type": "stream",
          "name": "stderr",
          "text": [
            "    145/200       5.2G     0.7771     0.6825      1.855         26        640: 100%|██████████| 4/4 [00:00<00:00,  6.77it/s]\n",
            "                 Class     Images  Instances      Box(P          R      mAP50  mAP50-95): 100%|██████████| 2/2 [00:00<00:00,  9.08it/s]"
          ]
        },
        {
          "output_type": "stream",
          "name": "stdout",
          "text": [
            "                   all         51        216      0.987      0.946      0.989      0.985\n"
          ]
        },
        {
          "output_type": "stream",
          "name": "stderr",
          "text": [
            "\n"
          ]
        },
        {
          "output_type": "stream",
          "name": "stdout",
          "text": [
            "\n",
            "      Epoch    GPU_mem   box_loss   cls_loss   dfl_loss  Instances       Size\n"
          ]
        },
        {
          "output_type": "stream",
          "name": "stderr",
          "text": [
            "    146/200       5.2G     0.7217     0.4709      1.861         28        640: 100%|██████████| 4/4 [00:00<00:00,  6.67it/s]\n",
            "                 Class     Images  Instances      Box(P          R      mAP50  mAP50-95): 100%|██████████| 2/2 [00:00<00:00,  9.06it/s]"
          ]
        },
        {
          "output_type": "stream",
          "name": "stdout",
          "text": [
            "                   all         51        216      0.975      0.951      0.995      0.992\n"
          ]
        },
        {
          "output_type": "stream",
          "name": "stderr",
          "text": [
            "\n"
          ]
        },
        {
          "output_type": "stream",
          "name": "stdout",
          "text": [
            "\n",
            "      Epoch    GPU_mem   box_loss   cls_loss   dfl_loss  Instances       Size\n"
          ]
        },
        {
          "output_type": "stream",
          "name": "stderr",
          "text": [
            "    147/200      5.23G     0.7736     0.5147      1.899         17        640: 100%|██████████| 4/4 [00:00<00:00,  6.62it/s]\n",
            "                 Class     Images  Instances      Box(P          R      mAP50  mAP50-95): 100%|██████████| 2/2 [00:00<00:00,  9.07it/s]"
          ]
        },
        {
          "output_type": "stream",
          "name": "stdout",
          "text": [
            "                   all         51        216      0.972      0.991      0.995      0.992\n"
          ]
        },
        {
          "output_type": "stream",
          "name": "stderr",
          "text": [
            "\n"
          ]
        },
        {
          "output_type": "stream",
          "name": "stdout",
          "text": [
            "\n",
            "      Epoch    GPU_mem   box_loss   cls_loss   dfl_loss  Instances       Size\n"
          ]
        },
        {
          "output_type": "stream",
          "name": "stderr",
          "text": [
            "    148/200       5.2G      0.625     0.4379      1.758         30        640: 100%|██████████| 4/4 [00:00<00:00,  7.09it/s]\n",
            "                 Class     Images  Instances      Box(P          R      mAP50  mAP50-95): 100%|██████████| 2/2 [00:00<00:00,  9.12it/s]"
          ]
        },
        {
          "output_type": "stream",
          "name": "stdout",
          "text": [
            "                   all         51        216      0.977      0.986      0.994      0.992\n"
          ]
        },
        {
          "output_type": "stream",
          "name": "stderr",
          "text": [
            "\n"
          ]
        },
        {
          "output_type": "stream",
          "name": "stdout",
          "text": [
            "\n",
            "      Epoch    GPU_mem   box_loss   cls_loss   dfl_loss  Instances       Size\n"
          ]
        },
        {
          "output_type": "stream",
          "name": "stderr",
          "text": [
            "    149/200       5.2G     0.7378     0.4953      1.874         24        640: 100%|██████████| 4/4 [00:00<00:00,  6.84it/s]\n",
            "                 Class     Images  Instances      Box(P          R      mAP50  mAP50-95): 100%|██████████| 2/2 [00:00<00:00,  7.91it/s]"
          ]
        },
        {
          "output_type": "stream",
          "name": "stdout",
          "text": [
            "                   all         51        216       0.98      0.987      0.994      0.993\n"
          ]
        },
        {
          "output_type": "stream",
          "name": "stderr",
          "text": [
            "\n"
          ]
        },
        {
          "output_type": "stream",
          "name": "stdout",
          "text": [
            "\n",
            "      Epoch    GPU_mem   box_loss   cls_loss   dfl_loss  Instances       Size\n"
          ]
        },
        {
          "output_type": "stream",
          "name": "stderr",
          "text": [
            "    150/200      5.21G     0.7895     0.5054      1.934         27        640: 100%|██████████| 4/4 [00:00<00:00,  7.17it/s]\n",
            "                 Class     Images  Instances      Box(P          R      mAP50  mAP50-95): 100%|██████████| 2/2 [00:00<00:00,  9.10it/s]"
          ]
        },
        {
          "output_type": "stream",
          "name": "stdout",
          "text": [
            "                   all         51        216       0.99      0.996      0.995      0.993\n"
          ]
        },
        {
          "output_type": "stream",
          "name": "stderr",
          "text": [
            "\n"
          ]
        },
        {
          "output_type": "stream",
          "name": "stdout",
          "text": [
            "\n",
            "      Epoch    GPU_mem   box_loss   cls_loss   dfl_loss  Instances       Size\n"
          ]
        },
        {
          "output_type": "stream",
          "name": "stderr",
          "text": [
            "    151/200       5.2G     0.6971     0.4728      1.802         32        640: 100%|██████████| 4/4 [00:00<00:00,  6.63it/s]\n",
            "                 Class     Images  Instances      Box(P          R      mAP50  mAP50-95): 100%|██████████| 2/2 [00:00<00:00,  9.04it/s]"
          ]
        },
        {
          "output_type": "stream",
          "name": "stdout",
          "text": [
            "                   all         51        216       0.98      0.995      0.995      0.993\n"
          ]
        },
        {
          "output_type": "stream",
          "name": "stderr",
          "text": [
            "\n"
          ]
        },
        {
          "output_type": "stream",
          "name": "stdout",
          "text": [
            "\n",
            "      Epoch    GPU_mem   box_loss   cls_loss   dfl_loss  Instances       Size\n"
          ]
        },
        {
          "output_type": "stream",
          "name": "stderr",
          "text": [
            "    152/200       5.2G     0.6743     0.4545      1.808         27        640: 100%|██████████| 4/4 [00:00<00:00,  7.07it/s]\n",
            "                 Class     Images  Instances      Box(P          R      mAP50  mAP50-95): 100%|██████████| 2/2 [00:00<00:00,  9.05it/s]"
          ]
        },
        {
          "output_type": "stream",
          "name": "stdout",
          "text": [
            "                   all         51        216      0.986      0.983      0.994      0.992\n"
          ]
        },
        {
          "output_type": "stream",
          "name": "stderr",
          "text": [
            "\n"
          ]
        },
        {
          "output_type": "stream",
          "name": "stdout",
          "text": [
            "\n",
            "      Epoch    GPU_mem   box_loss   cls_loss   dfl_loss  Instances       Size\n"
          ]
        },
        {
          "output_type": "stream",
          "name": "stderr",
          "text": [
            "    153/200       5.2G     0.6951     0.4563      1.828         32        640: 100%|██████████| 4/4 [00:00<00:00,  6.77it/s]\n",
            "                 Class     Images  Instances      Box(P          R      mAP50  mAP50-95): 100%|██████████| 2/2 [00:00<00:00,  9.01it/s]"
          ]
        },
        {
          "output_type": "stream",
          "name": "stdout",
          "text": [
            "                   all         51        216       0.99      0.985      0.995      0.993\n"
          ]
        },
        {
          "output_type": "stream",
          "name": "stderr",
          "text": [
            "\n"
          ]
        },
        {
          "output_type": "stream",
          "name": "stdout",
          "text": [
            "\n",
            "      Epoch    GPU_mem   box_loss   cls_loss   dfl_loss  Instances       Size\n"
          ]
        },
        {
          "output_type": "stream",
          "name": "stderr",
          "text": [
            "    154/200       5.2G     0.6702     0.4477      1.771         42        640: 100%|██████████| 4/4 [00:00<00:00,  6.98it/s]\n",
            "                 Class     Images  Instances      Box(P          R      mAP50  mAP50-95): 100%|██████████| 2/2 [00:00<00:00,  8.23it/s]"
          ]
        },
        {
          "output_type": "stream",
          "name": "stdout",
          "text": [
            "                   all         51        216      0.992      0.988      0.995      0.992\n"
          ]
        },
        {
          "output_type": "stream",
          "name": "stderr",
          "text": [
            "\n"
          ]
        },
        {
          "output_type": "stream",
          "name": "stdout",
          "text": [
            "\n",
            "      Epoch    GPU_mem   box_loss   cls_loss   dfl_loss  Instances       Size\n"
          ]
        },
        {
          "output_type": "stream",
          "name": "stderr",
          "text": [
            "    155/200       5.2G     0.6336     0.4222      1.789         30        640: 100%|██████████| 4/4 [00:00<00:00,  6.54it/s]\n",
            "                 Class     Images  Instances      Box(P          R      mAP50  mAP50-95): 100%|██████████| 2/2 [00:00<00:00,  9.24it/s]"
          ]
        },
        {
          "output_type": "stream",
          "name": "stdout",
          "text": [
            "                   all         51        216      0.953      0.982      0.985      0.982\n"
          ]
        },
        {
          "output_type": "stream",
          "name": "stderr",
          "text": [
            "\n"
          ]
        },
        {
          "output_type": "stream",
          "name": "stdout",
          "text": [
            "\n",
            "      Epoch    GPU_mem   box_loss   cls_loss   dfl_loss  Instances       Size\n"
          ]
        },
        {
          "output_type": "stream",
          "name": "stderr",
          "text": [
            "    156/200      5.23G     0.6632     0.4358       1.82         21        640: 100%|██████████| 4/4 [00:00<00:00,  6.43it/s]\n",
            "                 Class     Images  Instances      Box(P          R      mAP50  mAP50-95): 100%|██████████| 2/2 [00:00<00:00,  9.02it/s]"
          ]
        },
        {
          "output_type": "stream",
          "name": "stdout",
          "text": [
            "                   all         51        216      0.946      0.983      0.988      0.985\n"
          ]
        },
        {
          "output_type": "stream",
          "name": "stderr",
          "text": [
            "\n"
          ]
        },
        {
          "output_type": "stream",
          "name": "stdout",
          "text": [
            "\n",
            "      Epoch    GPU_mem   box_loss   cls_loss   dfl_loss  Instances       Size\n"
          ]
        },
        {
          "output_type": "stream",
          "name": "stderr",
          "text": [
            "    157/200      5.23G     0.7023     0.4386      1.867         13        640: 100%|██████████| 4/4 [00:00<00:00,  6.92it/s]\n",
            "                 Class     Images  Instances      Box(P          R      mAP50  mAP50-95): 100%|██████████| 2/2 [00:00<00:00,  8.88it/s]"
          ]
        },
        {
          "output_type": "stream",
          "name": "stdout",
          "text": [
            "                   all         51        216      0.953      0.978      0.991      0.987\n"
          ]
        },
        {
          "output_type": "stream",
          "name": "stderr",
          "text": [
            "\n"
          ]
        },
        {
          "output_type": "stream",
          "name": "stdout",
          "text": [
            "\n",
            "      Epoch    GPU_mem   box_loss   cls_loss   dfl_loss  Instances       Size\n"
          ]
        },
        {
          "output_type": "stream",
          "name": "stderr",
          "text": [
            "    158/200      5.21G     0.6217     0.4139      1.761         18        640: 100%|██████████| 4/4 [00:00<00:00,  6.77it/s]\n",
            "                 Class     Images  Instances      Box(P          R      mAP50  mAP50-95): 100%|██████████| 2/2 [00:00<00:00,  9.10it/s]"
          ]
        },
        {
          "output_type": "stream",
          "name": "stdout",
          "text": [
            "                   all         51        216      0.959      0.982      0.992      0.988\n"
          ]
        },
        {
          "output_type": "stream",
          "name": "stderr",
          "text": [
            "\n"
          ]
        },
        {
          "output_type": "stream",
          "name": "stdout",
          "text": [
            "\n",
            "      Epoch    GPU_mem   box_loss   cls_loss   dfl_loss  Instances       Size\n"
          ]
        },
        {
          "output_type": "stream",
          "name": "stderr",
          "text": [
            "    159/200      5.23G     0.6505     0.4514      1.781         33        640: 100%|██████████| 4/4 [00:00<00:00,  7.00it/s]\n",
            "                 Class     Images  Instances      Box(P          R      mAP50  mAP50-95): 100%|██████████| 2/2 [00:00<00:00,  9.22it/s]"
          ]
        },
        {
          "output_type": "stream",
          "name": "stdout",
          "text": [
            "                   all         51        216      0.958      0.986      0.992      0.989\n"
          ]
        },
        {
          "output_type": "stream",
          "name": "stderr",
          "text": [
            "\n"
          ]
        },
        {
          "output_type": "stream",
          "name": "stdout",
          "text": [
            "\n",
            "      Epoch    GPU_mem   box_loss   cls_loss   dfl_loss  Instances       Size\n"
          ]
        },
        {
          "output_type": "stream",
          "name": "stderr",
          "text": [
            "    160/200       5.2G     0.6322     0.4209      1.771         21        640: 100%|██████████| 4/4 [00:00<00:00,  7.06it/s]\n",
            "                 Class     Images  Instances      Box(P          R      mAP50  mAP50-95): 100%|██████████| 2/2 [00:00<00:00,  8.84it/s]"
          ]
        },
        {
          "output_type": "stream",
          "name": "stdout",
          "text": [
            "                   all         51        216       0.96      0.987      0.985      0.982\n"
          ]
        },
        {
          "output_type": "stream",
          "name": "stderr",
          "text": [
            "\n"
          ]
        },
        {
          "output_type": "stream",
          "name": "stdout",
          "text": [
            "\n",
            "      Epoch    GPU_mem   box_loss   cls_loss   dfl_loss  Instances       Size\n"
          ]
        },
        {
          "output_type": "stream",
          "name": "stderr",
          "text": [
            "    161/200       5.2G      0.711     0.5492      1.802         31        640: 100%|██████████| 4/4 [00:00<00:00,  7.12it/s]\n",
            "                 Class     Images  Instances      Box(P          R      mAP50  mAP50-95): 100%|██████████| 2/2 [00:00<00:00,  8.57it/s]"
          ]
        },
        {
          "output_type": "stream",
          "name": "stdout",
          "text": [
            "                   all         51        216      0.956      0.985      0.989      0.986\n"
          ]
        },
        {
          "output_type": "stream",
          "name": "stderr",
          "text": [
            "\n"
          ]
        },
        {
          "output_type": "stream",
          "name": "stdout",
          "text": [
            "\n",
            "      Epoch    GPU_mem   box_loss   cls_loss   dfl_loss  Instances       Size\n"
          ]
        },
        {
          "output_type": "stream",
          "name": "stderr",
          "text": [
            "    162/200       5.2G     0.6327     0.4602      1.823         25        640: 100%|██████████| 4/4 [00:00<00:00,  7.02it/s]\n",
            "                 Class     Images  Instances      Box(P          R      mAP50  mAP50-95): 100%|██████████| 2/2 [00:00<00:00,  8.64it/s]"
          ]
        },
        {
          "output_type": "stream",
          "name": "stdout",
          "text": [
            "                   all         51        216      0.958      0.991      0.989      0.986\n"
          ]
        },
        {
          "output_type": "stream",
          "name": "stderr",
          "text": [
            "\n"
          ]
        },
        {
          "output_type": "stream",
          "name": "stdout",
          "text": [
            "\n",
            "      Epoch    GPU_mem   box_loss   cls_loss   dfl_loss  Instances       Size\n"
          ]
        },
        {
          "output_type": "stream",
          "name": "stderr",
          "text": [
            "    163/200      5.21G     0.6139     0.4124      1.829         28        640: 100%|██████████| 4/4 [00:00<00:00,  7.06it/s]\n",
            "                 Class     Images  Instances      Box(P          R      mAP50  mAP50-95): 100%|██████████| 2/2 [00:00<00:00,  8.94it/s]"
          ]
        },
        {
          "output_type": "stream",
          "name": "stdout",
          "text": [
            "                   all         51        216      0.951      0.935      0.983       0.98\n"
          ]
        },
        {
          "output_type": "stream",
          "name": "stderr",
          "text": [
            "\n"
          ]
        },
        {
          "output_type": "stream",
          "name": "stdout",
          "text": [
            "\n",
            "      Epoch    GPU_mem   box_loss   cls_loss   dfl_loss  Instances       Size\n"
          ]
        },
        {
          "output_type": "stream",
          "name": "stderr",
          "text": [
            "    164/200       5.2G     0.6526      0.468      1.853         33        640: 100%|██████████| 4/4 [00:00<00:00,  6.74it/s]\n",
            "                 Class     Images  Instances      Box(P          R      mAP50  mAP50-95): 100%|██████████| 2/2 [00:00<00:00,  8.56it/s]"
          ]
        },
        {
          "output_type": "stream",
          "name": "stdout",
          "text": [
            "                   all         51        216      0.916      0.993      0.979      0.976\n"
          ]
        },
        {
          "output_type": "stream",
          "name": "stderr",
          "text": [
            "\n"
          ]
        },
        {
          "output_type": "stream",
          "name": "stdout",
          "text": [
            "\n",
            "      Epoch    GPU_mem   box_loss   cls_loss   dfl_loss  Instances       Size\n"
          ]
        },
        {
          "output_type": "stream",
          "name": "stderr",
          "text": [
            "    165/200       5.2G     0.6589     0.4615      1.842         34        640: 100%|██████████| 4/4 [00:00<00:00,  6.69it/s]\n",
            "                 Class     Images  Instances      Box(P          R      mAP50  mAP50-95): 100%|██████████| 2/2 [00:00<00:00,  8.64it/s]"
          ]
        },
        {
          "output_type": "stream",
          "name": "stdout",
          "text": [
            "                   all         51        216      0.887      0.987      0.981      0.978\n"
          ]
        },
        {
          "output_type": "stream",
          "name": "stderr",
          "text": [
            "\n"
          ]
        },
        {
          "output_type": "stream",
          "name": "stdout",
          "text": [
            "\n",
            "      Epoch    GPU_mem   box_loss   cls_loss   dfl_loss  Instances       Size\n"
          ]
        },
        {
          "output_type": "stream",
          "name": "stderr",
          "text": [
            "    166/200       5.2G     0.6635     0.4627      1.784         22        640: 100%|██████████| 4/4 [00:00<00:00,  6.44it/s]\n",
            "                 Class     Images  Instances      Box(P          R      mAP50  mAP50-95): 100%|██████████| 2/2 [00:00<00:00,  8.92it/s]"
          ]
        },
        {
          "output_type": "stream",
          "name": "stdout",
          "text": [
            "                   all         51        216      0.995      0.942      0.989      0.987\n"
          ]
        },
        {
          "output_type": "stream",
          "name": "stderr",
          "text": [
            "\n"
          ]
        },
        {
          "output_type": "stream",
          "name": "stdout",
          "text": [
            "\n",
            "      Epoch    GPU_mem   box_loss   cls_loss   dfl_loss  Instances       Size\n"
          ]
        },
        {
          "output_type": "stream",
          "name": "stderr",
          "text": [
            "    167/200       5.2G     0.6908     0.4765      1.835         26        640: 100%|██████████| 4/4 [00:00<00:00,  7.05it/s]\n",
            "                 Class     Images  Instances      Box(P          R      mAP50  mAP50-95): 100%|██████████| 2/2 [00:00<00:00,  9.03it/s]"
          ]
        },
        {
          "output_type": "stream",
          "name": "stdout",
          "text": [
            "                   all         51        216      0.951       0.99      0.988      0.987\n"
          ]
        },
        {
          "output_type": "stream",
          "name": "stderr",
          "text": [
            "\n"
          ]
        },
        {
          "output_type": "stream",
          "name": "stdout",
          "text": [
            "\n",
            "      Epoch    GPU_mem   box_loss   cls_loss   dfl_loss  Instances       Size\n"
          ]
        },
        {
          "output_type": "stream",
          "name": "stderr",
          "text": [
            "    168/200      5.21G     0.6813     0.4563      1.849         39        640: 100%|██████████| 4/4 [00:00<00:00,  7.01it/s]\n",
            "                 Class     Images  Instances      Box(P          R      mAP50  mAP50-95): 100%|██████████| 2/2 [00:00<00:00,  8.99it/s]"
          ]
        },
        {
          "output_type": "stream",
          "name": "stdout",
          "text": [
            "                   all         51        216      0.987      0.995      0.995      0.994\n"
          ]
        },
        {
          "output_type": "stream",
          "name": "stderr",
          "text": [
            "\n"
          ]
        },
        {
          "output_type": "stream",
          "name": "stdout",
          "text": [
            "\n",
            "      Epoch    GPU_mem   box_loss   cls_loss   dfl_loss  Instances       Size\n"
          ]
        },
        {
          "output_type": "stream",
          "name": "stderr",
          "text": [
            "    169/200      5.21G     0.6796     0.4735      1.838         21        640: 100%|██████████| 4/4 [00:00<00:00,  6.85it/s]\n",
            "                 Class     Images  Instances      Box(P          R      mAP50  mAP50-95): 100%|██████████| 2/2 [00:00<00:00,  9.07it/s]"
          ]
        },
        {
          "output_type": "stream",
          "name": "stdout",
          "text": [
            "                   all         51        216      0.994      0.987      0.995      0.994\n"
          ]
        },
        {
          "output_type": "stream",
          "name": "stderr",
          "text": [
            "\n"
          ]
        },
        {
          "output_type": "stream",
          "name": "stdout",
          "text": [
            "\n",
            "      Epoch    GPU_mem   box_loss   cls_loss   dfl_loss  Instances       Size\n"
          ]
        },
        {
          "output_type": "stream",
          "name": "stderr",
          "text": [
            "    170/200      5.23G      0.652     0.4094       1.79         30        640: 100%|██████████| 4/4 [00:00<00:00,  6.78it/s]\n",
            "                 Class     Images  Instances      Box(P          R      mAP50  mAP50-95): 100%|██████████| 2/2 [00:00<00:00,  9.03it/s]"
          ]
        },
        {
          "output_type": "stream",
          "name": "stdout",
          "text": [
            "                   all         51        216      0.992      0.995      0.995      0.994\n"
          ]
        },
        {
          "output_type": "stream",
          "name": "stderr",
          "text": [
            "\n"
          ]
        },
        {
          "output_type": "stream",
          "name": "stdout",
          "text": [
            "\n",
            "      Epoch    GPU_mem   box_loss   cls_loss   dfl_loss  Instances       Size\n"
          ]
        },
        {
          "output_type": "stream",
          "name": "stderr",
          "text": [
            "    171/200      5.23G      0.605     0.4007      1.777         36        640: 100%|██████████| 4/4 [00:00<00:00,  7.16it/s]\n",
            "                 Class     Images  Instances      Box(P          R      mAP50  mAP50-95): 100%|██████████| 2/2 [00:00<00:00,  8.92it/s]"
          ]
        },
        {
          "output_type": "stream",
          "name": "stdout",
          "text": [
            "                   all         51        216      0.989      0.993      0.995      0.993\n"
          ]
        },
        {
          "output_type": "stream",
          "name": "stderr",
          "text": [
            "\n"
          ]
        },
        {
          "output_type": "stream",
          "name": "stdout",
          "text": [
            "\n",
            "      Epoch    GPU_mem   box_loss   cls_loss   dfl_loss  Instances       Size\n"
          ]
        },
        {
          "output_type": "stream",
          "name": "stderr",
          "text": [
            "    172/200       5.2G     0.7835     0.5091      1.877         34        640: 100%|██████████| 4/4 [00:00<00:00,  7.07it/s]\n",
            "                 Class     Images  Instances      Box(P          R      mAP50  mAP50-95): 100%|██████████| 2/2 [00:00<00:00,  8.31it/s]"
          ]
        },
        {
          "output_type": "stream",
          "name": "stdout",
          "text": [
            "                   all         51        216      0.984      0.982      0.995      0.993\n"
          ]
        },
        {
          "output_type": "stream",
          "name": "stderr",
          "text": [
            "\n"
          ]
        },
        {
          "output_type": "stream",
          "name": "stdout",
          "text": [
            "\n",
            "      Epoch    GPU_mem   box_loss   cls_loss   dfl_loss  Instances       Size\n"
          ]
        },
        {
          "output_type": "stream",
          "name": "stderr",
          "text": [
            "    173/200       5.2G     0.5891     0.4264      1.776         19        640: 100%|██████████| 4/4 [00:00<00:00,  6.73it/s]\n",
            "                 Class     Images  Instances      Box(P          R      mAP50  mAP50-95): 100%|██████████| 2/2 [00:00<00:00,  8.06it/s]"
          ]
        },
        {
          "output_type": "stream",
          "name": "stdout",
          "text": [
            "                   all         51        216      0.993      0.948      0.992      0.989\n"
          ]
        },
        {
          "output_type": "stream",
          "name": "stderr",
          "text": [
            "\n"
          ]
        },
        {
          "output_type": "stream",
          "name": "stdout",
          "text": [
            "\n",
            "      Epoch    GPU_mem   box_loss   cls_loss   dfl_loss  Instances       Size\n"
          ]
        },
        {
          "output_type": "stream",
          "name": "stderr",
          "text": [
            "    174/200       5.2G     0.5629      0.389      1.733         29        640: 100%|██████████| 4/4 [00:00<00:00,  6.92it/s]\n",
            "                 Class     Images  Instances      Box(P          R      mAP50  mAP50-95): 100%|██████████| 2/2 [00:00<00:00,  8.94it/s]"
          ]
        },
        {
          "output_type": "stream",
          "name": "stdout",
          "text": [
            "                   all         51        216      0.992      0.986      0.995      0.992\n"
          ]
        },
        {
          "output_type": "stream",
          "name": "stderr",
          "text": [
            "\n"
          ]
        },
        {
          "output_type": "stream",
          "name": "stdout",
          "text": [
            "\n",
            "      Epoch    GPU_mem   box_loss   cls_loss   dfl_loss  Instances       Size\n"
          ]
        },
        {
          "output_type": "stream",
          "name": "stderr",
          "text": [
            "    175/200      5.23G     0.5591     0.3712      1.716         19        640: 100%|██████████| 4/4 [00:00<00:00,  6.95it/s]\n",
            "                 Class     Images  Instances      Box(P          R      mAP50  mAP50-95): 100%|██████████| 2/2 [00:00<00:00,  9.27it/s]"
          ]
        },
        {
          "output_type": "stream",
          "name": "stdout",
          "text": [
            "                   all         51        216      0.992      0.995      0.995      0.992\n"
          ]
        },
        {
          "output_type": "stream",
          "name": "stderr",
          "text": [
            "\n"
          ]
        },
        {
          "output_type": "stream",
          "name": "stdout",
          "text": [
            "\n",
            "      Epoch    GPU_mem   box_loss   cls_loss   dfl_loss  Instances       Size\n"
          ]
        },
        {
          "output_type": "stream",
          "name": "stderr",
          "text": [
            "    176/200       5.2G     0.6339     0.4071      1.813         20        640: 100%|██████████| 4/4 [00:00<00:00,  6.93it/s]\n",
            "                 Class     Images  Instances      Box(P          R      mAP50  mAP50-95): 100%|██████████| 2/2 [00:00<00:00,  9.00it/s]"
          ]
        },
        {
          "output_type": "stream",
          "name": "stdout",
          "text": [
            "                   all         51        216      0.997      0.983      0.995      0.993\n"
          ]
        },
        {
          "output_type": "stream",
          "name": "stderr",
          "text": [
            "\n"
          ]
        },
        {
          "output_type": "stream",
          "name": "stdout",
          "text": [
            "\n",
            "      Epoch    GPU_mem   box_loss   cls_loss   dfl_loss  Instances       Size\n"
          ]
        },
        {
          "output_type": "stream",
          "name": "stderr",
          "text": [
            "    177/200       5.2G     0.6493     0.4407      1.811         14        640: 100%|██████████| 4/4 [00:00<00:00,  7.08it/s]\n",
            "                 Class     Images  Instances      Box(P          R      mAP50  mAP50-95): 100%|██████████| 2/2 [00:00<00:00,  9.06it/s]"
          ]
        },
        {
          "output_type": "stream",
          "name": "stdout",
          "text": [
            "                   all         51        216      0.988      0.993      0.995      0.993\n"
          ]
        },
        {
          "output_type": "stream",
          "name": "stderr",
          "text": [
            "\n"
          ]
        },
        {
          "output_type": "stream",
          "name": "stdout",
          "text": [
            "\n",
            "      Epoch    GPU_mem   box_loss   cls_loss   dfl_loss  Instances       Size\n"
          ]
        },
        {
          "output_type": "stream",
          "name": "stderr",
          "text": [
            "    178/200       5.2G     0.5838     0.4375      1.806         33        640: 100%|██████████| 4/4 [00:00<00:00,  7.06it/s]\n",
            "                 Class     Images  Instances      Box(P          R      mAP50  mAP50-95): 100%|██████████| 2/2 [00:00<00:00,  8.55it/s]"
          ]
        },
        {
          "output_type": "stream",
          "name": "stdout",
          "text": [
            "                   all         51        216      0.987      0.995      0.995      0.993\n"
          ]
        },
        {
          "output_type": "stream",
          "name": "stderr",
          "text": [
            "\n"
          ]
        },
        {
          "output_type": "stream",
          "name": "stdout",
          "text": [
            "\n",
            "      Epoch    GPU_mem   box_loss   cls_loss   dfl_loss  Instances       Size\n"
          ]
        },
        {
          "output_type": "stream",
          "name": "stderr",
          "text": [
            "    179/200      5.23G     0.5934     0.4251      1.774         27        640: 100%|██████████| 4/4 [00:00<00:00,  7.12it/s]\n",
            "                 Class     Images  Instances      Box(P          R      mAP50  mAP50-95): 100%|██████████| 2/2 [00:00<00:00,  9.06it/s]"
          ]
        },
        {
          "output_type": "stream",
          "name": "stdout",
          "text": [
            "                   all         51        216      0.991       0.93      0.989      0.988\n"
          ]
        },
        {
          "output_type": "stream",
          "name": "stderr",
          "text": [
            "\n"
          ]
        },
        {
          "output_type": "stream",
          "name": "stdout",
          "text": [
            "\n",
            "      Epoch    GPU_mem   box_loss   cls_loss   dfl_loss  Instances       Size\n"
          ]
        },
        {
          "output_type": "stream",
          "name": "stderr",
          "text": [
            "    180/200      5.21G      0.641      0.426      1.812         33        640: 100%|██████████| 4/4 [00:00<00:00,  6.86it/s]\n",
            "                 Class     Images  Instances      Box(P          R      mAP50  mAP50-95): 100%|██████████| 2/2 [00:00<00:00,  8.81it/s]"
          ]
        },
        {
          "output_type": "stream",
          "name": "stdout",
          "text": [
            "                   all         51        216      0.989      0.988      0.995      0.994\n"
          ]
        },
        {
          "output_type": "stream",
          "name": "stderr",
          "text": [
            "\n"
          ]
        },
        {
          "output_type": "stream",
          "name": "stdout",
          "text": [
            "\n",
            "      Epoch    GPU_mem   box_loss   cls_loss   dfl_loss  Instances       Size\n"
          ]
        },
        {
          "output_type": "stream",
          "name": "stderr",
          "text": [
            "    181/200      5.23G     0.6699      0.431      1.843         26        640: 100%|██████████| 4/4 [00:00<00:00,  7.19it/s]\n",
            "                 Class     Images  Instances      Box(P          R      mAP50  mAP50-95): 100%|██████████| 2/2 [00:00<00:00,  8.08it/s]"
          ]
        },
        {
          "output_type": "stream",
          "name": "stdout",
          "text": [
            "                   all         51        216      0.991       0.99      0.995      0.994\n"
          ]
        },
        {
          "output_type": "stream",
          "name": "stderr",
          "text": [
            "\n"
          ]
        },
        {
          "output_type": "stream",
          "name": "stdout",
          "text": [
            "\n",
            "      Epoch    GPU_mem   box_loss   cls_loss   dfl_loss  Instances       Size\n"
          ]
        },
        {
          "output_type": "stream",
          "name": "stderr",
          "text": [
            "    182/200       5.2G     0.6211     0.4283      1.832         22        640: 100%|██████████| 4/4 [00:00<00:00,  7.05it/s]\n",
            "                 Class     Images  Instances      Box(P          R      mAP50  mAP50-95): 100%|██████████| 2/2 [00:00<00:00,  8.97it/s]"
          ]
        },
        {
          "output_type": "stream",
          "name": "stdout",
          "text": [
            "                   all         51        216      0.997      0.987      0.995      0.994\n"
          ]
        },
        {
          "output_type": "stream",
          "name": "stderr",
          "text": [
            "\n"
          ]
        },
        {
          "output_type": "stream",
          "name": "stdout",
          "text": [
            "\n",
            "      Epoch    GPU_mem   box_loss   cls_loss   dfl_loss  Instances       Size\n"
          ]
        },
        {
          "output_type": "stream",
          "name": "stderr",
          "text": [
            "    183/200      5.21G      0.644     0.4629      1.845         22        640: 100%|██████████| 4/4 [00:00<00:00,  6.71it/s]\n",
            "                 Class     Images  Instances      Box(P          R      mAP50  mAP50-95): 100%|██████████| 2/2 [00:00<00:00,  8.33it/s]"
          ]
        },
        {
          "output_type": "stream",
          "name": "stdout",
          "text": [
            "                   all         51        216      0.994      0.988      0.995      0.994\n"
          ]
        },
        {
          "output_type": "stream",
          "name": "stderr",
          "text": [
            "\n"
          ]
        },
        {
          "output_type": "stream",
          "name": "stdout",
          "text": [
            "\n",
            "      Epoch    GPU_mem   box_loss   cls_loss   dfl_loss  Instances       Size\n"
          ]
        },
        {
          "output_type": "stream",
          "name": "stderr",
          "text": [
            "    184/200      5.21G     0.6259      0.421       1.82         23        640: 100%|██████████| 4/4 [00:00<00:00,  6.65it/s]\n",
            "                 Class     Images  Instances      Box(P          R      mAP50  mAP50-95): 100%|██████████| 2/2 [00:00<00:00,  8.55it/s]"
          ]
        },
        {
          "output_type": "stream",
          "name": "stdout",
          "text": [
            "                   all         51        216      0.994       0.99      0.995      0.994\n"
          ]
        },
        {
          "output_type": "stream",
          "name": "stderr",
          "text": [
            "\n"
          ]
        },
        {
          "output_type": "stream",
          "name": "stdout",
          "text": [
            "\n",
            "      Epoch    GPU_mem   box_loss   cls_loss   dfl_loss  Instances       Size\n"
          ]
        },
        {
          "output_type": "stream",
          "name": "stderr",
          "text": [
            "    185/200       5.2G      0.624     0.4142      1.752         33        640: 100%|██████████| 4/4 [00:00<00:00,  7.02it/s]\n",
            "                 Class     Images  Instances      Box(P          R      mAP50  mAP50-95): 100%|██████████| 2/2 [00:00<00:00,  9.01it/s]"
          ]
        },
        {
          "output_type": "stream",
          "name": "stdout",
          "text": [
            "                   all         51        216      0.993      0.987      0.995      0.994\n"
          ]
        },
        {
          "output_type": "stream",
          "name": "stderr",
          "text": [
            "\n"
          ]
        },
        {
          "output_type": "stream",
          "name": "stdout",
          "text": [
            "\n",
            "      Epoch    GPU_mem   box_loss   cls_loss   dfl_loss  Instances       Size\n"
          ]
        },
        {
          "output_type": "stream",
          "name": "stderr",
          "text": [
            "    186/200       5.2G     0.6387     0.4425      1.811         26        640: 100%|██████████| 4/4 [00:00<00:00,  7.05it/s]\n",
            "                 Class     Images  Instances      Box(P          R      mAP50  mAP50-95): 100%|██████████| 2/2 [00:00<00:00,  9.02it/s]"
          ]
        },
        {
          "output_type": "stream",
          "name": "stdout",
          "text": [
            "                   all         51        216      0.986      0.985      0.995      0.994\n"
          ]
        },
        {
          "output_type": "stream",
          "name": "stderr",
          "text": [
            "\n"
          ]
        },
        {
          "output_type": "stream",
          "name": "stdout",
          "text": [
            "\n",
            "      Epoch    GPU_mem   box_loss   cls_loss   dfl_loss  Instances       Size\n"
          ]
        },
        {
          "output_type": "stream",
          "name": "stderr",
          "text": [
            "    187/200      5.24G     0.5757     0.4293      1.782         12        640: 100%|██████████| 4/4 [00:00<00:00,  6.92it/s]\n",
            "                 Class     Images  Instances      Box(P          R      mAP50  mAP50-95): 100%|██████████| 2/2 [00:00<00:00,  8.58it/s]"
          ]
        },
        {
          "output_type": "stream",
          "name": "stdout",
          "text": [
            "                   all         51        216      0.995      0.986      0.995      0.994\n"
          ]
        },
        {
          "output_type": "stream",
          "name": "stderr",
          "text": [
            "\n"
          ]
        },
        {
          "output_type": "stream",
          "name": "stdout",
          "text": [
            "\n",
            "      Epoch    GPU_mem   box_loss   cls_loss   dfl_loss  Instances       Size\n"
          ]
        },
        {
          "output_type": "stream",
          "name": "stderr",
          "text": [
            "    188/200      5.23G     0.6098     0.4226      1.818         25        640: 100%|██████████| 4/4 [00:00<00:00,  6.98it/s]\n",
            "                 Class     Images  Instances      Box(P          R      mAP50  mAP50-95): 100%|██████████| 2/2 [00:00<00:00,  9.12it/s]"
          ]
        },
        {
          "output_type": "stream",
          "name": "stdout",
          "text": [
            "                   all         51        216          1      0.989      0.995      0.994\n"
          ]
        },
        {
          "output_type": "stream",
          "name": "stderr",
          "text": [
            "\n"
          ]
        },
        {
          "output_type": "stream",
          "name": "stdout",
          "text": [
            "\n",
            "      Epoch    GPU_mem   box_loss   cls_loss   dfl_loss  Instances       Size\n"
          ]
        },
        {
          "output_type": "stream",
          "name": "stderr",
          "text": [
            "    189/200       5.2G     0.6355      0.427      1.822         25        640: 100%|██████████| 4/4 [00:00<00:00,  7.05it/s]\n",
            "                 Class     Images  Instances      Box(P          R      mAP50  mAP50-95): 100%|██████████| 2/2 [00:00<00:00,  9.12it/s]"
          ]
        },
        {
          "output_type": "stream",
          "name": "stdout",
          "text": [
            "                   all         51        216          1      0.986      0.995      0.994\n"
          ]
        },
        {
          "output_type": "stream",
          "name": "stderr",
          "text": [
            "\n"
          ]
        },
        {
          "output_type": "stream",
          "name": "stdout",
          "text": [
            "\n",
            "      Epoch    GPU_mem   box_loss   cls_loss   dfl_loss  Instances       Size\n"
          ]
        },
        {
          "output_type": "stream",
          "name": "stderr",
          "text": [
            "    190/200      5.21G     0.5149     0.3792      1.726         15        640: 100%|██████████| 4/4 [00:00<00:00,  7.16it/s]\n",
            "                 Class     Images  Instances      Box(P          R      mAP50  mAP50-95): 100%|██████████| 2/2 [00:00<00:00,  8.48it/s]"
          ]
        },
        {
          "output_type": "stream",
          "name": "stdout",
          "text": [
            "                   all         51        216          1      0.991      0.995      0.994\n"
          ]
        },
        {
          "output_type": "stream",
          "name": "stderr",
          "text": [
            "\n"
          ]
        },
        {
          "output_type": "stream",
          "name": "stdout",
          "text": [
            "Closing dataloader mosaic\n",
            "\u001b[34m\u001b[1malbumentations: \u001b[0mBlur(p=0.01, blur_limit=(3, 7)), MedianBlur(p=0.01, blur_limit=(3, 7)), ToGray(p=0.01, num_output_channels=3, method='weighted_average'), CLAHE(p=0.01, clip_limit=(1, 4.0), tile_grid_size=(8, 8))\n",
            "\n",
            "      Epoch    GPU_mem   box_loss   cls_loss   dfl_loss  Instances       Size\n"
          ]
        },
        {
          "output_type": "stream",
          "name": "stderr",
          "text": [
            "    191/200      5.18G     0.3379     0.2689      1.624         12        640: 100%|██████████| 4/4 [00:01<00:00,  2.62it/s]\n",
            "                 Class     Images  Instances      Box(P          R      mAP50  mAP50-95): 100%|██████████| 2/2 [00:00<00:00,  8.39it/s]"
          ]
        },
        {
          "output_type": "stream",
          "name": "stdout",
          "text": [
            "                   all         51        216      0.951      0.998      0.992      0.992\n"
          ]
        },
        {
          "output_type": "stream",
          "name": "stderr",
          "text": [
            "\n"
          ]
        },
        {
          "output_type": "stream",
          "name": "stdout",
          "text": [
            "\n",
            "      Epoch    GPU_mem   box_loss   cls_loss   dfl_loss  Instances       Size\n"
          ]
        },
        {
          "output_type": "stream",
          "name": "stderr",
          "text": [
            "    192/200      5.18G      0.357     0.3102      1.552         13        640: 100%|██████████| 4/4 [00:00<00:00,  6.79it/s]\n",
            "                 Class     Images  Instances      Box(P          R      mAP50  mAP50-95): 100%|██████████| 2/2 [00:00<00:00,  8.13it/s]"
          ]
        },
        {
          "output_type": "stream",
          "name": "stdout",
          "text": [
            "                   all         51        216      0.952      0.997      0.992      0.992\n"
          ]
        },
        {
          "output_type": "stream",
          "name": "stderr",
          "text": [
            "\n"
          ]
        },
        {
          "output_type": "stream",
          "name": "stdout",
          "text": [
            "\n",
            "      Epoch    GPU_mem   box_loss   cls_loss   dfl_loss  Instances       Size\n"
          ]
        },
        {
          "output_type": "stream",
          "name": "stderr",
          "text": [
            "    193/200      5.18G     0.3272     0.2878      1.572         12        640: 100%|██████████| 4/4 [00:00<00:00,  6.58it/s]\n",
            "                 Class     Images  Instances      Box(P          R      mAP50  mAP50-95): 100%|██████████| 2/2 [00:00<00:00,  8.83it/s]"
          ]
        },
        {
          "output_type": "stream",
          "name": "stdout",
          "text": [
            "                   all         51        216      0.951      0.994      0.992      0.991\n"
          ]
        },
        {
          "output_type": "stream",
          "name": "stderr",
          "text": [
            "\n"
          ]
        },
        {
          "output_type": "stream",
          "name": "stdout",
          "text": [
            "\n",
            "      Epoch    GPU_mem   box_loss   cls_loss   dfl_loss  Instances       Size\n"
          ]
        },
        {
          "output_type": "stream",
          "name": "stderr",
          "text": [
            "    194/200      5.18G     0.3187     0.2497       1.58         12        640: 100%|██████████| 4/4 [00:00<00:00,  6.50it/s]\n",
            "                 Class     Images  Instances      Box(P          R      mAP50  mAP50-95): 100%|██████████| 2/2 [00:00<00:00,  8.23it/s]"
          ]
        },
        {
          "output_type": "stream",
          "name": "stdout",
          "text": [
            "                   all         51        216      0.994      0.992      0.995      0.994\n"
          ]
        },
        {
          "output_type": "stream",
          "name": "stderr",
          "text": [
            "\n"
          ]
        },
        {
          "output_type": "stream",
          "name": "stdout",
          "text": [
            "\n",
            "      Epoch    GPU_mem   box_loss   cls_loss   dfl_loss  Instances       Size\n"
          ]
        },
        {
          "output_type": "stream",
          "name": "stderr",
          "text": [
            "    195/200      5.18G     0.3301      0.271      1.565         13        640: 100%|██████████| 4/4 [00:00<00:00,  7.06it/s]\n",
            "                 Class     Images  Instances      Box(P          R      mAP50  mAP50-95): 100%|██████████| 2/2 [00:00<00:00,  9.02it/s]"
          ]
        },
        {
          "output_type": "stream",
          "name": "stdout",
          "text": [
            "                   all         51        216      0.993      0.993      0.995      0.994\n"
          ]
        },
        {
          "output_type": "stream",
          "name": "stderr",
          "text": [
            "\n"
          ]
        },
        {
          "output_type": "stream",
          "name": "stdout",
          "text": [
            "\n",
            "      Epoch    GPU_mem   box_loss   cls_loss   dfl_loss  Instances       Size\n"
          ]
        },
        {
          "output_type": "stream",
          "name": "stderr",
          "text": [
            "    196/200      5.18G      0.364     0.3379       1.61         13        640: 100%|██████████| 4/4 [00:00<00:00,  7.09it/s]\n",
            "                 Class     Images  Instances      Box(P          R      mAP50  mAP50-95): 100%|██████████| 2/2 [00:00<00:00,  8.34it/s]"
          ]
        },
        {
          "output_type": "stream",
          "name": "stdout",
          "text": [
            "                   all         51        216      0.995      0.984      0.995      0.994\n"
          ]
        },
        {
          "output_type": "stream",
          "name": "stderr",
          "text": [
            "\n"
          ]
        },
        {
          "output_type": "stream",
          "name": "stdout",
          "text": [
            "\n",
            "      Epoch    GPU_mem   box_loss   cls_loss   dfl_loss  Instances       Size\n"
          ]
        },
        {
          "output_type": "stream",
          "name": "stderr",
          "text": [
            "    197/200      5.18G     0.3659     0.2958      1.602         13        640: 100%|██████████| 4/4 [00:00<00:00,  6.81it/s]\n",
            "                 Class     Images  Instances      Box(P          R      mAP50  mAP50-95): 100%|██████████| 2/2 [00:00<00:00,  9.08it/s]"
          ]
        },
        {
          "output_type": "stream",
          "name": "stdout",
          "text": [
            "                   all         51        216      0.994      0.964      0.995      0.994\n"
          ]
        },
        {
          "output_type": "stream",
          "name": "stderr",
          "text": [
            "\n"
          ]
        },
        {
          "output_type": "stream",
          "name": "stdout",
          "text": [
            "\n",
            "      Epoch    GPU_mem   box_loss   cls_loss   dfl_loss  Instances       Size\n"
          ]
        },
        {
          "output_type": "stream",
          "name": "stderr",
          "text": [
            "    198/200      5.18G     0.3421     0.2684      1.566         12        640: 100%|██████████| 4/4 [00:00<00:00,  7.19it/s]\n",
            "                 Class     Images  Instances      Box(P          R      mAP50  mAP50-95): 100%|██████████| 2/2 [00:00<00:00,  8.65it/s]"
          ]
        },
        {
          "output_type": "stream",
          "name": "stdout",
          "text": [
            "                   all         51        216      0.994      0.982      0.995      0.994\n"
          ]
        },
        {
          "output_type": "stream",
          "name": "stderr",
          "text": [
            "\n"
          ]
        },
        {
          "output_type": "stream",
          "name": "stdout",
          "text": [
            "\n",
            "      Epoch    GPU_mem   box_loss   cls_loss   dfl_loss  Instances       Size\n"
          ]
        },
        {
          "output_type": "stream",
          "name": "stderr",
          "text": [
            "    199/200      5.18G     0.3303     0.2645      1.549         12        640: 100%|██████████| 4/4 [00:00<00:00,  7.01it/s]\n",
            "                 Class     Images  Instances      Box(P          R      mAP50  mAP50-95): 100%|██████████| 2/2 [00:00<00:00,  8.67it/s]"
          ]
        },
        {
          "output_type": "stream",
          "name": "stdout",
          "text": [
            "                   all         51        216      0.995      0.976      0.995      0.994\n"
          ]
        },
        {
          "output_type": "stream",
          "name": "stderr",
          "text": [
            "\n"
          ]
        },
        {
          "output_type": "stream",
          "name": "stdout",
          "text": [
            "\n",
            "      Epoch    GPU_mem   box_loss   cls_loss   dfl_loss  Instances       Size\n"
          ]
        },
        {
          "output_type": "stream",
          "name": "stderr",
          "text": [
            "    200/200      5.18G     0.3344     0.2589      1.591         13        640: 100%|██████████| 4/4 [00:00<00:00,  6.70it/s]\n",
            "                 Class     Images  Instances      Box(P          R      mAP50  mAP50-95): 100%|██████████| 2/2 [00:00<00:00,  9.13it/s]"
          ]
        },
        {
          "output_type": "stream",
          "name": "stdout",
          "text": [
            "                   all         51        216      0.994      0.981      0.995      0.994\n"
          ]
        },
        {
          "output_type": "stream",
          "name": "stderr",
          "text": [
            "\n"
          ]
        },
        {
          "output_type": "stream",
          "name": "stdout",
          "text": [
            "\n",
            "200 epochs completed in 0.100 hours.\n",
            "Optimizer stripped from runs/detect/train2/weights/last.pt, 16.5MB\n",
            "Optimizer stripped from runs/detect/train2/weights/best.pt, 16.5MB\n",
            "\n",
            "Validating runs/detect/train2/weights/best.pt...\n",
            "Ultralytics YOLOv8.2.102 🚀 Python-3.10.12 torch-2.4.1+cu121 CUDA:0 (NVIDIA A100-SXM4-40GB, 40514MiB)\n",
            "YOLOv10s summary (fused): 293 layers, 8,038,056 parameters, 0 gradients, 24.5 GFLOPs\n"
          ]
        },
        {
          "output_type": "stream",
          "name": "stderr",
          "text": [
            "                 Class     Images  Instances      Box(P          R      mAP50  mAP50-95): 100%|██████████| 2/2 [00:00<00:00,  7.04it/s]\n"
          ]
        },
        {
          "output_type": "stream",
          "name": "stdout",
          "text": [
            "                   all         51        216          1      0.985      0.995      0.994\n",
            "                Hearts          3         12          1      0.982      0.995      0.995\n",
            "                Spades         48        204          1      0.989      0.995      0.994\n",
            "Speed: 0.1ms preprocess, 0.8ms inference, 0.0ms loss, 0.1ms postprocess per image\n",
            "Results saved to \u001b[1mruns/detect/train2\u001b[0m\n"
          ]
        }
      ],
      "source": [
        "results = model.train(data=data_yaml, epochs=200, imgsz=640, device=0)"
      ]
    },
    {
      "cell_type": "markdown",
      "metadata": {
        "id": "8-HOkSPSRf6x"
      },
      "source": [
        "# 학습한 모델 테스트"
      ]
    },
    {
      "cell_type": "code",
      "execution_count": 19,
      "metadata": {
        "id": "F74pJC73VTPw",
        "outputId": "1d600391-3b5c-4762-c646-6ffb61d2be18",
        "colab": {
          "base_uri": "https://localhost:8080/"
        }
      },
      "outputs": [
        {
          "output_type": "stream",
          "name": "stdout",
          "text": [
            "/content/datasets/card_data/test/images\n"
          ]
        }
      ],
      "source": [
        "# 테스트 이미지 경로\n",
        "test_data_dir = film['test']\n",
        "print(test_data_dir)\n",
        "# 실험 번호 지정 - 진행한 실험이 저장된 경로 확인해서 기입! - runs/train/exp1 인지 exp2, exp3 인지 확인 후 아래 번호 지정\n",
        "train_exp_num = 2"
      ]
    },
    {
      "cell_type": "code",
      "execution_count": 20,
      "metadata": {
        "id": "ttCVP0FTIowP"
      },
      "outputs": [],
      "source": [
        "model = YOLO(\"/content/datasets/runs/detect/train2/weights/best.pt\")"
      ]
    },
    {
      "cell_type": "code",
      "source": [
        "results = model('/content/datasets/card_data/test/images/IMG_20220316_134602_jpg.rf.9802a712c2788e3f8a7e872f1d856773.jpg')\n",
        "print(results[0].boxes)"
      ],
      "metadata": {
        "colab": {
          "base_uri": "https://localhost:8080/"
        },
        "id": "Xx3RODbQBjRw",
        "outputId": "6020e1a7-4746-4f7e-bfc7-296efee32167"
      },
      "execution_count": 21,
      "outputs": [
        {
          "output_type": "stream",
          "name": "stdout",
          "text": [
            "\n",
            "image 1/1 /content/datasets/card_data/test/images/IMG_20220316_134602_jpg.rf.9802a712c2788e3f8a7e872f1d856773.jpg: 480x640 4 Spadess, 57.6ms\n",
            "Speed: 2.4ms preprocess, 57.6ms inference, 0.6ms postprocess per image at shape (1, 3, 480, 640)\n",
            "ultralytics.engine.results.Boxes object with attributes:\n",
            "\n",
            "cls: tensor([2., 2., 2., 2.], device='cuda:0')\n",
            "conf: tensor([0.9873, 0.9856, 0.9849, 0.9546], device='cuda:0')\n",
            "data: tensor([[277.4078, 383.6556, 584.5955, 708.9036,   0.9873,   2.0000],\n",
            "        [335.5429,  49.2650, 624.0203, 349.5695,   0.9856,   2.0000],\n",
            "        [139.7599, 188.1310, 420.7307, 485.2703,   0.9849,   2.0000],\n",
            "        [496.8420, 291.1175, 797.9160, 618.8972,   0.9546,   2.0000]], device='cuda:0')\n",
            "id: None\n",
            "is_track: False\n",
            "orig_shape: (720, 960)\n",
            "shape: torch.Size([4, 6])\n",
            "xywh: tensor([[431.0016, 546.2795, 307.1877, 325.2480],\n",
            "        [479.7816, 199.4172, 288.4774, 300.3044],\n",
            "        [280.2453, 336.7006, 280.9707, 297.1394],\n",
            "        [647.3790, 455.0073, 301.0740, 327.7798]], device='cuda:0')\n",
            "xywhn: tensor([[0.4490, 0.7587, 0.3200, 0.4517],\n",
            "        [0.4998, 0.2770, 0.3005, 0.4171],\n",
            "        [0.2919, 0.4676, 0.2927, 0.4127],\n",
            "        [0.6744, 0.6320, 0.3136, 0.4552]], device='cuda:0')\n",
            "xyxy: tensor([[277.4078, 383.6556, 584.5955, 708.9036],\n",
            "        [335.5429,  49.2650, 624.0203, 349.5695],\n",
            "        [139.7599, 188.1310, 420.7307, 485.2703],\n",
            "        [496.8420, 291.1175, 797.9160, 618.8972]], device='cuda:0')\n",
            "xyxyn: tensor([[0.2890, 0.5329, 0.6090, 0.9846],\n",
            "        [0.3495, 0.0684, 0.6500, 0.4855],\n",
            "        [0.1456, 0.2613, 0.4383, 0.6740],\n",
            "        [0.5175, 0.4043, 0.8312, 0.8596]], device='cuda:0')\n"
          ]
        }
      ]
    },
    {
      "cell_type": "code",
      "source": [
        "import cv2\n",
        "import matplotlib.pyplot as plt\n",
        "import numpy as np\n",
        "\n",
        "image = cv2.imread('/content/datasets/card_data/test/images/IMG_20220316_134602_jpg.rf.9802a712c2788e3f8a7e872f1d856773.jpg')\n",
        "\n",
        "green_color=(0, 255, 0)\n",
        "red_color=(255, 0, 0)\n",
        "\n",
        "clone = image.copy()\n",
        "clone = cv2.cvtColor(clone, cv2.COLOR_BGR2RGB)\n",
        "\n",
        "for result in results:\n",
        "    boxes = result.boxes  # Boxes object for bounding box outputs\n",
        "    for box in boxes:\n",
        "        xyxy = box.xyxy[0]\n",
        "        # print(xyxy)\n",
        "        cls = int(box.cls)\n",
        "        # print(cls)\n",
        "        xyxy = tuple(xyxy.cpu().numpy().astype(np.int32))\n",
        "        # print(xyxy)\n",
        "        pt1 = (xyxy[0], xyxy[1])\n",
        "        pt2 = (xyxy[2], xyxy[3])\n",
        "        cv2.rectangle(clone, pt1, pt2, color=green_color, thickness=1)\n",
        "        caption = \"{}\".format(result.names[cls])\n",
        "        cv2.putText(clone, caption, (xyxy[0], xyxy[1]-6), cv2.FONT_HERSHEY_SIMPLEX, 0.8, red_color, 1)\n",
        "\n",
        "plt.imshow(clone)\n",
        "plt.show()"
      ],
      "metadata": {
        "colab": {
          "base_uri": "https://localhost:8080/",
          "height": 435
        },
        "id": "38H07b01CA71",
        "outputId": "ddfc738d-9f9a-4401-b111-e41ad6e0f6fb"
      },
      "execution_count": 23,
      "outputs": [
        {
          "output_type": "display_data",
          "data": {
            "text/plain": [
              "<Figure size 640x480 with 1 Axes>"
            ],
            "image/png": "[encoded data removed]"
          },
          "metadata": {}
        }
      ]
    },
    {
      "cell_type": "code",
      "source": [],
      "metadata": {
        "id": "TKDVCcWNCfbm"
      },
      "execution_count": null,
      "outputs": []
    }
  ],
  "metadata": {
    "accelerator": "GPU",
    "colab": {
      "provenance": [],
      "gpuType": "A100",
      "machine_shape": "hm"
    },
    "kernelspec": {
      "display_name": "Python 3",
      "name": "python3"
    },
    "language_info": {
      "name": "python",
      "version": "3.8.9 (default, Apr 13 2022, 08:48:06) \n[Clang 13.1.6 (clang-1316.0.21.2.5)]"
    },
    "vscode": {
      "interpreter": {
        "hash": "31f2aee4e71d21fbe5cf8b01ff0e069b9275f58929596ceb00d14d90e3e16cd6"
      }
    }
  },
  "nbformat": 4,
  "nbformat_minor": 0
}