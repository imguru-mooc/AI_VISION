{
 "cells": [
  {
   "attachments": {},
   "cell_type": "markdown",
   "metadata": {
    "id": "UGQeBCYAFbPM"
   },
   "source": [
    "#### PASCAL VOC 2012 데이터 다운로드 받기"
   ]
  },
  {
   "cell_type": "code",
   "execution_count": null,
   "metadata": {
    "id": "s4RM0peKFbPP"
   },
   "outputs": [],
   "source": [
    "# pascal voc 2012 데이터를 다운로드 후 현재 디렉토리에 압축 해제\n",
    "\n",
    "!wget http://host.robots.ox.ac.uk/pascal/VOC/voc2007/VOCtrainval_06-Nov-2007.tar\n",
    "!tar -xvf VOCtrainval_06-Nov-2007.tar"
   ]
  },
  {
   "cell_type": "code",
   "execution_count": null,
   "metadata": {
    "id": "UK_5RK2rFbPa"
   },
   "outputs": [],
   "source": [
    "!ls VOCdevkit/VOC2007\n",
    "!ls VOCdevkit/VOC2007/JPEGImages | head -n 5"
   ]
  },
  {
   "attachments": {},
   "cell_type": "markdown",
   "metadata": {
    "id": "Q7AuyM-PFbPw"
   },
   "source": [
    "#### JPEGImages 디렉토리에 있는 임의의 이미지 보기 "
   ]
  },
  {
   "cell_type": "code",
   "execution_count": null,
   "metadata": {
    "id": "E6IuGH0hFbPy"
   },
   "outputs": [],
   "source": [
    "import cv2\n",
    "import matplotlib.pyplot as plt\n",
    "import os\n",
    "\n",
    "default_dir = '.'\n",
    "img = cv2.imread(os.path.join(default_dir, 'VOCdevkit/VOC2007/JPEGImages/000032.jpg'))\n",
    "img_rgb = cv2.cvtColor(img, cv2.COLOR_BGR2RGB)\n",
    "print('img shape:', img.shape)\n",
    "\n",
    "plt.figure(figsize=(8, 8))\n",
    "plt.imshow(img_rgb)\n",
    "plt.show()\n"
   ]
  },
  {
   "attachments": {},
   "cell_type": "markdown",
   "metadata": {
    "id": "S5TOXSVkFbP9"
   },
   "source": [
    "#### Annotations 디렉토리에 있는 임의의 annotation 파일 보기"
   ]
  },
  {
   "cell_type": "code",
   "execution_count": null,
   "metadata": {
    "id": "BhKQMFmbFbP_"
   },
   "outputs": [],
   "source": [
    "!cat VOCdevkit/VOC2007/Annotations/000032.xml"
   ]
  },
  {
   "attachments": {},
   "cell_type": "markdown",
   "metadata": {
    "id": "tqb-90GQFbQJ"
   },
   "source": [
    "#### 임의의 maksing 이미지 보기 "
   ]
  },
  {
   "cell_type": "code",
   "execution_count": null,
   "metadata": {
    "id": "BdxB6l64FbQM"
   },
   "outputs": [],
   "source": [
    "\n",
    "# img = cv2.imread(os.path.join(default_dir, 'VOCdevkit/VOC2007/SegmentationClass/000032.png'))\n",
    "img = cv2.imread(os.path.join(default_dir, 'VOCdevkit/VOC2007/SegmentationObject/000032.png'))\n",
    "\n",
    "img_rgb = cv2.cvtColor(img, cv2.COLOR_BGR2RGB)\n",
    "print('img shape:', img.shape)\n",
    "\n",
    "plt.figure(figsize=(8, 8))\n",
    "plt.imshow(img_rgb)\n",
    "plt.show()"
   ]
  },
  {
   "attachments": {},
   "cell_type": "markdown",
   "metadata": {
    "id": "gOor2fZ-FbQW"
   },
   "source": [
    "#### Annotation xml 파일에 있는 요소들을 파싱하여 접근하기\n",
    "* ElementTree를 이용하여 XML 파싱"
   ]
  },
  {
   "cell_type": "code",
   "execution_count": null,
   "metadata": {
    "id": "QHzJ8hBrFbQX"
   },
   "outputs": [],
   "source": [
    "import os\n",
    "import random\n",
    "\n",
    "VOC_ROOT_DIR =\"VOCdevkit/VOC2007/\"\n",
    "ANNO_DIR = os.path.join(VOC_ROOT_DIR, \"Annotations\")\n",
    "IMAGE_DIR = os.path.join(VOC_ROOT_DIR, \"JPEGImages\")\n",
    "\n",
    "xml_files = os.listdir(ANNO_DIR)                       \n",
    "print(xml_files[:5]); print(len(xml_files))"
   ]
  },
  {
   "cell_type": "code",
   "execution_count": null,
   "metadata": {
    "id": "gFdDMrsfFbQg"
   },
   "outputs": [],
   "source": [
    "# !pip install lxml\n",
    "import os\n",
    "import xml.etree.ElementTree as ET\n",
    "\n",
    "xml_file = os.path.join(ANNO_DIR, '000032.xml')\n",
    "\n",
    "# XML 파일을 Parsing 하여 Element 생성\n",
    "tree = ET.parse(xml_file)\n",
    "root = tree.getroot()\n",
    "\n",
    "# image 관련 정보는 root의 자식으로 존재\n",
    "image_name = root.find('filename').text\n",
    "full_image_name = os.path.join(IMAGE_DIR, image_name)\n",
    "image_size = root.find('size')\n",
    "image_width = int(image_size.find('width').text)\n",
    "image_height = int(image_size.find('height').text)\n",
    "\n",
    "# 파일내에 있는 모든 object Element를 찾음.\n",
    "objects_list = []\n",
    "for obj in root.findall('object'):\n",
    "    # object element의 자식 element에서 bndbox를 찾음. \n",
    "    xmlbox = obj.find('bndbox')\n",
    "    # bndbox element의 자식 element에서 xmin,ymin,xmax,ymax를 찾고 이의 값(text)를 추출 \n",
    "    x1 = int(xmlbox.find('xmin').text)\n",
    "    y1 = int(xmlbox.find('ymin').text)\n",
    "    x2 = int(xmlbox.find('xmax').text)\n",
    "    y2 = int(xmlbox.find('ymax').text)\n",
    "    \n",
    "    bndbox_pos = (x1, y1, x2, y2)\n",
    "    class_name=obj.find('name').text\n",
    "    object_dict={'class_name': class_name, 'bndbox_pos':bndbox_pos}\n",
    "    objects_list.append(object_dict)\n",
    "\n",
    "print('full_image_name:', full_image_name,'\\n', 'image_size:', (image_width, image_height))\n",
    "\n",
    "for object in objects_list:\n",
    "    print(object)\n",
    "\n",
    "    "
   ]
  },
  {
   "attachments": {},
   "cell_type": "markdown",
   "metadata": {
    "id": "b17bfpElFbQo"
   },
   "source": [
    "#### Annotation내의 Object들의 bounding box 정보를 이용하여 Bounding box 시각화"
   ]
  },
  {
   "cell_type": "code",
   "execution_count": null,
   "metadata": {
    "id": "KQ39fzeLFbQq"
   },
   "outputs": [],
   "source": [
    "import cv2\n",
    "import os\n",
    "import xml.etree.ElementTree as ET\n",
    "\n",
    "xml_file = os.path.join(ANNO_DIR, '000032.xml')\n",
    "\n",
    "tree = ET.parse(xml_file)\n",
    "root = tree.getroot()\n",
    "\n",
    "image_name = root.find('filename').text\n",
    "full_image_name = os.path.join(IMAGE_DIR, image_name)\n",
    "\n",
    "img = cv2.imread(full_image_name)\n",
    "# opencv의 rectangle()는 인자로 들어온 이미지 배열에 그대로 사각형을 그려주므로 별도의 이미지 배열에 그림 작업 수행. \n",
    "draw_img = img.copy()\n",
    "# OpenCV는 RGB가 아니라 BGR이므로 빨간색은 (0, 0, 255)\n",
    "green_color=(0, 255, 0)\n",
    "red_color=(0, 0, 255)\n",
    "\n",
    "# 파일내에 있는 모든 object Element를 찾음.\n",
    "objects_list = []\n",
    "for obj in root.findall('object'):\n",
    "    xmlbox = obj.find('bndbox')\n",
    "    \n",
    "    left = int(xmlbox.find('xmin').text)\n",
    "    top = int(xmlbox.find('ymin').text)\n",
    "    right = int(xmlbox.find('xmax').text)\n",
    "    bottom = int(xmlbox.find('ymax').text)\n",
    "    \n",
    "    class_name=obj.find('name').text\n",
    "    \n",
    "    # draw_img 배열의 좌상단 우하단 좌표에 녹색으로 box 표시 \n",
    "    cv2.rectangle(draw_img, (left, top), (right, bottom), color=green_color, thickness=1)\n",
    "    # draw_img 배열의 좌상단 좌표에 빨간색으로 클래스명 표시\n",
    "    cv2.putText(draw_img, class_name, (left, top - 5), cv2.FONT_HERSHEY_SIMPLEX, 0.4, red_color, thickness=1)\n",
    "\n",
    "img_rgb = cv2.cvtColor(draw_img, cv2.COLOR_BGR2RGB)\n",
    "plt.figure(figsize=(10, 10))\n",
    "plt.imshow(img_rgb)\n",
    "plt.show()"
   ]
  },
  {
   "cell_type": "code",
   "execution_count": null,
   "metadata": {
    "id": "jHYWFDE2FbQw"
   },
   "outputs": [],
   "source": []
  }
 ],
 "metadata": {
  "colab": {
   "collapsed_sections": [],
   "name": "pascal_voc_dataset.ipynb",
   "provenance": []
  },
  "kernelspec": {
   "display_name": "Python 3 (ipykernel)",
   "language": "python",
   "name": "python3"
  },
  "language_info": {
   "codemirror_mode": {
    "name": "ipython",
    "version": 3
   },
   "file_extension": ".py",
   "mimetype": "text/x-python",
   "name": "python",
   "nbconvert_exporter": "python",
   "pygments_lexer": "ipython3",
   "version": "3.8.10"
  }
 },
 "nbformat": 4,
 "nbformat_minor": 4
}
