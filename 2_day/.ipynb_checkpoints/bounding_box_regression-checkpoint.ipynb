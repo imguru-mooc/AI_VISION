{
  "cells": [
    {
      "attachments": {},
      "cell_type": "markdown",
      "metadata": {
        "id": "uu3EGK9rpoPe"
      },
      "source": [
        "### Install the necessary packages"
      ]
    },
    {
      "attachments": {},
      "cell_type": "markdown",
      "metadata": {
        "id": "lVK8fRlQp3HM"
      },
      "source": [
        "### Download the code zip file"
      ]
    },
    {
      "cell_type": "code",
      "execution_count": null,
      "metadata": {
        "id": "KrGqgNmKnZ5Q",
        "vscode": {
          "languageId": "python"
        }
      },
      "outputs": [],
      "source": [
        "!wget https://pyimagesearch-code-downloads.s3-us-west-2.amazonaws.com/bounding-box-regression/bounding-box-regression.zip\n",
        "!unzip -qq bounding-box-regression.zip\n",
        "%cd bounding-box-regression"
      ]
    },
    {
      "attachments": {},
      "cell_type": "markdown",
      "metadata": {
        "id": "YECVlWoOqCj1"
      },
      "source": [
        "## Blog Post Code"
      ]
    },
    {
      "attachments": {},
      "cell_type": "markdown",
      "metadata": {
        "id": "x_vbSPmvq8zL"
      },
      "source": [
        "### Import Packages"
      ]
    },
    {
      "cell_type": "code",
      "execution_count": null,
      "metadata": {
        "id": "npoAG5wZr0CH",
        "vscode": {
          "languageId": "python"
        }
      },
      "outputs": [],
      "source": [
        "# import the necessary packages\n",
        "from tensorflow.keras.applications import VGG16\n",
        "from tensorflow.keras.layers import Flatten\n",
        "from tensorflow.keras.layers import Dense\n",
        "from tensorflow.keras.layers import Input\n",
        "from tensorflow.keras.models import Model\n",
        "from tensorflow.keras.optimizers import Adam\n",
        "from tensorflow.keras.preprocessing.image import img_to_array\n",
        "from tensorflow.keras.preprocessing.image import load_img\n",
        "from tensorflow.keras.models import load_model\n",
        "from sklearn.model_selection import train_test_split\n",
        "import matplotlib.pyplot as plt\n",
        "import numpy as np\n",
        "import mimetypes\n",
        "import argparse\n",
        "import imutils\n",
        "import cv2\n",
        "import os"
      ]
    },
    {
      "attachments": {},
      "cell_type": "markdown",
      "metadata": {
        "id": "AWOLob4IScbu"
      },
      "source": [
        "### Function to display images in Jupyter Notebooks and Google Colab"
      ]
    },
    {
      "cell_type": "code",
      "execution_count": null,
      "metadata": {
        "id": "ye-62UuxShFQ",
        "vscode": {
          "languageId": "python"
        }
      },
      "outputs": [],
      "source": [
        "def plt_imshow(title, image):\n",
        "    # convert the image frame BGR to RGB color space and display it\n",
        "\timage = cv2.cvtColor(image, cv2.COLOR_BGR2RGB)\n",
        "\tplt.imshow(image)\n",
        "\tplt.title(title)\n",
        "\tplt.grid(False)\n",
        "\tplt.show()"
      ]
    },
    {
      "attachments": {},
      "cell_type": "markdown",
      "metadata": {
        "id": "ljq4YLhUQ-pT"
      },
      "source": [
        "### Define our `Config` class"
      ]
    },
    {
      "cell_type": "code",
      "execution_count": null,
      "metadata": {
        "id": "J7yCzJKur7Op",
        "vscode": {
          "languageId": "python"
        }
      },
      "outputs": [],
      "source": [
        "class Config:\n",
        "    # define the base path to the input dataset and then use it to derive\n",
        "    # the path to the images directory and annotation CSV file\n",
        "    BASE_PATH = \"dataset\"\n",
        "    IMAGES_PATH = os.path.sep.join([BASE_PATH, \"images\"])\n",
        "    ANNOTS_PATH = os.path.sep.join([BASE_PATH, \"airplanes.csv\"])\n",
        "\n",
        "    # define the path to the base output directory\n",
        "    BASE_OUTPUT = \"output\"\n",
        "\n",
        "    # define the path to the output serialized model, model training plot,\n",
        "    # and testing image filenames\n",
        "    MODEL_PATH = os.path.sep.join([BASE_OUTPUT, \"detector.h5\"])\n",
        "    PLOT_PATH = os.path.sep.join([BASE_OUTPUT, \"plot.png\"])\n",
        "    TEST_FILENAMES = os.path.sep.join([BASE_OUTPUT, \"test_images.txt\"])\n",
        "\n",
        "    # initialize our initial learning rate, number of epochs to train\n",
        "    # for, and the batch size\n",
        "    INIT_LR = 1e-4\n",
        "    NUM_EPOCHS = 25\n",
        "    BATCH_SIZE = 32\n",
        "\n",
        "# instantiate the config class\n",
        "config = Config()"
      ]
    },
    {
      "attachments": {},
      "cell_type": "markdown",
      "metadata": {
        "id": "y6yWhVo4SrxN"
      },
      "source": [
        "### Implementing our bounding box regression training script with Keras and TensorFlow"
      ]
    },
    {
      "cell_type": "code",
      "execution_count": null,
      "metadata": {
        "id": "GQOl3qHfsGkg",
        "vscode": {
          "languageId": "python"
        }
      },
      "outputs": [],
      "source": [
        "# load the contents of the CSV annotations file\n",
        "print(\"[INFO] loading dataset...\")\n",
        "rows = open(config.ANNOTS_PATH).read().strip().split(\"\\n\")\n",
        "\n",
        "# initialize the list of data (images), our target output predictions\n",
        "# (bounding box coordinates), along with the filenames of the\n",
        "# individual images\n",
        "data = []\n",
        "targets = []\n",
        "filenames = []"
      ]
    },
    {
      "cell_type": "code",
      "execution_count": null,
      "metadata": {
        "id": "akhycS-EsltF",
        "vscode": {
          "languageId": "python"
        }
      },
      "outputs": [],
      "source": [
        "# loop over the rows\n",
        "for row in rows:\n",
        "\t# break the row into the filename and bounding box coordinates\n",
        "\trow = row.split(\",\")\n",
        "\t(filename, startX, startY, endX, endY) = row\n",
        "\n",
        "\t# derive the path to the input image, load the image (in OpenCV\n",
        "\t# format), and grab its dimensions\n",
        "\timagePath = os.path.sep.join([config.IMAGES_PATH, filename])\n",
        "\timage = cv2.imread(imagePath)\n",
        "\t(h, w) = image.shape[:2]\n",
        "\n",
        "\t# scale the bounding box coordinates relative to the spatial\n",
        "\t# dimensions of the input image\n",
        "\tstartX = float(startX) / w\n",
        "\tstartY = float(startY) / h\n",
        "\tendX = float(endX) / w\n",
        "\tendY = float(endY) / h\n",
        "\n",
        "\t# load the image and preprocess it\n",
        "\timage = load_img(imagePath, target_size=(224, 224))\n",
        "\timage = img_to_array(image)\n",
        "\n",
        "\t# update our list of data, targets, and filenames\n",
        "\tdata.append(image)\n",
        "\ttargets.append((startX, startY, endX, endY))\n",
        "\tfilenames.append(filename)"
      ]
    },
    {
      "cell_type": "code",
      "execution_count": null,
      "metadata": {
        "id": "fFD_fim7s6BE",
        "vscode": {
          "languageId": "python"
        }
      },
      "outputs": [],
      "source": [
        "# convert the data and targets to NumPy arrays, scaling the input\n",
        "# pixel intensities from the range [0, 255] to [0, 1]\n",
        "data = np.array(data, dtype=\"float32\") / 255.0\n",
        "targets = np.array(targets, dtype=\"float32\")\n",
        "\n",
        "# partition the data into training and testing splits using 90% of\n",
        "# the data for training and the remaining 10% for testing\n",
        "split = train_test_split(data, targets, filenames, test_size=0.10,\n",
        "\trandom_state=42)\n",
        "\n",
        "# unpack the data split\n",
        "(trainImages, testImages) = split[:2]\n",
        "(trainTargets, testTargets) = split[2:4]\n",
        "(trainFilenames, testFilenames) = split[4:]\n",
        "\n",
        "# write the testing filenames to disk so that we can use then\n",
        "# when evaluating/testing our bounding box regressor\n",
        "print(\"[INFO] saving testing filenames...\")\n",
        "f = open(config.TEST_FILENAMES, \"w\")\n",
        "f.write(\"\\n\".join(testFilenames))\n",
        "f.close()"
      ]
    },
    {
      "cell_type": "code",
      "execution_count": null,
      "metadata": {
        "id": "SAh63isxtftN",
        "vscode": {
          "languageId": "python"
        }
      },
      "outputs": [],
      "source": [
        "# load the VGG16 network, ensuring the head FC layers are left off\n",
        "vgg = VGG16(weights=\"imagenet\", include_top=False,\n",
        "\tinput_tensor=Input(shape=(224, 224, 3)))\n",
        "\n",
        "# freeze all VGG layers so they will *not* be updated during the\n",
        "# training process\n",
        "vgg.trainable = False\n",
        "\n",
        "# flatten the max-pooling output of VGG\n",
        "flatten = vgg.output\n",
        "flatten = Flatten()(flatten)\n",
        "\n",
        "# construct a fully-connected layer header to output the predicted\n",
        "# bounding box coordinates\n",
        "bboxHead = Dense(128, activation=\"relu\")(flatten)\n",
        "bboxHead = Dense(64, activation=\"relu\")(bboxHead)\n",
        "bboxHead = Dense(32, activation=\"relu\")(bboxHead)\n",
        "bboxHead = Dense(4, activation=\"sigmoid\")(bboxHead)\n",
        "\n",
        "# construct the model we will fine-tune for bounding box regression\n",
        "model = Model(inputs=vgg.input, outputs=bboxHead)"
      ]
    },
    {
      "cell_type": "code",
      "execution_count": null,
      "metadata": {
        "id": "BuFULZYGtpg9",
        "vscode": {
          "languageId": "python"
        }
      },
      "outputs": [],
      "source": [
        "# initialize the optimizer, compile the model, and show the model\n",
        "# summary\n",
        "opt = Adam(lr=config.INIT_LR)\n",
        "model.compile(loss=\"mse\", optimizer=opt)\n",
        "print(model.summary())\n",
        "\n",
        "# train the network for bounding box regression\n",
        "print(\"[INFO] training bounding box regressor...\")\n",
        "H = model.fit(\n",
        "\ttrainImages, trainTargets,\n",
        "\tvalidation_data=(testImages, testTargets),\n",
        "\tbatch_size=config.BATCH_SIZE,\n",
        "\tepochs=config.NUM_EPOCHS,\n",
        "\tverbose=1)"
      ]
    },
    {
      "cell_type": "code",
      "execution_count": null,
      "metadata": {
        "id": "wNVudzmsudbu",
        "vscode": {
          "languageId": "python"
        }
      },
      "outputs": [],
      "source": [
        "# serialize the model to disk\n",
        "print(\"[INFO] saving object detector model...\")\n",
        "model.save(config.MODEL_PATH, save_format=\"h5\")\n",
        "\n",
        "# plot the model training history\n",
        "N = config.NUM_EPOCHS\n",
        "plt.style.use(\"ggplot\")\n",
        "plt.figure()\n",
        "plt.plot(np.arange(0, N), H.history[\"loss\"], label=\"train_loss\")\n",
        "plt.plot(np.arange(0, N), H.history[\"val_loss\"], label=\"val_loss\")\n",
        "plt.title(\"Bounding Box Regression Loss on Training Set\")\n",
        "plt.xlabel(\"Epoch #\")\n",
        "plt.ylabel(\"Loss\")\n",
        "plt.legend(loc=\"lower left\")\n",
        "plt.show()"
      ]
    },
    {
      "attachments": {},
      "cell_type": "markdown",
      "metadata": {
        "id": "1uQa4KMvTB08"
      },
      "source": [
        "### Implementing our bounding box predictor with Keras and TensorFlow"
      ]
    },
    {
      "cell_type": "code",
      "execution_count": null,
      "metadata": {
        "id": "vWQ5ES51vgSK",
        "vscode": {
          "languageId": "python"
        }
      },
      "outputs": [],
      "source": [
        "# # construct the argument parser and parse the arguments\n",
        "# ap = argparse.ArgumentParser()\n",
        "# ap.add_argument(\"-i\", \"--input\", required=True,\n",
        "# \thelp=\"path to input image/text file of image filenames\")\n",
        "# args = vars(ap.parse_args())\n",
        "\n",
        "# since we are using Jupyter Notebooks we can replace our argument\n",
        "# parsing code with *hard coded* arguments and values\n",
        "args = {\n",
        "    \"input\": \"output/test_images.txt\"\n",
        "}"
      ]
    },
    {
      "cell_type": "code",
      "execution_count": null,
      "metadata": {
        "id": "lFPJni-ev5_y",
        "vscode": {
          "languageId": "python"
        }
      },
      "outputs": [],
      "source": [
        "# determine the input file type, but assume that we're working with\n",
        "# single input image\n",
        "filetype = mimetypes.guess_type(args[\"input\"])[0]\n",
        "imagePaths = [args[\"input\"]]\n",
        "\n",
        "# if the file type is a text file, then we need to process *multiple*\n",
        "# images\n",
        "if \"text/plain\" == filetype:\n",
        "\t# load the filenames in our testing file and initialize our list\n",
        "\t# of image paths\n",
        "\tfilenames = open(args[\"input\"]).read().strip().split(\"\\n\")\n",
        "\timagePaths = []\n",
        "\n",
        "\t# loop over the filenames\n",
        "\tfor f in filenames:\n",
        "\t\t# construct the full path to the image filename and then\n",
        "\t\t# update our image paths list\n",
        "\t\tp = os.path.sep.join([config.IMAGES_PATH, f])\n",
        "\t\timagePaths.append(p)"
      ]
    },
    {
      "cell_type": "code",
      "execution_count": null,
      "metadata": {
        "id": "cTJXQLBFwBGt",
        "vscode": {
          "languageId": "python"
        }
      },
      "outputs": [],
      "source": [
        "# load our trained bounding box regressor from disk\n",
        "print(\"[INFO] loading object detector...\")\n",
        "model = load_model(config.MODEL_PATH)\n",
        "\n",
        "# loop over the images that we'll be testing using our bounding box\n",
        "# regression model\n",
        "for imagePath in imagePaths:\n",
        "\t# load the input image (in Keras format) from disk and preprocess\n",
        "\t# it, scaling the pixel intensities to the range [0, 1]\n",
        "\timage = load_img(imagePath, target_size=(224, 224))\n",
        "\timage = img_to_array(image) / 255.0\n",
        "\timage = np.expand_dims(image, axis=0)\n",
        "\n",
        "\t# make bounding box predictions on the input image\n",
        "\tpreds = model.predict(image)[0]\n",
        "\t(startX, startY, endX, endY) = preds\n",
        "\n",
        "\t# load the input image (in OpenCV format), resize it such that it\n",
        "\t# fits on our screen, and grab its dimensions\n",
        "\timage = cv2.imread(imagePath)\n",
        "\timage = imutils.resize(image, width=600)\n",
        "\t(h, w) = image.shape[:2]\n",
        "\n",
        "\t# scale the predicted bounding box coordinates based on the image\n",
        "\t# dimensions\n",
        "\tstartX = int(startX * w)\n",
        "\tstartY = int(startY * h)\n",
        "\tendX = int(endX * w)\n",
        "\tendY = int(endY * h)\n",
        "\n",
        "\t# draw the predicted bounding box on the image\n",
        "\tcv2.rectangle(image, (startX, startY), (endX, endY),\n",
        "\t\t(0, 255, 0), 2)\n",
        "\n",
        "\t# show the output image\n",
        "\tplt_imshow(\"Output\", image)"
      ]
    }
  ],
  "metadata": {
    "accelerator": "GPU",
    "colab": {
      "provenance": []
    },
    "kernelspec": {
      "display_name": "Python 3",
      "name": "python3"
    }
  },
  "nbformat": 4,
  "nbformat_minor": 0
}
