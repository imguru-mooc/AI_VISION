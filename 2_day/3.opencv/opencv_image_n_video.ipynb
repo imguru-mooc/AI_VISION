{
 "cells": [
  {
   "attachments": {},
   "cell_type": "markdown",
   "metadata": {
    "id": "U7liqAn57H6r"
   },
   "source": [
    "### OpenCV의 이미지와 영상 처리\n",
    "\n",
    "* Python에서 사용되는 여러 image라이브러리를 간단히 살펴보고 OpenCV와의 차이 이해\n",
    "* OpenCV의 단일 이미지 처리 방식 이해 \n",
    "* OpenCV의 비디오 영상 처리 방식 이해"
   ]
  },
  {
   "attachments": {},
   "cell_type": "markdown",
   "metadata": {
    "id": "EuEb6Ehy7H6v"
   },
   "source": [
    "#### OpenCV 이미지 처리 이해 및 타 패키지 비교"
   ]
  },
  {
   "attachments": {},
   "cell_type": "markdown",
   "metadata": {
    "id": "1vph-lIJ7H6w"
   },
   "source": [
    "#### PIL 패키지를 이용하여 이미지 로드하기"
   ]
  },
  {
   "cell_type": "code",
   "execution_count": null,
   "metadata": {
    "colab": {
     "base_uri": "https://localhost:8080/",
     "height": 528
    },
    "executionInfo": {
     "elapsed": 2377,
     "status": "ok",
     "timestamp": 1622724446276,
     "user": {
      "displayName": "권철민",
      "photoUrl": "",
      "userId": "03917677622451543916"
     },
     "user_tz": -540
    },
    "id": "APWb9jgC7H6y",
    "outputId": "a44ebd9f-ad6b-40ad-bc04-ea65c2f46ca0"
   },
   "outputs": [],
   "source": [
    "import matplotlib.pyplot as plt\n",
    "import os\n",
    "\n",
    "from PIL import Image\n",
    "\n",
    "# PIL은 oepn()으로 image file을 읽어서 ImageFile객체로 생성.  \n",
    "pil_image = Image.open('data/sample1.jpg')\n",
    "print('image type:', type(pil_image))\n",
    "\n",
    "plt.figure(figsize=(10, 10))\n",
    "plt.imshow(pil_image)\n",
    "plt.show()"
   ]
  },
  {
   "attachments": {},
   "cell_type": "markdown",
   "metadata": {
    "id": "STD0XgTp7H7J"
   },
   "source": [
    "#### OpenCV로 이미지 로드하기\n",
    "* OpenCV는 imread()를 이용하여 원본 RGB 이미지를 BGR 형태의 넘파이 배열로 반환함.  \n",
    "* OpenCV의 imwrite()를 이용한다면 BGR 형태의 이미지 배열을 파일에 기록할 때 다시 RGB형태로 변환하므로 사용자는 RGB->BGR->RGB 변환에 신경쓰지 않아도 됨. "
   ]
  },
  {
   "cell_type": "code",
   "execution_count": null,
   "metadata": {
    "colab": {
     "base_uri": "https://localhost:8080/",
     "height": 528
    },
    "executionInfo": {
     "elapsed": 2132,
     "status": "ok",
     "timestamp": 1622724709975,
     "user": {
      "displayName": "권철민",
      "photoUrl": "",
      "userId": "03917677622451543916"
     },
     "user_tz": -540
    },
    "id": "TkkZvcaz7H7L",
    "outputId": "fb54b341-9857-4ac4-9434-d378763fd947"
   },
   "outputs": [],
   "source": [
    "import cv2\n",
    "\n",
    "cv2_image = cv2.imread('data/sample1.jpg')\n",
    "cv2.imwrite('data/sample1_copy.jpg', cv2_image)\n",
    "print('cv_image type:', type(cv2_image), ' cv_image shape:', cv2_image.shape)\n",
    "\n",
    "plt.figure(figsize=(10, 10))\n",
    "img = plt.imread('data/sample1_copy.jpg')\n",
    "plt.imshow(img)\n",
    "plt.show()\n"
   ]
  },
  {
   "attachments": {},
   "cell_type": "markdown",
   "metadata": {
    "id": "Tygi0wV07H7S"
   },
   "source": [
    "#### OpenCV의 imread()로 반환된 BGR 이미지 넘파이 배열을 그대로 시각화 하기\n",
    "* OpenCV의 imread()는 RGB를 BGR로 변환하므로 원하지 않는 이미지가 출력됨"
   ]
  },
  {
   "cell_type": "code",
   "execution_count": null,
   "metadata": {
    "colab": {
     "base_uri": "https://localhost:8080/",
     "height": 490
    },
    "executionInfo": {
     "elapsed": 1799,
     "status": "ok",
     "timestamp": 1622724732305,
     "user": {
      "displayName": "권철민",
      "photoUrl": "",
      "userId": "03917677622451543916"
     },
     "user_tz": -540
    },
    "id": "qnCECUv67H7U",
    "outputId": "8055bd4d-ed07-4778-80e2-11c1fc586bea"
   },
   "outputs": [],
   "source": [
    "cv2_image = cv2.imread('data/sample1.jpg')\n",
    "\n",
    "plt.figure(figsize=(10, 10))\n",
    "plt.imshow(cv2_image)\n",
    "plt.show()"
   ]
  },
  {
   "cell_type": "code",
   "execution_count": null,
   "metadata": {
    "colab": {
     "base_uri": "https://localhost:8080/"
    },
    "executionInfo": {
     "elapsed": 285,
     "status": "ok",
     "timestamp": 1622724787527,
     "user": {
      "displayName": "권철민",
      "photoUrl": "",
      "userId": "03917677622451543916"
     },
     "user_tz": -540
    },
    "id": "svxZDSYo7H7i",
    "outputId": "0470a03b-6607-40fe-c905-3eb03e67934b"
   },
   "outputs": [],
   "source": [
    "cv2_image = cv2.imread('data/sample1.jpg')\n",
    "print(type(cv2_image))\n",
    "print(cv2_image.shape)\n",
    "cv2_image[:, :, 0]"
   ]
  },
  {
   "cell_type": "code",
   "execution_count": null,
   "metadata": {
    "colab": {
     "base_uri": "https://localhost:8080/"
    },
    "executionInfo": {
     "elapsed": 298,
     "status": "ok",
     "timestamp": 1622724832680,
     "user": {
      "displayName": "권철민",
      "photoUrl": "",
      "userId": "03917677622451543916"
     },
     "user_tz": -540
    },
    "id": "Ckphj0fX7H7o",
    "outputId": "4aca54cf-1a74-47a7-e36a-31b268fc3687"
   },
   "outputs": [],
   "source": [
    "cv2_image[:, :, 2]"
   ]
  },
  {
   "cell_type": "code",
   "execution_count": null,
   "metadata": {
    "colab": {
     "base_uri": "https://localhost:8080/",
     "height": 490
    },
    "executionInfo": {
     "elapsed": 1752,
     "status": "ok",
     "timestamp": 1622724867128,
     "user": {
      "displayName": "권철민",
      "photoUrl": "",
      "userId": "03917677622451543916"
     },
     "user_tz": -540
    },
    "id": "XJK-xUmk7H7t",
    "outputId": "6cf698bd-bbed-4653-e3f1-5d006ad09a7a"
   },
   "outputs": [],
   "source": [
    "cv2_image = cv2.imread('data/sample1.jpg')\n",
    "draw_image = cv2.cvtColor(cv2_image, cv2.COLOR_BGR2RGB)\n",
    "\n",
    "plt.figure(figsize=(10, 10))\n",
    "plt.imshow(draw_image)\n",
    "plt.show()"
   ]
  },
  {
   "attachments": {},
   "cell_type": "markdown",
   "metadata": {
    "id": "tn1O-hUx7H7z"
   },
   "source": [
    "#### OpenCV 영상처리\n",
    "* OpenCV는 간편하게 비디오 영상처리를 할 수 있는 API를 제공\n",
    "* VideoCapture 객체는 Video Streaming을 Frame 별로 Capture하여 처리할 수 있는 기능 제공"
   ]
  },
  {
   "cell_type": "code",
   "execution_count": null,
   "metadata": {
    "colab": {
     "base_uri": "https://localhost:8080/"
    },
    "executionInfo": {
     "elapsed": 286,
     "status": "ok",
     "timestamp": 1622725898540,
     "user": {
      "displayName": "권철민",
      "photoUrl": "",
      "userId": "03917677622451543916"
     },
     "user_tz": -540
    },
    "id": "Or4zbC2F7H76",
    "outputId": "23b2c1be-925e-48af-d243-5bafd52c486b"
   },
   "outputs": [],
   "source": [
    "import cv2\n",
    "\n",
    "video_input_path = 'data/sample1.mp4'\n",
    "\n",
    "cap = cv2.VideoCapture(video_input_path)\n",
    "\n",
    "vid_size = (round(cap.get(cv2.CAP_PROP_FRAME_WIDTH)),round(cap.get(cv2.CAP_PROP_FRAME_HEIGHT))) #(200, 400)\n",
    "vid_fps = cap.get(cv2.CAP_PROP_FPS )\n",
    "    \n",
    "frame_cnt = int(cap.get(cv2.CAP_PROP_FRAME_COUNT))\n",
    "print('총 Frame 갯수:', frame_cnt, 'FPS:', round(vid_fps), 'Frame 크기:', vid_size)"
   ]
  },
  {
   "cell_type": "code",
   "execution_count": null,
   "metadata": {
    "colab": {
     "base_uri": "https://localhost:8080/"
    },
    "executionInfo": {
     "elapsed": 15737,
     "status": "ok",
     "timestamp": 1622725982432,
     "user": {
      "displayName": "권철민",
      "photoUrl": "",
      "userId": "03917677622451543916"
     },
     "user_tz": -540
    },
    "id": "N7RxsgXw7H7_",
    "outputId": "d05a0253-c70a-4ba3-e695-9539ecac8110"
   },
   "outputs": [],
   "source": [
    "import time\n",
    "from PIL import Image\n",
    "import IPython.display as display\n",
    "\n",
    "green_color=(0, 255, 0)\n",
    "red_color=(0, 0, 255)\n",
    "\n",
    "start = time.time()\n",
    "index=0\n",
    "while True:\n",
    "    hasFrame, img_frame = cap.read()\n",
    "    if not hasFrame:\n",
    "        print('더 이상 처리할 frame이 없습니다.')\n",
    "        break\n",
    "    index += 1\n",
    "    # print('frame :', index, '처리 완료')\n",
    "    \n",
    "    clone = img_frame.copy()\n",
    "    clone = cv2.cvtColor(clone, cv2.COLOR_BGR2RGB)\n",
    "    clone = cv2.resize(clone,(640,440))\n",
    "    cv2.rectangle(clone, (300, 100, 500, 400), color=green_color, thickness=2)\n",
    "    caption = \"frame:{}\".format(index)\n",
    "    cv2.putText(clone, caption, (300, 95), cv2.FONT_HERSHEY_SIMPLEX, 0.7, red_color, 1)    \n",
    "    display.clear_output(wait=True)\n",
    "    display.display(Image.fromarray(clone))\n",
    "    \n",
    "print('write 완료 시간:', round(time.time()-start,4))\n",
    "cap.release()   "
   ]
  },
  {
   "cell_type": "code",
   "execution_count": null,
   "metadata": {},
   "outputs": [],
   "source": []
  }
 ],
 "metadata": {
  "colab": {
   "collapsed_sections": [],
   "name": "opencv_image_n_video.ipynb",
   "provenance": [],
   "toc_visible": true
  },
  "kernelspec": {
   "display_name": "Python 3 (ipykernel)",
   "language": "python",
   "name": "python3"
  },
  "language_info": {
   "codemirror_mode": {
    "name": "ipython",
    "version": 3
   },
   "file_extension": ".py",
   "mimetype": "text/x-python",
   "name": "python",
   "nbconvert_exporter": "python",
   "pygments_lexer": "ipython3",
   "version": "3.8.10"
  }
 },
 "nbformat": 4,
 "nbformat_minor": 4
}
